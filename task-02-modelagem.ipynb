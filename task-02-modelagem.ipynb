{
 "cells": [
  {
   "cell_type": "markdown",
   "id": "1b36f33d",
   "metadata": {
    "papermill": {
     "duration": 0.076218,
     "end_time": "2022-04-25T11:44:31.738544",
     "exception": false,
     "start_time": "2022-04-25T11:44:31.662326",
     "status": "completed"
    },
    "tags": []
   },
   "source": [
    "# Modelagem"
   ]
  },
  {
   "cell_type": "markdown",
   "id": "419747ea",
   "metadata": {
    "papermill": {
     "duration": 0.074367,
     "end_time": "2022-04-25T11:44:31.891874",
     "exception": false,
     "start_time": "2022-04-25T11:44:31.817507",
     "status": "completed"
    },
    "tags": []
   },
   "source": [
    "---"
   ]
  },
  {
   "cell_type": "markdown",
   "id": "5258ea0c",
   "metadata": {
    "papermill": {
     "duration": 0.074109,
     "end_time": "2022-04-25T11:44:32.040787",
     "exception": false,
     "start_time": "2022-04-25T11:44:31.966678",
     "status": "completed"
    },
    "tags": []
   },
   "source": [
    "# 1. Pré-processamento"
   ]
  },
  {
   "cell_type": "markdown",
   "id": "f93c8190",
   "metadata": {
    "papermill": {
     "duration": 0.07478,
     "end_time": "2022-04-25T11:44:32.190171",
     "exception": false,
     "start_time": "2022-04-25T11:44:32.115391",
     "status": "completed"
    },
    "tags": []
   },
   "source": [
    "## 1.1 Carregamentos & importações"
   ]
  },
  {
   "cell_type": "code",
   "execution_count": 1,
   "id": "93b065a0",
   "metadata": {
    "execution": {
     "iopub.execute_input": "2022-04-25T11:44:32.344081Z",
     "iopub.status.busy": "2022-04-25T11:44:32.342884Z",
     "iopub.status.idle": "2022-04-25T11:44:32.346809Z",
     "shell.execute_reply": "2022-04-25T11:44:32.346227Z",
     "shell.execute_reply.started": "2022-04-25T11:43:26.787123Z"
    },
    "papermill": {
     "duration": 0.0858,
     "end_time": "2022-04-25T11:44:32.346954",
     "exception": false,
     "start_time": "2022-04-25T11:44:32.261154",
     "status": "completed"
    },
    "tags": []
   },
   "outputs": [],
   "source": [
    "import pandas as pd\n",
    "import numpy as np"
   ]
  },
  {
   "cell_type": "code",
   "execution_count": 2,
   "id": "f0f4d606",
   "metadata": {
    "execution": {
     "iopub.execute_input": "2022-04-25T11:44:32.492464Z",
     "iopub.status.busy": "2022-04-25T11:44:32.491455Z",
     "iopub.status.idle": "2022-04-25T11:44:32.537819Z",
     "shell.execute_reply": "2022-04-25T11:44:32.538518Z",
     "shell.execute_reply.started": "2022-04-12T16:15:37.350403Z"
    },
    "papermill": {
     "duration": 0.121316,
     "end_time": "2022-04-25T11:44:32.538707",
     "exception": false,
     "start_time": "2022-04-25T11:44:32.417391",
     "status": "completed"
    },
    "tags": []
   },
   "outputs": [],
   "source": [
    "df_train_raw = pd.read_csv('/kaggle/input/task-02-car-price-prediction/train_car_details.csv')\n",
    "df_test_raw = pd.read_csv('/kaggle/input/task-02-car-price-prediction/test_car_details.csv')"
   ]
  },
  {
   "cell_type": "markdown",
   "id": "ac103bdd",
   "metadata": {
    "papermill": {
     "duration": 0.06904,
     "end_time": "2022-04-25T11:44:32.678152",
     "exception": false,
     "start_time": "2022-04-25T11:44:32.609112",
     "status": "completed"
    },
    "tags": []
   },
   "source": [
    "## 1.2 Formatação nomes das colunas"
   ]
  },
  {
   "cell_type": "code",
   "execution_count": 3,
   "id": "c654c820",
   "metadata": {
    "execution": {
     "iopub.execute_input": "2022-04-25T11:44:32.828529Z",
     "iopub.status.busy": "2022-04-25T11:44:32.827590Z",
     "iopub.status.idle": "2022-04-25T11:44:32.829325Z",
     "shell.execute_reply": "2022-04-25T11:44:32.829878Z",
     "shell.execute_reply.started": "2022-04-12T16:25:53.645699Z"
    },
    "papermill": {
     "duration": 0.080259,
     "end_time": "2022-04-25T11:44:32.830024",
     "exception": false,
     "start_time": "2022-04-25T11:44:32.749765",
     "status": "completed"
    },
    "tags": []
   },
   "outputs": [],
   "source": [
    "def fix_col_names(_df: pd.DataFrame, silent: bool = True) -> pd.DataFrame:\n",
    "    ''' Strips and lowercases DataFrame columns '''\n",
    "    df = _df.copy()\n",
    "    og_cols = df.columns.to_list()\n",
    "\n",
    "    df.columns = df.columns \\\n",
    "        .str.lower() \\\n",
    "        .str.strip()\n",
    "    \n",
    "    max_col_name_size = len(max(og_cols, key=lambda x: len(x))) + 5\n",
    "    if not silent:\n",
    "        for og, new in zip(og_cols, df.columns.to_list()):\n",
    "            print(f'{og: <{max_col_name_size}} -> {new}')\n",
    "\n",
    "    return df"
   ]
  },
  {
   "cell_type": "markdown",
   "id": "f90b9413",
   "metadata": {
    "papermill": {
     "duration": 0.070288,
     "end_time": "2022-04-25T11:44:32.971979",
     "exception": false,
     "start_time": "2022-04-25T11:44:32.901691",
     "status": "completed"
    },
    "tags": []
   },
   "source": [
    "## 1.3 Conversão das colunas object numéricas em float64"
   ]
  },
  {
   "cell_type": "code",
   "execution_count": 4,
   "id": "e1c58b75",
   "metadata": {
    "execution": {
     "iopub.execute_input": "2022-04-25T11:44:33.121006Z",
     "iopub.status.busy": "2022-04-25T11:44:33.120084Z",
     "iopub.status.idle": "2022-04-25T11:44:33.122057Z",
     "shell.execute_reply": "2022-04-25T11:44:33.122450Z",
     "shell.execute_reply.started": "2022-04-12T16:15:43.016799Z"
    },
    "papermill": {
     "duration": 0.079777,
     "end_time": "2022-04-25T11:44:33.122613",
     "exception": false,
     "start_time": "2022-04-25T11:44:33.042836",
     "status": "completed"
    },
    "tags": []
   },
   "outputs": [],
   "source": [
    "def extract_obj_num_col(series: pd.Series, re_pattern: str) -> pd.Series:\n",
    "    ''' Extracts regex pattern from series and converts to float64 '''\n",
    "    return series.str.extract(re_pattern, expand=False).astype(np.float64)\n",
    "\n",
    "def extract_obj_num_col_value_conversion(series: pd.Series, re_pattern: str, convert_values_string: str = '', conversion_rate: float = 1) -> pd.Series:\n",
    "    ''' Runs extract_obj_num_col and scales values by given amount '''\n",
    "    conv_rate = series.str.lower() \\\n",
    "        .str.contains(convert_values_string, na=False) \\\n",
    "        .map({False: 1, True: conversion_rate})\n",
    "\n",
    "\n",
    "    extracted = extract_obj_num_col(series, re_pattern)\n",
    "    post_conv = conv_rate * extracted\n",
    "\n",
    "    return post_conv"
   ]
  },
  {
   "cell_type": "markdown",
   "id": "852146b0",
   "metadata": {
    "papermill": {
     "duration": 0.071228,
     "end_time": "2022-04-25T11:44:33.264269",
     "exception": false,
     "start_time": "2022-04-25T11:44:33.193041",
     "status": "completed"
    },
    "tags": []
   },
   "source": [
    "## 1.4 Marcas e modelos"
   ]
  },
  {
   "cell_type": "code",
   "execution_count": 5,
   "id": "aab028a7",
   "metadata": {
    "execution": {
     "iopub.execute_input": "2022-04-25T11:44:33.410845Z",
     "iopub.status.busy": "2022-04-25T11:44:33.409915Z",
     "iopub.status.idle": "2022-04-25T11:44:33.411649Z",
     "shell.execute_reply": "2022-04-25T11:44:33.412117Z",
     "shell.execute_reply.started": "2022-04-12T16:15:44.670557Z"
    },
    "papermill": {
     "duration": 0.07757,
     "end_time": "2022-04-25T11:44:33.412252",
     "exception": false,
     "start_time": "2022-04-25T11:44:33.334682",
     "status": "completed"
    },
    "tags": []
   },
   "outputs": [],
   "source": [
    "def extract_brand_model(df: pd.DataFrame, col_name: str = 'name'):\n",
    "    brand = df[col_name].str.split().str[0]\n",
    "    model = df[col_name].str.split().str[1]\n",
    "    extra = df[col_name].str.split().str[2:].str.join(' ')\n",
    "    \n",
    "    return brand, model, extra"
   ]
  },
  {
   "cell_type": "markdown",
   "id": "1b270c9a",
   "metadata": {
    "papermill": {
     "duration": 0.069426,
     "end_time": "2022-04-25T11:44:33.595571",
     "exception": false,
     "start_time": "2022-04-25T11:44:33.526145",
     "status": "completed"
    },
    "tags": []
   },
   "source": [
    "## 1.5 Juntando todos os passos"
   ]
  },
  {
   "cell_type": "code",
   "execution_count": 6,
   "id": "fbf5e608",
   "metadata": {
    "execution": {
     "iopub.execute_input": "2022-04-25T11:44:33.743346Z",
     "iopub.status.busy": "2022-04-25T11:44:33.742560Z",
     "iopub.status.idle": "2022-04-25T11:44:34.713062Z",
     "shell.execute_reply": "2022-04-25T11:44:34.712525Z",
     "shell.execute_reply.started": "2022-04-12T16:15:46.111011Z"
    },
    "papermill": {
     "duration": 1.047944,
     "end_time": "2022-04-25T11:44:34.713202",
     "exception": false,
     "start_time": "2022-04-25T11:44:33.665258",
     "status": "completed"
    },
    "tags": []
   },
   "outputs": [],
   "source": [
    "from typing import Tuple\n",
    "from sklearn.model_selection import train_test_split\n",
    "from sklearn.impute import SimpleImputer\n",
    "from sklearn.preprocessing import OrdinalEncoder"
   ]
  },
  {
   "cell_type": "code",
   "execution_count": 7,
   "id": "43d709a4",
   "metadata": {
    "execution": {
     "iopub.execute_input": "2022-04-25T11:44:34.867171Z",
     "iopub.status.busy": "2022-04-25T11:44:34.866265Z",
     "iopub.status.idle": "2022-04-25T11:44:34.868226Z",
     "shell.execute_reply": "2022-04-25T11:44:34.868661Z",
     "shell.execute_reply.started": "2022-04-12T17:22:56.068233Z"
    },
    "papermill": {
     "duration": 0.084537,
     "end_time": "2022-04-25T11:44:34.868802",
     "exception": false,
     "start_time": "2022-04-25T11:44:34.784265",
     "status": "completed"
    },
    "tags": []
   },
   "outputs": [],
   "source": [
    "def preprocess(\n",
    "    train_set: pd.DataFrame, \n",
    "    submission_set: pd.DataFrame,\n",
    "    target: str,\n",
    "    split_data: bool = True,\n",
    "    test_size: float = 0.3,\n",
    ") -> Tuple[pd.DataFrame, ...]:\n",
    "    \n",
    "    # col names\n",
    "    df_train = fix_col_names(train_set)\n",
    "    df_test = fix_col_names(submission_set)\n",
    "    \n",
    "    # obj col to num\n",
    "    ## train\n",
    "    pattern = '(\\d+.\\d+)'\n",
    "    df_train['mileage'] = extract_obj_num_col(df_train['mileage'], pattern)\n",
    "    df_train['engine'] = extract_obj_num_col(df_train['engine'], pattern)\n",
    "    df_train['max_power'] = extract_obj_num_col(df_train['max_power'], pattern)\n",
    "\n",
    "    pattern_torque = '(\\d+[.\\d]?)'\n",
    "    df_train['torque'] = extract_obj_num_col_value_conversion(\n",
    "        df_train['torque'], pattern_torque, convert_values_string='kgm', conversion_rate=9.80665\n",
    "    )\n",
    "    ## test\n",
    "    pattern = '(\\d+.\\d+)'\n",
    "    df_test['mileage'] = extract_obj_num_col(df_test['mileage'], pattern)\n",
    "    df_test['engine'] = extract_obj_num_col(df_test['engine'], pattern)\n",
    "    df_test['max_power'] = extract_obj_num_col(df_test['max_power'], pattern)\n",
    "\n",
    "    pattern_torque = '(\\d+[.\\d]?)'\n",
    "    df_test['torque'] = extract_obj_num_col_value_conversion(\n",
    "        df_test['torque'], pattern_torque, convert_values_string='kgm', conversion_rate=9.80665\n",
    "    )\n",
    "    \n",
    "    # brands and models\n",
    "    ## train\n",
    "    df_train['brand'], df_train['model'], df_train['extra'] = extract_brand_model(df_train)\n",
    "    \n",
    "    ## test\n",
    "    df_test['brand'], df_test['model'], df_test['extra'] = extract_brand_model(df_test)\n",
    "\n",
    "    # x & y\n",
    "    x_final = df_train.copy().drop(target, axis=1)\n",
    "    y_final = df_train[target]\n",
    "\n",
    "    if split_data:\n",
    "        # splits\n",
    "        x_train, x_test, y_train, y_test = train_test_split(\n",
    "            x_final, y_final, test_size=test_size, random_state=22\n",
    "        )\n",
    "\n",
    "        return x_train, x_test, y_train, y_test, x_final, y_final, df_test\n",
    "\n",
    "    return x_final, y_final, df_test"
   ]
  },
  {
   "cell_type": "code",
   "execution_count": 8,
   "id": "c3d43aa5",
   "metadata": {
    "execution": {
     "iopub.execute_input": "2022-04-25T11:44:35.013908Z",
     "iopub.status.busy": "2022-04-25T11:44:35.013033Z",
     "iopub.status.idle": "2022-04-25T11:44:35.138829Z",
     "shell.execute_reply": "2022-04-25T11:44:35.139321Z",
     "shell.execute_reply.started": "2022-04-12T16:25:59.464287Z"
    },
    "papermill": {
     "duration": 0.200448,
     "end_time": "2022-04-25T11:44:35.139483",
     "exception": false,
     "start_time": "2022-04-25T11:44:34.939035",
     "status": "completed"
    },
    "tags": []
   },
   "outputs": [
    {
     "name": "stdout",
     "output_type": "stream",
     "text": [
      "\n",
      "    x_train: (3982, 16), y_train: (3982,)\n",
      "    x_test:  (1707, 16), y_test:  (1707,)\n",
      "    \n",
      "    x_final: (5689, 16), y_final: (5689,)\n",
      "    x_submission: (2375, 16)\n",
      "    \n",
      "\n"
     ]
    }
   ],
   "source": [
    "x_train, x_test, y_train, y_test, x_final, y_final, x_submission = preprocess(\n",
    "    df_train_raw, df_test_raw, target='selling_price', split_data=True\n",
    ")\n",
    "\n",
    "print(f'''\n",
    "    x_train: {x_train.shape}, y_train: {y_train.shape}\n",
    "    x_test:  {x_test.shape}, y_test:  {y_test.shape}\n",
    "    \n",
    "    x_final: {x_final.shape}, y_final: {y_final.shape}\n",
    "    x_submission: {x_submission.shape}\n",
    "    \n",
    "''')"
   ]
  },
  {
   "cell_type": "markdown",
   "id": "de8ce812",
   "metadata": {
    "papermill": {
     "duration": 0.075404,
     "end_time": "2022-04-25T11:44:35.287559",
     "exception": false,
     "start_time": "2022-04-25T11:44:35.212155",
     "status": "completed"
    },
    "tags": []
   },
   "source": [
    "---"
   ]
  },
  {
   "cell_type": "markdown",
   "id": "544a46e8",
   "metadata": {
    "papermill": {
     "duration": 0.080251,
     "end_time": "2022-04-25T11:44:35.441895",
     "exception": false,
     "start_time": "2022-04-25T11:44:35.361644",
     "status": "completed"
    },
    "tags": []
   },
   "source": [
    "# 2. Modelos"
   ]
  },
  {
   "cell_type": "code",
   "execution_count": 9,
   "id": "ab131bbd",
   "metadata": {
    "execution": {
     "iopub.execute_input": "2022-04-25T11:44:35.731393Z",
     "iopub.status.busy": "2022-04-25T11:44:35.730439Z",
     "iopub.status.idle": "2022-04-25T11:44:35.732368Z",
     "shell.execute_reply": "2022-04-25T11:44:35.733287Z",
     "shell.execute_reply.started": "2022-04-12T16:26:24.05633Z"
    },
    "papermill": {
     "duration": 0.158348,
     "end_time": "2022-04-25T11:44:35.733479",
     "exception": false,
     "start_time": "2022-04-25T11:44:35.575131",
     "status": "completed"
    },
    "tags": []
   },
   "outputs": [],
   "source": [
    "from sklearn.metrics import r2_score, max_error, explained_variance_score, mean_absolute_error, mean_absolute_percentage_error\n",
    "from datetime import datetime"
   ]
  },
  {
   "cell_type": "code",
   "execution_count": 10,
   "id": "f2eb0cf9",
   "metadata": {
    "execution": {
     "iopub.execute_input": "2022-04-25T11:44:36.000358Z",
     "iopub.status.busy": "2022-04-25T11:44:35.999240Z",
     "iopub.status.idle": "2022-04-25T11:44:36.006528Z",
     "shell.execute_reply": "2022-04-25T11:44:36.007379Z",
     "shell.execute_reply.started": "2022-04-12T16:26:28.031363Z"
    },
    "papermill": {
     "duration": 0.141823,
     "end_time": "2022-04-25T11:44:36.007577",
     "exception": false,
     "start_time": "2022-04-25T11:44:35.865754",
     "status": "completed"
    },
    "tags": []
   },
   "outputs": [],
   "source": [
    "all_scores = {}\n",
    "\n",
    "def show_scores(scores: dict = all_scores):\n",
    "#     display(pd.DataFrame(all_scores))\n",
    "    display(pd.DataFrame(all_scores.values(), index=all_scores.keys()))\n",
    "\n",
    "def calculate_scores(\n",
    "    model_name: str, \n",
    "    y_test: pd.Series, pred: np.ndarray, \n",
    "    score_list: list = all_scores,\n",
    "    display_scores: bool = True\n",
    "    ):   \n",
    "    model_scores = {\n",
    "        'r2_score': round(r2_score(y_test, pred), 4),\n",
    "        'max_error': round(max_error(y_test, pred), 2),\n",
    "        'explained_variance_score': round(explained_variance_score(y_test, pred), 4),\n",
    "        'mean_absolute_error': round(mean_absolute_error(y_test, pred), 2),\n",
    "        'mean_absolute_percentage_error': round(mean_absolute_percentage_error(y_test, pred) * 100, 4)\n",
    "    }\n",
    "    score_list[model_name] = model_scores\n",
    "  \n",
    "    if show_scores:\n",
    "        show_scores(score_list)\n",
    "    return model_scores\n",
    "\n",
    "def export_pred(model_name: str, raw_submission_set: pd.DataFrame, predictions):     \n",
    "    submission = pd.DataFrame({\n",
    "        'Id': raw_submission_set['id'],\n",
    "        'selling_price': predictions\n",
    "    })\n",
    "    \n",
    "    timestamp = datetime.strftime(datetime.now(), '%d-%m-%y_%H%M')\n",
    "    submission.to_csv(f'/kaggle/working/{model_name}_{timestamp}.csv', index=False)"
   ]
  },
  {
   "cell_type": "markdown",
   "id": "75dbe1a5",
   "metadata": {
    "papermill": {
     "duration": 0.070298,
     "end_time": "2022-04-25T11:44:36.165954",
     "exception": false,
     "start_time": "2022-04-25T11:44:36.095656",
     "status": "completed"
    },
    "tags": []
   },
   "source": [
    "# 2.1 SVM"
   ]
  },
  {
   "cell_type": "markdown",
   "id": "8f76b167",
   "metadata": {
    "papermill": {
     "duration": 0.078454,
     "end_time": "2022-04-25T11:44:36.319323",
     "exception": false,
     "start_time": "2022-04-25T11:44:36.240869",
     "status": "completed"
    },
    "tags": []
   },
   "source": [
    "## 2.1.1 Basicão"
   ]
  },
  {
   "cell_type": "code",
   "execution_count": 11,
   "id": "b9c6dae5",
   "metadata": {
    "execution": {
     "iopub.execute_input": "2022-04-25T11:44:36.479371Z",
     "iopub.status.busy": "2022-04-25T11:44:36.478373Z",
     "iopub.status.idle": "2022-04-25T11:44:36.487047Z",
     "shell.execute_reply": "2022-04-25T11:44:36.486508Z",
     "shell.execute_reply.started": "2022-04-12T16:26:35.124027Z"
    },
    "papermill": {
     "duration": 0.089813,
     "end_time": "2022-04-25T11:44:36.487178",
     "exception": false,
     "start_time": "2022-04-25T11:44:36.397365",
     "status": "completed"
    },
    "tags": []
   },
   "outputs": [],
   "source": [
    "from sklearn.svm import SVR\n",
    "from sklearn.pipeline import make_pipeline, FeatureUnion\n",
    "from sklearn.compose import make_column_transformer, make_column_selector\n",
    "from sklearn.preprocessing import StandardScaler, RobustScaler"
   ]
  },
  {
   "cell_type": "code",
   "execution_count": 12,
   "id": "c68a4265",
   "metadata": {
    "execution": {
     "iopub.execute_input": "2022-04-25T11:44:36.642444Z",
     "iopub.status.busy": "2022-04-25T11:44:36.641463Z",
     "iopub.status.idle": "2022-04-25T11:44:36.863711Z",
     "shell.execute_reply": "2022-04-25T11:44:36.864261Z",
     "shell.execute_reply.started": "2022-04-12T16:26:45.768495Z"
    },
    "papermill": {
     "duration": 0.302092,
     "end_time": "2022-04-25T11:44:36.864448",
     "exception": false,
     "start_time": "2022-04-25T11:44:36.562356",
     "status": "completed"
    },
    "tags": []
   },
   "outputs": [],
   "source": [
    "x_train, x_test, y_train, y_test, x_final, y_final, x_submission = preprocess(\n",
    "    df_train_raw, df_test_raw, target='selling_price', split_data=True\n",
    ")\n",
    "\n",
    "preprocess_pipeline = make_column_transformer(\n",
    "    (SimpleImputer(strategy='mean', fill_value='constant'), make_column_selector(dtype_include=np.number)),\n",
    "    (OrdinalEncoder(handle_unknown='use_encoded_value', unknown_value=-1), make_column_selector(dtype_include=object))\n",
    ")\n",
    "\n",
    "\n",
    "svr_basic = make_pipeline(\n",
    "    preprocess_pipeline,\n",
    "    RobustScaler(),\n",
    "    SVR()\n",
    ")"
   ]
  },
  {
   "cell_type": "code",
   "execution_count": 13,
   "id": "73d94678",
   "metadata": {
    "execution": {
     "iopub.execute_input": "2022-04-25T11:44:37.020219Z",
     "iopub.status.busy": "2022-04-25T11:44:37.019040Z",
     "iopub.status.idle": "2022-04-25T11:44:38.255857Z",
     "shell.execute_reply": "2022-04-25T11:44:38.256345Z",
     "shell.execute_reply.started": "2022-04-12T16:26:49.167815Z"
    },
    "papermill": {
     "duration": 1.320856,
     "end_time": "2022-04-25T11:44:38.256509",
     "exception": false,
     "start_time": "2022-04-25T11:44:36.935653",
     "status": "completed"
    },
    "tags": []
   },
   "outputs": [
    {
     "data": {
      "text/html": [
       "<div>\n",
       "<style scoped>\n",
       "    .dataframe tbody tr th:only-of-type {\n",
       "        vertical-align: middle;\n",
       "    }\n",
       "\n",
       "    .dataframe tbody tr th {\n",
       "        vertical-align: top;\n",
       "    }\n",
       "\n",
       "    .dataframe thead th {\n",
       "        text-align: right;\n",
       "    }\n",
       "</style>\n",
       "<table border=\"1\" class=\"dataframe\">\n",
       "  <thead>\n",
       "    <tr style=\"text-align: right;\">\n",
       "      <th></th>\n",
       "      <th>r2_score</th>\n",
       "      <th>max_error</th>\n",
       "      <th>explained_variance_score</th>\n",
       "      <th>mean_absolute_error</th>\n",
       "      <th>mean_absolute_percentage_error</th>\n",
       "    </tr>\n",
       "  </thead>\n",
       "  <tbody>\n",
       "    <tr>\n",
       "      <th>svr_basic</th>\n",
       "      <td>-0.0486</td>\n",
       "      <td>5549934.73</td>\n",
       "      <td>0.0002</td>\n",
       "      <td>376708.86</td>\n",
       "      <td>89.8819</td>\n",
       "    </tr>\n",
       "  </tbody>\n",
       "</table>\n",
       "</div>"
      ],
      "text/plain": [
       "           r2_score   max_error  explained_variance_score  \\\n",
       "svr_basic   -0.0486  5549934.73                    0.0002   \n",
       "\n",
       "           mean_absolute_error  mean_absolute_percentage_error  \n",
       "svr_basic            376708.86                         89.8819  "
      ]
     },
     "metadata": {},
     "output_type": "display_data"
    }
   ],
   "source": [
    "svr_basic.fit(x_train, y_train)\n",
    "\n",
    "_preds = svr_basic.predict(x_test)\n",
    "_ = calculate_scores('svr_basic', y_test, _preds)"
   ]
  },
  {
   "cell_type": "markdown",
   "id": "fcb6681c",
   "metadata": {
    "papermill": {
     "duration": 0.070649,
     "end_time": "2022-04-25T11:44:38.409366",
     "exception": false,
     "start_time": "2022-04-25T11:44:38.338717",
     "status": "completed"
    },
    "tags": []
   },
   "source": [
    "É, não deu pro basicão."
   ]
  },
  {
   "cell_type": "markdown",
   "id": "206103e9",
   "metadata": {
    "papermill": {
     "duration": 0.070917,
     "end_time": "2022-04-25T11:44:38.551959",
     "exception": false,
     "start_time": "2022-04-25T11:44:38.481042",
     "status": "completed"
    },
    "tags": []
   },
   "source": [
    "# 2.2 LinearRegression"
   ]
  },
  {
   "cell_type": "markdown",
   "id": "295abe68",
   "metadata": {
    "papermill": {
     "duration": 0.070913,
     "end_time": "2022-04-25T11:44:38.694081",
     "exception": false,
     "start_time": "2022-04-25T11:44:38.623168",
     "status": "completed"
    },
    "tags": []
   },
   "source": [
    "## 2.2.1 Primo do basicão"
   ]
  },
  {
   "cell_type": "code",
   "execution_count": 14,
   "id": "186f6dbe",
   "metadata": {
    "execution": {
     "iopub.execute_input": "2022-04-25T11:44:38.842478Z",
     "iopub.status.busy": "2022-04-25T11:44:38.841618Z",
     "iopub.status.idle": "2022-04-25T11:44:38.843422Z",
     "shell.execute_reply": "2022-04-25T11:44:38.843919Z",
     "shell.execute_reply.started": "2022-04-12T16:27:00.217206Z"
    },
    "papermill": {
     "duration": 0.078468,
     "end_time": "2022-04-25T11:44:38.844056",
     "exception": false,
     "start_time": "2022-04-25T11:44:38.765588",
     "status": "completed"
    },
    "tags": []
   },
   "outputs": [],
   "source": [
    "from sklearn.linear_model import LinearRegression"
   ]
  },
  {
   "cell_type": "code",
   "execution_count": 15,
   "id": "4c6892b7",
   "metadata": {
    "execution": {
     "iopub.execute_input": "2022-04-25T11:44:38.991475Z",
     "iopub.status.busy": "2022-04-25T11:44:38.990561Z",
     "iopub.status.idle": "2022-04-25T11:44:39.106028Z",
     "shell.execute_reply": "2022-04-25T11:44:39.105504Z",
     "shell.execute_reply.started": "2022-04-12T16:27:06.103673Z"
    },
    "papermill": {
     "duration": 0.191533,
     "end_time": "2022-04-25T11:44:39.106186",
     "exception": false,
     "start_time": "2022-04-25T11:44:38.914653",
     "status": "completed"
    },
    "tags": []
   },
   "outputs": [],
   "source": [
    "x_train, x_test, y_train, y_test, x_final, y_final, x_submission = preprocess(\n",
    "    df_train_raw, df_test_raw, target='selling_price', split_data=True\n",
    ")\n",
    "\n",
    "preprocess_pipeline = make_column_transformer(\n",
    "    (SimpleImputer(strategy='mean', fill_value='constant'), make_column_selector(dtype_include=np.number)),\n",
    "    (OrdinalEncoder(handle_unknown='use_encoded_value', unknown_value=-1), make_column_selector(dtype_include=object))\n",
    ")\n",
    "\n",
    "\n",
    "linreg_basic = make_pipeline(\n",
    "    preprocess_pipeline,\n",
    "    RobustScaler(),\n",
    "    LinearRegression()\n",
    ")"
   ]
  },
  {
   "cell_type": "code",
   "execution_count": 16,
   "id": "de436f1c",
   "metadata": {
    "execution": {
     "iopub.execute_input": "2022-04-25T11:44:39.260370Z",
     "iopub.status.busy": "2022-04-25T11:44:39.259465Z",
     "iopub.status.idle": "2022-04-25T11:44:39.368395Z",
     "shell.execute_reply": "2022-04-25T11:44:39.369177Z",
     "shell.execute_reply.started": "2022-04-12T16:27:09.641069Z"
    },
    "papermill": {
     "duration": 0.192393,
     "end_time": "2022-04-25T11:44:39.369441",
     "exception": false,
     "start_time": "2022-04-25T11:44:39.177048",
     "status": "completed"
    },
    "tags": []
   },
   "outputs": [
    {
     "data": {
      "text/html": [
       "<div>\n",
       "<style scoped>\n",
       "    .dataframe tbody tr th:only-of-type {\n",
       "        vertical-align: middle;\n",
       "    }\n",
       "\n",
       "    .dataframe tbody tr th {\n",
       "        vertical-align: top;\n",
       "    }\n",
       "\n",
       "    .dataframe thead th {\n",
       "        text-align: right;\n",
       "    }\n",
       "</style>\n",
       "<table border=\"1\" class=\"dataframe\">\n",
       "  <thead>\n",
       "    <tr style=\"text-align: right;\">\n",
       "      <th></th>\n",
       "      <th>r2_score</th>\n",
       "      <th>max_error</th>\n",
       "      <th>explained_variance_score</th>\n",
       "      <th>mean_absolute_error</th>\n",
       "      <th>mean_absolute_percentage_error</th>\n",
       "    </tr>\n",
       "  </thead>\n",
       "  <tbody>\n",
       "    <tr>\n",
       "      <th>svr_basic</th>\n",
       "      <td>-0.0486</td>\n",
       "      <td>5549934.73</td>\n",
       "      <td>0.0002</td>\n",
       "      <td>376708.86</td>\n",
       "      <td>89.8819</td>\n",
       "    </tr>\n",
       "    <tr>\n",
       "      <th>linreg_basic</th>\n",
       "      <td>0.6689</td>\n",
       "      <td>3015136.06</td>\n",
       "      <td>0.6743</td>\n",
       "      <td>288823.33</td>\n",
       "      <td>90.0738</td>\n",
       "    </tr>\n",
       "  </tbody>\n",
       "</table>\n",
       "</div>"
      ],
      "text/plain": [
       "              r2_score   max_error  explained_variance_score  \\\n",
       "svr_basic      -0.0486  5549934.73                    0.0002   \n",
       "linreg_basic    0.6689  3015136.06                    0.6743   \n",
       "\n",
       "              mean_absolute_error  mean_absolute_percentage_error  \n",
       "svr_basic               376708.86                         89.8819  \n",
       "linreg_basic            288823.33                         90.0738  "
      ]
     },
     "metadata": {},
     "output_type": "display_data"
    }
   ],
   "source": [
    "linreg_basic.fit(x_train, y_train)\n",
    "\n",
    "_preds = linreg_basic.predict(x_test)\n",
    "_ = calculate_scores('linreg_basic', y_test, _preds)"
   ]
  },
  {
   "cell_type": "markdown",
   "id": "926e7a3c",
   "metadata": {
    "papermill": {
     "duration": 0.071885,
     "end_time": "2022-04-25T11:44:39.587793",
     "exception": false,
     "start_time": "2022-04-25T11:44:39.515908",
     "status": "completed"
    },
    "tags": []
   },
   "source": [
    "# 2.3 AdaBoostRegressor"
   ]
  },
  {
   "cell_type": "markdown",
   "id": "2fd1ec1a",
   "metadata": {
    "papermill": {
     "duration": 0.072378,
     "end_time": "2022-04-25T11:44:39.731463",
     "exception": false,
     "start_time": "2022-04-25T11:44:39.659085",
     "status": "completed"
    },
    "tags": []
   },
   "source": [
    "## 2.3.1 Parametros padrão"
   ]
  },
  {
   "cell_type": "code",
   "execution_count": 17,
   "id": "6498a754",
   "metadata": {
    "execution": {
     "iopub.execute_input": "2022-04-25T11:44:39.887917Z",
     "iopub.status.busy": "2022-04-25T11:44:39.887185Z",
     "iopub.status.idle": "2022-04-25T11:44:39.955787Z",
     "shell.execute_reply": "2022-04-25T11:44:39.955252Z",
     "shell.execute_reply.started": "2022-04-12T16:27:17.834012Z"
    },
    "papermill": {
     "duration": 0.14884,
     "end_time": "2022-04-25T11:44:39.955934",
     "exception": false,
     "start_time": "2022-04-25T11:44:39.807094",
     "status": "completed"
    },
    "tags": []
   },
   "outputs": [],
   "source": [
    "from sklearn.ensemble import AdaBoostRegressor"
   ]
  },
  {
   "cell_type": "code",
   "execution_count": 18,
   "id": "eafb6f8d",
   "metadata": {
    "execution": {
     "iopub.execute_input": "2022-04-25T11:44:40.111149Z",
     "iopub.status.busy": "2022-04-25T11:44:40.106562Z",
     "iopub.status.idle": "2022-04-25T11:44:40.228490Z",
     "shell.execute_reply": "2022-04-25T11:44:40.227961Z",
     "shell.execute_reply.started": "2022-04-12T16:27:25.065724Z"
    },
    "papermill": {
     "duration": 0.199142,
     "end_time": "2022-04-25T11:44:40.228650",
     "exception": false,
     "start_time": "2022-04-25T11:44:40.029508",
     "status": "completed"
    },
    "tags": []
   },
   "outputs": [],
   "source": [
    "x_train, x_test, y_train, y_test, x_final, y_final, x_submission = preprocess(\n",
    "    df_train_raw, df_test_raw, target='selling_price', split_data=True\n",
    ")\n",
    "\n",
    "preprocess_pipeline = make_column_transformer(\n",
    "    (SimpleImputer(strategy='mean', fill_value='constant'), make_column_selector(dtype_include=np.number)),\n",
    "    (OrdinalEncoder(handle_unknown='use_encoded_value', unknown_value=-1), make_column_selector(dtype_include=object))\n",
    ")\n",
    "\n",
    "\n",
    "adareg_basic = make_pipeline(\n",
    "    preprocess_pipeline,\n",
    "    RobustScaler(),\n",
    "    AdaBoostRegressor()\n",
    ")"
   ]
  },
  {
   "cell_type": "code",
   "execution_count": 19,
   "id": "1d6ad313",
   "metadata": {
    "execution": {
     "iopub.execute_input": "2022-04-25T11:44:40.392563Z",
     "iopub.status.busy": "2022-04-25T11:44:40.391556Z",
     "iopub.status.idle": "2022-04-25T11:44:40.751098Z",
     "shell.execute_reply": "2022-04-25T11:44:40.751641Z",
     "shell.execute_reply.started": "2022-04-12T16:27:27.145356Z"
    },
    "papermill": {
     "duration": 0.446693,
     "end_time": "2022-04-25T11:44:40.751828",
     "exception": false,
     "start_time": "2022-04-25T11:44:40.305135",
     "status": "completed"
    },
    "tags": []
   },
   "outputs": [
    {
     "data": {
      "text/html": [
       "<div>\n",
       "<style scoped>\n",
       "    .dataframe tbody tr th:only-of-type {\n",
       "        vertical-align: middle;\n",
       "    }\n",
       "\n",
       "    .dataframe tbody tr th {\n",
       "        vertical-align: top;\n",
       "    }\n",
       "\n",
       "    .dataframe thead th {\n",
       "        text-align: right;\n",
       "    }\n",
       "</style>\n",
       "<table border=\"1\" class=\"dataframe\">\n",
       "  <thead>\n",
       "    <tr style=\"text-align: right;\">\n",
       "      <th></th>\n",
       "      <th>r2_score</th>\n",
       "      <th>max_error</th>\n",
       "      <th>explained_variance_score</th>\n",
       "      <th>mean_absolute_error</th>\n",
       "      <th>mean_absolute_percentage_error</th>\n",
       "    </tr>\n",
       "  </thead>\n",
       "  <tbody>\n",
       "    <tr>\n",
       "      <th>svr_basic</th>\n",
       "      <td>-0.0486</td>\n",
       "      <td>5549934.73</td>\n",
       "      <td>0.0002</td>\n",
       "      <td>376708.86</td>\n",
       "      <td>89.8819</td>\n",
       "    </tr>\n",
       "    <tr>\n",
       "      <th>linreg_basic</th>\n",
       "      <td>0.6689</td>\n",
       "      <td>3015136.06</td>\n",
       "      <td>0.6743</td>\n",
       "      <td>288823.33</td>\n",
       "      <td>90.0738</td>\n",
       "    </tr>\n",
       "    <tr>\n",
       "      <th>adareg_basic</th>\n",
       "      <td>0.8743</td>\n",
       "      <td>1500573.72</td>\n",
       "      <td>0.9178</td>\n",
       "      <td>229264.89</td>\n",
       "      <td>98.8738</td>\n",
       "    </tr>\n",
       "  </tbody>\n",
       "</table>\n",
       "</div>"
      ],
      "text/plain": [
       "              r2_score   max_error  explained_variance_score  \\\n",
       "svr_basic      -0.0486  5549934.73                    0.0002   \n",
       "linreg_basic    0.6689  3015136.06                    0.6743   \n",
       "adareg_basic    0.8743  1500573.72                    0.9178   \n",
       "\n",
       "              mean_absolute_error  mean_absolute_percentage_error  \n",
       "svr_basic               376708.86                         89.8819  \n",
       "linreg_basic            288823.33                         90.0738  \n",
       "adareg_basic            229264.89                         98.8738  "
      ]
     },
     "metadata": {},
     "output_type": "display_data"
    }
   ],
   "source": [
    "adareg_basic.fit(x_train, y_train)\n",
    "\n",
    "_preds = adareg_basic.predict(x_test)\n",
    "_ = calculate_scores('adareg_basic', y_test, _preds)"
   ]
  },
  {
   "cell_type": "markdown",
   "id": "b56be9c9",
   "metadata": {
    "papermill": {
     "duration": 0.075957,
     "end_time": "2022-04-25T11:44:40.912684",
     "exception": false,
     "start_time": "2022-04-25T11:44:40.836727",
     "status": "completed"
    },
    "tags": []
   },
   "source": [
    "Ainda melhor. Pera, ```mean_absolute_percentage_error > 100```?"
   ]
  },
  {
   "cell_type": "markdown",
   "id": "0c78e71b",
   "metadata": {
    "papermill": {
     "duration": 0.081295,
     "end_time": "2022-04-25T11:44:41.069311",
     "exception": false,
     "start_time": "2022-04-25T11:44:40.988016",
     "status": "completed"
    },
    "tags": []
   },
   "source": [
    "## 2.3.2 Outros parametros\n",
    "Escolhidos manualmente"
   ]
  },
  {
   "cell_type": "code",
   "execution_count": 20,
   "id": "79278185",
   "metadata": {
    "execution": {
     "iopub.execute_input": "2022-04-25T11:44:41.271055Z",
     "iopub.status.busy": "2022-04-25T11:44:41.244783Z",
     "iopub.status.idle": "2022-04-25T11:44:41.347092Z",
     "shell.execute_reply": "2022-04-25T11:44:41.346531Z",
     "shell.execute_reply.started": "2022-04-12T16:27:36.119407Z"
    },
    "papermill": {
     "duration": 0.199208,
     "end_time": "2022-04-25T11:44:41.347220",
     "exception": false,
     "start_time": "2022-04-25T11:44:41.148012",
     "status": "completed"
    },
    "tags": []
   },
   "outputs": [],
   "source": [
    "x_train, x_test, y_train, y_test, x_final, y_final, x_submission = preprocess(\n",
    "    df_train_raw, df_test_raw, target='selling_price', split_data=True\n",
    ")\n",
    "\n",
    "preprocess_pipeline = make_column_transformer(\n",
    "    (SimpleImputer(strategy='mean', fill_value='constant'), make_column_selector(dtype_include=np.number)),\n",
    "    (OrdinalEncoder(handle_unknown='use_encoded_value', unknown_value=-1), make_column_selector(dtype_include=object))\n",
    ")\n",
    "\n",
    "\n",
    "adareg_manual_params = make_pipeline(\n",
    "    preprocess_pipeline,\n",
    "    RobustScaler(),\n",
    "    AdaBoostRegressor(\n",
    "        n_estimators=100, learning_rate=1\n",
    "    )\n",
    ")"
   ]
  },
  {
   "cell_type": "code",
   "execution_count": 21,
   "id": "3f17bfa7",
   "metadata": {
    "execution": {
     "iopub.execute_input": "2022-04-25T11:44:41.505890Z",
     "iopub.status.busy": "2022-04-25T11:44:41.504964Z",
     "iopub.status.idle": "2022-04-25T11:44:42.110784Z",
     "shell.execute_reply": "2022-04-25T11:44:42.111283Z",
     "shell.execute_reply.started": "2022-04-12T16:27:38.627648Z"
    },
    "papermill": {
     "duration": 0.689656,
     "end_time": "2022-04-25T11:44:42.111450",
     "exception": false,
     "start_time": "2022-04-25T11:44:41.421794",
     "status": "completed"
    },
    "tags": []
   },
   "outputs": [
    {
     "data": {
      "text/html": [
       "<div>\n",
       "<style scoped>\n",
       "    .dataframe tbody tr th:only-of-type {\n",
       "        vertical-align: middle;\n",
       "    }\n",
       "\n",
       "    .dataframe tbody tr th {\n",
       "        vertical-align: top;\n",
       "    }\n",
       "\n",
       "    .dataframe thead th {\n",
       "        text-align: right;\n",
       "    }\n",
       "</style>\n",
       "<table border=\"1\" class=\"dataframe\">\n",
       "  <thead>\n",
       "    <tr style=\"text-align: right;\">\n",
       "      <th></th>\n",
       "      <th>r2_score</th>\n",
       "      <th>max_error</th>\n",
       "      <th>explained_variance_score</th>\n",
       "      <th>mean_absolute_error</th>\n",
       "      <th>mean_absolute_percentage_error</th>\n",
       "    </tr>\n",
       "  </thead>\n",
       "  <tbody>\n",
       "    <tr>\n",
       "      <th>svr_basic</th>\n",
       "      <td>-0.0486</td>\n",
       "      <td>5549934.73</td>\n",
       "      <td>0.0002</td>\n",
       "      <td>376708.86</td>\n",
       "      <td>89.8819</td>\n",
       "    </tr>\n",
       "    <tr>\n",
       "      <th>linreg_basic</th>\n",
       "      <td>0.6689</td>\n",
       "      <td>3015136.06</td>\n",
       "      <td>0.6743</td>\n",
       "      <td>288823.33</td>\n",
       "      <td>90.0738</td>\n",
       "    </tr>\n",
       "    <tr>\n",
       "      <th>adareg_basic</th>\n",
       "      <td>0.8743</td>\n",
       "      <td>1500573.72</td>\n",
       "      <td>0.9178</td>\n",
       "      <td>229264.89</td>\n",
       "      <td>98.8738</td>\n",
       "    </tr>\n",
       "    <tr>\n",
       "      <th>adareg_manual_params</th>\n",
       "      <td>0.8099</td>\n",
       "      <td>1405349.34</td>\n",
       "      <td>0.9119</td>\n",
       "      <td>300827.21</td>\n",
       "      <td>125.2349</td>\n",
       "    </tr>\n",
       "  </tbody>\n",
       "</table>\n",
       "</div>"
      ],
      "text/plain": [
       "                      r2_score   max_error  explained_variance_score  \\\n",
       "svr_basic              -0.0486  5549934.73                    0.0002   \n",
       "linreg_basic            0.6689  3015136.06                    0.6743   \n",
       "adareg_basic            0.8743  1500573.72                    0.9178   \n",
       "adareg_manual_params    0.8099  1405349.34                    0.9119   \n",
       "\n",
       "                      mean_absolute_error  mean_absolute_percentage_error  \n",
       "svr_basic                       376708.86                         89.8819  \n",
       "linreg_basic                    288823.33                         90.0738  \n",
       "adareg_basic                    229264.89                         98.8738  \n",
       "adareg_manual_params            300827.21                        125.2349  "
      ]
     },
     "metadata": {},
     "output_type": "display_data"
    }
   ],
   "source": [
    "adareg_manual_params.fit(x_train, y_train)\n",
    "\n",
    "_preds = adareg_manual_params.predict(x_test)\n",
    "_ = calculate_scores('adareg_manual_params', y_test, _preds)"
   ]
  },
  {
   "cell_type": "markdown",
   "id": "b84933ed",
   "metadata": {
    "papermill": {
     "duration": 0.076016,
     "end_time": "2022-04-25T11:44:42.268430",
     "exception": false,
     "start_time": "2022-04-25T11:44:42.192414",
     "status": "completed"
    },
    "tags": []
   },
   "source": [
    "# 2.4 GradientBoostingRegressor"
   ]
  },
  {
   "cell_type": "markdown",
   "id": "1bf8538e",
   "metadata": {
    "papermill": {
     "duration": 0.075409,
     "end_time": "2022-04-25T11:44:42.421122",
     "exception": false,
     "start_time": "2022-04-25T11:44:42.345713",
     "status": "completed"
    },
    "tags": []
   },
   "source": [
    "## 2.4.1 Parametros padrão"
   ]
  },
  {
   "cell_type": "code",
   "execution_count": 22,
   "id": "e08d22db",
   "metadata": {
    "execution": {
     "iopub.execute_input": "2022-04-25T11:44:42.572590Z",
     "iopub.status.busy": "2022-04-25T11:44:42.571583Z",
     "iopub.status.idle": "2022-04-25T11:44:42.574336Z",
     "shell.execute_reply": "2022-04-25T11:44:42.573719Z",
     "shell.execute_reply.started": "2022-04-12T16:27:55.658741Z"
    },
    "papermill": {
     "duration": 0.080165,
     "end_time": "2022-04-25T11:44:42.574463",
     "exception": false,
     "start_time": "2022-04-25T11:44:42.494298",
     "status": "completed"
    },
    "tags": []
   },
   "outputs": [],
   "source": [
    "from sklearn.ensemble import GradientBoostingRegressor"
   ]
  },
  {
   "cell_type": "code",
   "execution_count": 23,
   "id": "23002c43",
   "metadata": {
    "execution": {
     "iopub.execute_input": "2022-04-25T11:44:42.728596Z",
     "iopub.status.busy": "2022-04-25T11:44:42.727653Z",
     "iopub.status.idle": "2022-04-25T11:44:42.846514Z",
     "shell.execute_reply": "2022-04-25T11:44:42.845964Z",
     "shell.execute_reply.started": "2022-04-12T16:28:08.640242Z"
    },
    "papermill": {
     "duration": 0.198333,
     "end_time": "2022-04-25T11:44:42.846670",
     "exception": false,
     "start_time": "2022-04-25T11:44:42.648337",
     "status": "completed"
    },
    "tags": []
   },
   "outputs": [],
   "source": [
    "x_train, x_test, y_train, y_test, x_final, y_final, x_submission = preprocess(\n",
    "    df_train_raw, df_test_raw, target='selling_price', split_data=True\n",
    ")\n",
    "\n",
    "preprocess_pipeline = make_column_transformer(\n",
    "    (SimpleImputer(strategy='mean', fill_value='constant'), make_column_selector(dtype_include=np.number)),\n",
    "    (OrdinalEncoder(handle_unknown='use_encoded_value', unknown_value=-1), make_column_selector(dtype_include=object))\n",
    ")\n",
    "\n",
    "\n",
    "gbreg_basic = make_pipeline(\n",
    "    preprocess_pipeline,\n",
    "    RobustScaler(),\n",
    "    GradientBoostingRegressor()\n",
    ")"
   ]
  },
  {
   "cell_type": "code",
   "execution_count": 24,
   "id": "bc9293b8",
   "metadata": {
    "execution": {
     "iopub.execute_input": "2022-04-25T11:44:43.003985Z",
     "iopub.status.busy": "2022-04-25T11:44:43.001831Z",
     "iopub.status.idle": "2022-04-25T11:44:43.742712Z",
     "shell.execute_reply": "2022-04-25T11:44:43.743184Z",
     "shell.execute_reply.started": "2022-04-12T16:28:10.916091Z"
    },
    "papermill": {
     "duration": 0.820545,
     "end_time": "2022-04-25T11:44:43.743370",
     "exception": false,
     "start_time": "2022-04-25T11:44:42.922825",
     "status": "completed"
    },
    "tags": []
   },
   "outputs": [
    {
     "data": {
      "text/html": [
       "<div>\n",
       "<style scoped>\n",
       "    .dataframe tbody tr th:only-of-type {\n",
       "        vertical-align: middle;\n",
       "    }\n",
       "\n",
       "    .dataframe tbody tr th {\n",
       "        vertical-align: top;\n",
       "    }\n",
       "\n",
       "    .dataframe thead th {\n",
       "        text-align: right;\n",
       "    }\n",
       "</style>\n",
       "<table border=\"1\" class=\"dataframe\">\n",
       "  <thead>\n",
       "    <tr style=\"text-align: right;\">\n",
       "      <th></th>\n",
       "      <th>r2_score</th>\n",
       "      <th>max_error</th>\n",
       "      <th>explained_variance_score</th>\n",
       "      <th>mean_absolute_error</th>\n",
       "      <th>mean_absolute_percentage_error</th>\n",
       "    </tr>\n",
       "  </thead>\n",
       "  <tbody>\n",
       "    <tr>\n",
       "      <th>svr_basic</th>\n",
       "      <td>-0.0486</td>\n",
       "      <td>5549934.73</td>\n",
       "      <td>0.0002</td>\n",
       "      <td>376708.86</td>\n",
       "      <td>89.8819</td>\n",
       "    </tr>\n",
       "    <tr>\n",
       "      <th>linreg_basic</th>\n",
       "      <td>0.6689</td>\n",
       "      <td>3015136.06</td>\n",
       "      <td>0.6743</td>\n",
       "      <td>288823.33</td>\n",
       "      <td>90.0738</td>\n",
       "    </tr>\n",
       "    <tr>\n",
       "      <th>adareg_basic</th>\n",
       "      <td>0.8743</td>\n",
       "      <td>1500573.72</td>\n",
       "      <td>0.9178</td>\n",
       "      <td>229264.89</td>\n",
       "      <td>98.8738</td>\n",
       "    </tr>\n",
       "    <tr>\n",
       "      <th>adareg_manual_params</th>\n",
       "      <td>0.8099</td>\n",
       "      <td>1405349.34</td>\n",
       "      <td>0.9119</td>\n",
       "      <td>300827.21</td>\n",
       "      <td>125.2349</td>\n",
       "    </tr>\n",
       "    <tr>\n",
       "      <th>gbreg_basic</th>\n",
       "      <td>0.9008</td>\n",
       "      <td>1684436.14</td>\n",
       "      <td>0.9128</td>\n",
       "      <td>148156.05</td>\n",
       "      <td>39.9531</td>\n",
       "    </tr>\n",
       "  </tbody>\n",
       "</table>\n",
       "</div>"
      ],
      "text/plain": [
       "                      r2_score   max_error  explained_variance_score  \\\n",
       "svr_basic              -0.0486  5549934.73                    0.0002   \n",
       "linreg_basic            0.6689  3015136.06                    0.6743   \n",
       "adareg_basic            0.8743  1500573.72                    0.9178   \n",
       "adareg_manual_params    0.8099  1405349.34                    0.9119   \n",
       "gbreg_basic             0.9008  1684436.14                    0.9128   \n",
       "\n",
       "                      mean_absolute_error  mean_absolute_percentage_error  \n",
       "svr_basic                       376708.86                         89.8819  \n",
       "linreg_basic                    288823.33                         90.0738  \n",
       "adareg_basic                    229264.89                         98.8738  \n",
       "adareg_manual_params            300827.21                        125.2349  \n",
       "gbreg_basic                     148156.05                         39.9531  "
      ]
     },
     "metadata": {},
     "output_type": "display_data"
    }
   ],
   "source": [
    "gbreg_basic.fit(x_train, y_train)\n",
    "\n",
    "_preds = gbreg_basic.predict(x_test)\n",
    "_ = calculate_scores('gbreg_basic', y_test, _preds)"
   ]
  },
  {
   "cell_type": "markdown",
   "id": "f43d155f",
   "metadata": {
    "papermill": {
     "duration": 0.080702,
     "end_time": "2022-04-25T11:44:43.910639",
     "exception": false,
     "start_time": "2022-04-25T11:44:43.829937",
     "status": "completed"
    },
    "tags": []
   },
   "source": [
    "## 2.4.2 Outros parametros\n",
    "Escolhidos manualmente"
   ]
  },
  {
   "cell_type": "code",
   "execution_count": 25,
   "id": "41057325",
   "metadata": {
    "execution": {
     "iopub.execute_input": "2022-04-25T11:44:44.082587Z",
     "iopub.status.busy": "2022-04-25T11:44:44.081620Z",
     "iopub.status.idle": "2022-04-25T11:44:44.313336Z",
     "shell.execute_reply": "2022-04-25T11:44:44.314134Z",
     "shell.execute_reply.started": "2022-04-12T16:28:22.224026Z"
    },
    "papermill": {
     "duration": 0.321899,
     "end_time": "2022-04-25T11:44:44.314323",
     "exception": false,
     "start_time": "2022-04-25T11:44:43.992424",
     "status": "completed"
    },
    "tags": []
   },
   "outputs": [],
   "source": [
    "x_train, x_test, y_train, y_test, x_final, y_final, x_submission = preprocess(\n",
    "    df_train_raw, df_test_raw, target='selling_price', split_data=True\n",
    ")\n",
    "\n",
    "preprocess_pipeline = make_column_transformer(\n",
    "    (SimpleImputer(strategy='mean', fill_value='constant'), make_column_selector(dtype_include=np.number)),\n",
    "    (OrdinalEncoder(handle_unknown='use_encoded_value', unknown_value=-1), make_column_selector(dtype_include=object))\n",
    ")\n",
    "\n",
    "\n",
    "gbreg_manual_params = make_pipeline(\n",
    "    preprocess_pipeline,\n",
    "    RobustScaler(),\n",
    "    GradientBoostingRegressor(\n",
    "        n_estimators=1000, learning_rate=0.05, max_depth=10, loss='huber'\n",
    "    )\n",
    ")"
   ]
  },
  {
   "cell_type": "code",
   "execution_count": 26,
   "id": "8e201f76",
   "metadata": {
    "execution": {
     "iopub.execute_input": "2022-04-25T11:44:44.479767Z",
     "iopub.status.busy": "2022-04-25T11:44:44.478823Z",
     "iopub.status.idle": "2022-04-25T11:46:22.751440Z",
     "shell.execute_reply": "2022-04-25T11:46:22.751969Z",
     "shell.execute_reply.started": "2022-04-12T16:28:28.716979Z"
    },
    "papermill": {
     "duration": 98.358083,
     "end_time": "2022-04-25T11:46:22.752157",
     "exception": false,
     "start_time": "2022-04-25T11:44:44.394074",
     "status": "completed"
    },
    "tags": []
   },
   "outputs": [
    {
     "data": {
      "text/html": [
       "<div>\n",
       "<style scoped>\n",
       "    .dataframe tbody tr th:only-of-type {\n",
       "        vertical-align: middle;\n",
       "    }\n",
       "\n",
       "    .dataframe tbody tr th {\n",
       "        vertical-align: top;\n",
       "    }\n",
       "\n",
       "    .dataframe thead th {\n",
       "        text-align: right;\n",
       "    }\n",
       "</style>\n",
       "<table border=\"1\" class=\"dataframe\">\n",
       "  <thead>\n",
       "    <tr style=\"text-align: right;\">\n",
       "      <th></th>\n",
       "      <th>r2_score</th>\n",
       "      <th>max_error</th>\n",
       "      <th>explained_variance_score</th>\n",
       "      <th>mean_absolute_error</th>\n",
       "      <th>mean_absolute_percentage_error</th>\n",
       "    </tr>\n",
       "  </thead>\n",
       "  <tbody>\n",
       "    <tr>\n",
       "      <th>svr_basic</th>\n",
       "      <td>-0.0486</td>\n",
       "      <td>5549934.73</td>\n",
       "      <td>0.0002</td>\n",
       "      <td>376708.86</td>\n",
       "      <td>89.8819</td>\n",
       "    </tr>\n",
       "    <tr>\n",
       "      <th>linreg_basic</th>\n",
       "      <td>0.6689</td>\n",
       "      <td>3015136.06</td>\n",
       "      <td>0.6743</td>\n",
       "      <td>288823.33</td>\n",
       "      <td>90.0738</td>\n",
       "    </tr>\n",
       "    <tr>\n",
       "      <th>adareg_basic</th>\n",
       "      <td>0.8743</td>\n",
       "      <td>1500573.72</td>\n",
       "      <td>0.9178</td>\n",
       "      <td>229264.89</td>\n",
       "      <td>98.8738</td>\n",
       "    </tr>\n",
       "    <tr>\n",
       "      <th>adareg_manual_params</th>\n",
       "      <td>0.8099</td>\n",
       "      <td>1405349.34</td>\n",
       "      <td>0.9119</td>\n",
       "      <td>300827.21</td>\n",
       "      <td>125.2349</td>\n",
       "    </tr>\n",
       "    <tr>\n",
       "      <th>gbreg_basic</th>\n",
       "      <td>0.9008</td>\n",
       "      <td>1684436.14</td>\n",
       "      <td>0.9128</td>\n",
       "      <td>148156.05</td>\n",
       "      <td>39.9531</td>\n",
       "    </tr>\n",
       "    <tr>\n",
       "      <th>gbreg_manual_params</th>\n",
       "      <td>0.9709</td>\n",
       "      <td>1603500.95</td>\n",
       "      <td>0.9709</td>\n",
       "      <td>69887.61</td>\n",
       "      <td>16.7910</td>\n",
       "    </tr>\n",
       "  </tbody>\n",
       "</table>\n",
       "</div>"
      ],
      "text/plain": [
       "                      r2_score   max_error  explained_variance_score  \\\n",
       "svr_basic              -0.0486  5549934.73                    0.0002   \n",
       "linreg_basic            0.6689  3015136.06                    0.6743   \n",
       "adareg_basic            0.8743  1500573.72                    0.9178   \n",
       "adareg_manual_params    0.8099  1405349.34                    0.9119   \n",
       "gbreg_basic             0.9008  1684436.14                    0.9128   \n",
       "gbreg_manual_params     0.9709  1603500.95                    0.9709   \n",
       "\n",
       "                      mean_absolute_error  mean_absolute_percentage_error  \n",
       "svr_basic                       376708.86                         89.8819  \n",
       "linreg_basic                    288823.33                         90.0738  \n",
       "adareg_basic                    229264.89                         98.8738  \n",
       "adareg_manual_params            300827.21                        125.2349  \n",
       "gbreg_basic                     148156.05                         39.9531  \n",
       "gbreg_manual_params              69887.61                         16.7910  "
      ]
     },
     "metadata": {},
     "output_type": "display_data"
    }
   ],
   "source": [
    "gbreg_manual_params.fit(x_train, y_train)\n",
    "\n",
    "_preds = gbreg_manual_params.predict(x_test)\n",
    "_ = calculate_scores('gbreg_manual_params', y_test, _preds)"
   ]
  },
  {
   "cell_type": "markdown",
   "id": "1372addb",
   "metadata": {
    "papermill": {
     "duration": 0.08147,
     "end_time": "2022-04-25T11:46:22.915537",
     "exception": false,
     "start_time": "2022-04-25T11:46:22.834067",
     "status": "completed"
    },
    "tags": []
   },
   "source": [
    "### 2.4.2.1 Submissão"
   ]
  },
  {
   "cell_type": "code",
   "execution_count": 27,
   "id": "ffed6926",
   "metadata": {
    "collapsed": true,
    "execution": {
     "iopub.execute_input": "2022-04-25T11:46:23.087835Z",
     "iopub.status.busy": "2022-04-25T11:46:23.086793Z",
     "iopub.status.idle": "2022-04-25T11:48:13.285016Z",
     "shell.execute_reply": "2022-04-25T11:48:13.284027Z",
     "shell.execute_reply.started": "2022-04-12T16:30:51.342924Z"
    },
    "jupyter": {
     "outputs_hidden": true
    },
    "papermill": {
     "duration": 110.28798,
     "end_time": "2022-04-25T11:48:13.285172",
     "exception": false,
     "start_time": "2022-04-25T11:46:22.997192",
     "status": "completed"
    },
    "tags": []
   },
   "outputs": [],
   "source": [
    "x_train, x_test, y_train, y_test, x_final, y_final, x_submission = preprocess(\n",
    "    df_train_raw, df_test_raw, target='selling_price', split_data=True\n",
    ")\n",
    "\n",
    "preprocess_pipeline = make_column_transformer(\n",
    "    (SimpleImputer(strategy='mean', fill_value='constant'), make_column_selector(dtype_include=np.number)),\n",
    "    (OrdinalEncoder(handle_unknown='use_encoded_value', unknown_value=-1), make_column_selector(dtype_include=object))\n",
    ")\n",
    "\n",
    "\n",
    "final_gbreg_manual_params = make_pipeline(\n",
    "    preprocess_pipeline,\n",
    "    RobustScaler(),\n",
    "    GradientBoostingRegressor(\n",
    "        n_estimators=1000, learning_rate=0.05, max_depth=10, loss='huber'\n",
    "    )\n",
    ")\n",
    "\n",
    "final_gbreg_manual_params.fit(x_final, y_final)\n",
    "\n",
    "preds = final_gbreg_manual_params.predict(x_submission)\n",
    "\n",
    "export_pred('gradient_boost_regressor', x_submission, preds)"
   ]
  },
  {
   "cell_type": "markdown",
   "id": "beed021d",
   "metadata": {
    "papermill": {
     "duration": 0.085412,
     "end_time": "2022-04-25T11:48:13.446209",
     "exception": false,
     "start_time": "2022-04-25T11:48:13.360797",
     "status": "completed"
    },
    "tags": []
   },
   "source": [
    "# 2.5 XGBRegressor"
   ]
  },
  {
   "cell_type": "markdown",
   "id": "a81edd7d",
   "metadata": {
    "papermill": {
     "duration": 0.073448,
     "end_time": "2022-04-25T11:48:13.593554",
     "exception": false,
     "start_time": "2022-04-25T11:48:13.520106",
     "status": "completed"
    },
    "tags": []
   },
   "source": [
    "## 2.5.1 Parametros padrão"
   ]
  },
  {
   "cell_type": "code",
   "execution_count": 28,
   "id": "05d91c32",
   "metadata": {
    "execution": {
     "iopub.execute_input": "2022-04-25T11:48:13.750708Z",
     "iopub.status.busy": "2022-04-25T11:48:13.750054Z",
     "iopub.status.idle": "2022-04-25T11:48:13.825366Z",
     "shell.execute_reply": "2022-04-25T11:48:13.824753Z",
     "shell.execute_reply.started": "2022-04-12T16:30:56.165279Z"
    },
    "papermill": {
     "duration": 0.154962,
     "end_time": "2022-04-25T11:48:13.825497",
     "exception": false,
     "start_time": "2022-04-25T11:48:13.670535",
     "status": "completed"
    },
    "tags": []
   },
   "outputs": [],
   "source": [
    "from xgboost import XGBRegressor"
   ]
  },
  {
   "cell_type": "code",
   "execution_count": 29,
   "id": "ec967793",
   "metadata": {
    "execution": {
     "iopub.execute_input": "2022-04-25T11:48:13.988956Z",
     "iopub.status.busy": "2022-04-25T11:48:13.987991Z",
     "iopub.status.idle": "2022-04-25T11:48:14.108045Z",
     "shell.execute_reply": "2022-04-25T11:48:14.107469Z",
     "shell.execute_reply.started": "2022-04-12T16:31:01.525689Z"
    },
    "papermill": {
     "duration": 0.204459,
     "end_time": "2022-04-25T11:48:14.108176",
     "exception": false,
     "start_time": "2022-04-25T11:48:13.903717",
     "status": "completed"
    },
    "tags": []
   },
   "outputs": [],
   "source": [
    "x_train, x_test, y_train, y_test, x_final, y_final, x_submission = preprocess(\n",
    "    df_train_raw, df_test_raw, target='selling_price', split_data=True\n",
    ")\n",
    "\n",
    "preprocess_pipeline = make_column_transformer(\n",
    "    (SimpleImputer(strategy='mean', fill_value='constant'), make_column_selector(dtype_include=np.number)),\n",
    "    (OrdinalEncoder(handle_unknown='use_encoded_value', unknown_value=-1), make_column_selector(dtype_include=object))\n",
    ")\n",
    "\n",
    "\n",
    "xgbreg_basic = make_pipeline(\n",
    "    preprocess_pipeline,\n",
    "    RobustScaler(),\n",
    "    XGBRegressor(n_jobs=-1)\n",
    ")"
   ]
  },
  {
   "cell_type": "code",
   "execution_count": 30,
   "id": "12315e47",
   "metadata": {
    "execution": {
     "iopub.execute_input": "2022-04-25T11:48:14.270767Z",
     "iopub.status.busy": "2022-04-25T11:48:14.269855Z",
     "iopub.status.idle": "2022-04-25T11:48:17.348430Z",
     "shell.execute_reply": "2022-04-25T11:48:17.349138Z",
     "shell.execute_reply.started": "2022-04-12T16:31:07.061947Z"
    },
    "papermill": {
     "duration": 3.16594,
     "end_time": "2022-04-25T11:48:17.349336",
     "exception": false,
     "start_time": "2022-04-25T11:48:14.183396",
     "status": "completed"
    },
    "tags": []
   },
   "outputs": [
    {
     "data": {
      "text/html": [
       "<div>\n",
       "<style scoped>\n",
       "    .dataframe tbody tr th:only-of-type {\n",
       "        vertical-align: middle;\n",
       "    }\n",
       "\n",
       "    .dataframe tbody tr th {\n",
       "        vertical-align: top;\n",
       "    }\n",
       "\n",
       "    .dataframe thead th {\n",
       "        text-align: right;\n",
       "    }\n",
       "</style>\n",
       "<table border=\"1\" class=\"dataframe\">\n",
       "  <thead>\n",
       "    <tr style=\"text-align: right;\">\n",
       "      <th></th>\n",
       "      <th>r2_score</th>\n",
       "      <th>max_error</th>\n",
       "      <th>explained_variance_score</th>\n",
       "      <th>mean_absolute_error</th>\n",
       "      <th>mean_absolute_percentage_error</th>\n",
       "    </tr>\n",
       "  </thead>\n",
       "  <tbody>\n",
       "    <tr>\n",
       "      <th>svr_basic</th>\n",
       "      <td>-0.0486</td>\n",
       "      <td>5549934.73</td>\n",
       "      <td>0.0002</td>\n",
       "      <td>376708.86</td>\n",
       "      <td>89.8819</td>\n",
       "    </tr>\n",
       "    <tr>\n",
       "      <th>linreg_basic</th>\n",
       "      <td>0.6689</td>\n",
       "      <td>3015136.06</td>\n",
       "      <td>0.6743</td>\n",
       "      <td>288823.33</td>\n",
       "      <td>90.0738</td>\n",
       "    </tr>\n",
       "    <tr>\n",
       "      <th>adareg_basic</th>\n",
       "      <td>0.8743</td>\n",
       "      <td>1500573.72</td>\n",
       "      <td>0.9178</td>\n",
       "      <td>229264.89</td>\n",
       "      <td>98.8738</td>\n",
       "    </tr>\n",
       "    <tr>\n",
       "      <th>adareg_manual_params</th>\n",
       "      <td>0.8099</td>\n",
       "      <td>1405349.34</td>\n",
       "      <td>0.9119</td>\n",
       "      <td>300827.21</td>\n",
       "      <td>125.2349</td>\n",
       "    </tr>\n",
       "    <tr>\n",
       "      <th>gbreg_basic</th>\n",
       "      <td>0.9008</td>\n",
       "      <td>1684436.14</td>\n",
       "      <td>0.9128</td>\n",
       "      <td>148156.05</td>\n",
       "      <td>39.9531</td>\n",
       "    </tr>\n",
       "    <tr>\n",
       "      <th>gbreg_manual_params</th>\n",
       "      <td>0.9709</td>\n",
       "      <td>1603500.95</td>\n",
       "      <td>0.9709</td>\n",
       "      <td>69887.61</td>\n",
       "      <td>16.7910</td>\n",
       "    </tr>\n",
       "    <tr>\n",
       "      <th>xgbreg_basic</th>\n",
       "      <td>0.9755</td>\n",
       "      <td>972903.75</td>\n",
       "      <td>0.9755</td>\n",
       "      <td>71866.24</td>\n",
       "      <td>18.0886</td>\n",
       "    </tr>\n",
       "  </tbody>\n",
       "</table>\n",
       "</div>"
      ],
      "text/plain": [
       "                      r2_score   max_error  explained_variance_score  \\\n",
       "svr_basic              -0.0486  5549934.73                    0.0002   \n",
       "linreg_basic            0.6689  3015136.06                    0.6743   \n",
       "adareg_basic            0.8743  1500573.72                    0.9178   \n",
       "adareg_manual_params    0.8099  1405349.34                    0.9119   \n",
       "gbreg_basic             0.9008  1684436.14                    0.9128   \n",
       "gbreg_manual_params     0.9709  1603500.95                    0.9709   \n",
       "xgbreg_basic            0.9755   972903.75                    0.9755   \n",
       "\n",
       "                      mean_absolute_error  mean_absolute_percentage_error  \n",
       "svr_basic                       376708.86                         89.8819  \n",
       "linreg_basic                    288823.33                         90.0738  \n",
       "adareg_basic                    229264.89                         98.8738  \n",
       "adareg_manual_params            300827.21                        125.2349  \n",
       "gbreg_basic                     148156.05                         39.9531  \n",
       "gbreg_manual_params              69887.61                         16.7910  \n",
       "xgbreg_basic                     71866.24                         18.0886  "
      ]
     },
     "metadata": {},
     "output_type": "display_data"
    }
   ],
   "source": [
    "xgbreg_basic.fit(x_train, y_train)\n",
    "\n",
    "_preds = xgbreg_basic.predict(x_test)\n",
    "_ = calculate_scores('xgbreg_basic', y_test, _preds)"
   ]
  },
  {
   "cell_type": "markdown",
   "id": "b71dbcae",
   "metadata": {
    "papermill": {
     "duration": 0.076196,
     "end_time": "2022-04-25T11:48:17.509392",
     "exception": false,
     "start_time": "2022-04-25T11:48:17.433196",
     "status": "completed"
    },
    "tags": []
   },
   "source": [
    "## 2.5.2 Outros parametros\n",
    "Escolhidos manualmente"
   ]
  },
  {
   "cell_type": "code",
   "execution_count": 31,
   "id": "13d284d2",
   "metadata": {
    "execution": {
     "iopub.execute_input": "2022-04-25T11:48:17.673997Z",
     "iopub.status.busy": "2022-04-25T11:48:17.673000Z",
     "iopub.status.idle": "2022-04-25T11:48:17.937630Z",
     "shell.execute_reply": "2022-04-25T11:48:17.936999Z",
     "shell.execute_reply.started": "2022-04-12T16:31:16.445409Z"
    },
    "papermill": {
     "duration": 0.351582,
     "end_time": "2022-04-25T11:48:17.937784",
     "exception": false,
     "start_time": "2022-04-25T11:48:17.586202",
     "status": "completed"
    },
    "tags": []
   },
   "outputs": [],
   "source": [
    "x_train, x_test, y_train, y_test, x_final, y_final, x_submission = preprocess(\n",
    "    df_train_raw, df_test_raw, target='selling_price', split_data=True\n",
    ")\n",
    "\n",
    "preprocess_pipeline = make_column_transformer(\n",
    "    (SimpleImputer(strategy='mean', fill_value='constant'), make_column_selector(dtype_include=np.number)),\n",
    "    (OrdinalEncoder(handle_unknown='use_encoded_value', unknown_value=-1), make_column_selector(dtype_include=object))\n",
    ")\n",
    "\n",
    "params = {\n",
    "    'n_estimators': 1000,\n",
    "    'max_depth': 10,\n",
    "    'max_leaves': 0,\n",
    "    'learning_rate': 0.05,\n",
    "    'verbosity': 1\n",
    "}\n",
    "\n",
    "xgbreg_manual_params = make_pipeline(\n",
    "    preprocess_pipeline,\n",
    "    RobustScaler(),\n",
    "    XGBRegressor(n_jobs=-1, **params)\n",
    ")"
   ]
  },
  {
   "cell_type": "code",
   "execution_count": 32,
   "id": "c1464909",
   "metadata": {
    "execution": {
     "iopub.execute_input": "2022-04-25T11:48:18.107084Z",
     "iopub.status.busy": "2022-04-25T11:48:18.106124Z",
     "iopub.status.idle": "2022-04-25T11:48:30.607397Z",
     "shell.execute_reply": "2022-04-25T11:48:30.608240Z",
     "shell.execute_reply.started": "2022-04-12T16:31:19.269365Z"
    },
    "papermill": {
     "duration": 12.589918,
     "end_time": "2022-04-25T11:48:30.608437",
     "exception": false,
     "start_time": "2022-04-25T11:48:18.018519",
     "status": "completed"
    },
    "tags": []
   },
   "outputs": [
    {
     "data": {
      "text/html": [
       "<div>\n",
       "<style scoped>\n",
       "    .dataframe tbody tr th:only-of-type {\n",
       "        vertical-align: middle;\n",
       "    }\n",
       "\n",
       "    .dataframe tbody tr th {\n",
       "        vertical-align: top;\n",
       "    }\n",
       "\n",
       "    .dataframe thead th {\n",
       "        text-align: right;\n",
       "    }\n",
       "</style>\n",
       "<table border=\"1\" class=\"dataframe\">\n",
       "  <thead>\n",
       "    <tr style=\"text-align: right;\">\n",
       "      <th></th>\n",
       "      <th>r2_score</th>\n",
       "      <th>max_error</th>\n",
       "      <th>explained_variance_score</th>\n",
       "      <th>mean_absolute_error</th>\n",
       "      <th>mean_absolute_percentage_error</th>\n",
       "    </tr>\n",
       "  </thead>\n",
       "  <tbody>\n",
       "    <tr>\n",
       "      <th>svr_basic</th>\n",
       "      <td>-0.0486</td>\n",
       "      <td>5549934.73</td>\n",
       "      <td>0.0002</td>\n",
       "      <td>376708.86</td>\n",
       "      <td>89.8819</td>\n",
       "    </tr>\n",
       "    <tr>\n",
       "      <th>linreg_basic</th>\n",
       "      <td>0.6689</td>\n",
       "      <td>3015136.06</td>\n",
       "      <td>0.6743</td>\n",
       "      <td>288823.33</td>\n",
       "      <td>90.0738</td>\n",
       "    </tr>\n",
       "    <tr>\n",
       "      <th>adareg_basic</th>\n",
       "      <td>0.8743</td>\n",
       "      <td>1500573.72</td>\n",
       "      <td>0.9178</td>\n",
       "      <td>229264.89</td>\n",
       "      <td>98.8738</td>\n",
       "    </tr>\n",
       "    <tr>\n",
       "      <th>adareg_manual_params</th>\n",
       "      <td>0.8099</td>\n",
       "      <td>1405349.34</td>\n",
       "      <td>0.9119</td>\n",
       "      <td>300827.21</td>\n",
       "      <td>125.2349</td>\n",
       "    </tr>\n",
       "    <tr>\n",
       "      <th>gbreg_basic</th>\n",
       "      <td>0.9008</td>\n",
       "      <td>1684436.14</td>\n",
       "      <td>0.9128</td>\n",
       "      <td>148156.05</td>\n",
       "      <td>39.9531</td>\n",
       "    </tr>\n",
       "    <tr>\n",
       "      <th>gbreg_manual_params</th>\n",
       "      <td>0.9709</td>\n",
       "      <td>1603500.95</td>\n",
       "      <td>0.9709</td>\n",
       "      <td>69887.61</td>\n",
       "      <td>16.7910</td>\n",
       "    </tr>\n",
       "    <tr>\n",
       "      <th>xgbreg_basic</th>\n",
       "      <td>0.9755</td>\n",
       "      <td>972903.75</td>\n",
       "      <td>0.9755</td>\n",
       "      <td>71866.24</td>\n",
       "      <td>18.0886</td>\n",
       "    </tr>\n",
       "    <tr>\n",
       "      <th>xgbreg_manual_params</th>\n",
       "      <td>0.9741</td>\n",
       "      <td>1372574.50</td>\n",
       "      <td>0.9741</td>\n",
       "      <td>68383.20</td>\n",
       "      <td>16.6275</td>\n",
       "    </tr>\n",
       "  </tbody>\n",
       "</table>\n",
       "</div>"
      ],
      "text/plain": [
       "                      r2_score   max_error  explained_variance_score  \\\n",
       "svr_basic              -0.0486  5549934.73                    0.0002   \n",
       "linreg_basic            0.6689  3015136.06                    0.6743   \n",
       "adareg_basic            0.8743  1500573.72                    0.9178   \n",
       "adareg_manual_params    0.8099  1405349.34                    0.9119   \n",
       "gbreg_basic             0.9008  1684436.14                    0.9128   \n",
       "gbreg_manual_params     0.9709  1603500.95                    0.9709   \n",
       "xgbreg_basic            0.9755   972903.75                    0.9755   \n",
       "xgbreg_manual_params    0.9741  1372574.50                    0.9741   \n",
       "\n",
       "                      mean_absolute_error  mean_absolute_percentage_error  \n",
       "svr_basic                       376708.86                         89.8819  \n",
       "linreg_basic                    288823.33                         90.0738  \n",
       "adareg_basic                    229264.89                         98.8738  \n",
       "adareg_manual_params            300827.21                        125.2349  \n",
       "gbreg_basic                     148156.05                         39.9531  \n",
       "gbreg_manual_params              69887.61                         16.7910  \n",
       "xgbreg_basic                     71866.24                         18.0886  \n",
       "xgbreg_manual_params             68383.20                         16.6275  "
      ]
     },
     "metadata": {},
     "output_type": "display_data"
    }
   ],
   "source": [
    "xgbreg_manual_params.fit(x_train, y_train)\n",
    "\n",
    "_preds = xgbreg_manual_params.predict(x_test)\n",
    "_ = calculate_scores('xgbreg_manual_params', y_test, _preds)"
   ]
  },
  {
   "cell_type": "markdown",
   "id": "1044bd86",
   "metadata": {
    "papermill": {
     "duration": 0.074972,
     "end_time": "2022-04-25T11:48:30.767330",
     "exception": false,
     "start_time": "2022-04-25T11:48:30.692358",
     "status": "completed"
    },
    "tags": []
   },
   "source": [
    "### 2.5.2.1 Submissão"
   ]
  },
  {
   "cell_type": "code",
   "execution_count": 33,
   "id": "d37b0ba8",
   "metadata": {
    "execution": {
     "iopub.execute_input": "2022-04-25T11:48:30.937570Z",
     "iopub.status.busy": "2022-04-25T11:48:30.926234Z",
     "iopub.status.idle": "2022-04-25T11:48:45.352990Z",
     "shell.execute_reply": "2022-04-25T11:48:45.353789Z",
     "shell.execute_reply.started": "2022-04-11T17:57:01.445536Z"
    },
    "papermill": {
     "duration": 14.510646,
     "end_time": "2022-04-25T11:48:45.353970",
     "exception": false,
     "start_time": "2022-04-25T11:48:30.843324",
     "status": "completed"
    },
    "tags": []
   },
   "outputs": [],
   "source": [
    "x_train, x_test, y_train, y_test, x_final, y_final, x_submission = preprocess(\n",
    "    df_train_raw, df_test_raw, target='selling_price', split_data=True\n",
    ")\n",
    "\n",
    "preprocess_pipeline = make_column_transformer(\n",
    "    (SimpleImputer(strategy='mean', fill_value='constant'), make_column_selector(dtype_include=np.number)),\n",
    "    (OrdinalEncoder(handle_unknown='use_encoded_value', unknown_value=-1), make_column_selector(dtype_include=object))\n",
    ")\n",
    "\n",
    "params = {\n",
    "    'n_estimators': 1000,\n",
    "    'max_depth': 10,\n",
    "    'max_leaves': 0,\n",
    "    'learning_rate': 0.05,\n",
    "    'verbosity': 1\n",
    "}\n",
    "\n",
    "final_xgbreg_manual_params = make_pipeline(\n",
    "    preprocess_pipeline,\n",
    "    RobustScaler(),\n",
    "    XGBRegressor(n_jobs=-1, **params)\n",
    ")\n",
    "\n",
    "final_xgbreg_manual_params.fit(x_final, y_final)\n",
    "\n",
    "preds = final_xgbreg_manual_params.predict(x_submission)\n",
    "\n",
    "export_pred('xgb_regressor', x_submission, preds)"
   ]
  },
  {
   "cell_type": "markdown",
   "id": "775fada3",
   "metadata": {
    "papermill": {
     "duration": 0.078997,
     "end_time": "2022-04-25T11:48:45.512796",
     "exception": false,
     "start_time": "2022-04-25T11:48:45.433799",
     "status": "completed"
    },
    "tags": []
   },
   "source": [
    "## 2.5.3 Outros parametros +\n",
    "Alguns números maiores, vai que"
   ]
  },
  {
   "cell_type": "code",
   "execution_count": 34,
   "id": "8dd45f84",
   "metadata": {
    "execution": {
     "iopub.execute_input": "2022-04-25T11:48:45.679706Z",
     "iopub.status.busy": "2022-04-25T11:48:45.678772Z",
     "iopub.status.idle": "2022-04-25T11:48:45.797973Z",
     "shell.execute_reply": "2022-04-25T11:48:45.797390Z",
     "shell.execute_reply.started": "2022-04-12T11:53:40.698836Z"
    },
    "papermill": {
     "duration": 0.205779,
     "end_time": "2022-04-25T11:48:45.798124",
     "exception": false,
     "start_time": "2022-04-25T11:48:45.592345",
     "status": "completed"
    },
    "tags": []
   },
   "outputs": [],
   "source": [
    "x_train, x_test, y_train, y_test, x_final, y_final, x_submission = preprocess(\n",
    "    df_train_raw, df_test_raw, target='selling_price'\n",
    ")\n",
    "\n",
    "preprocess_pipeline = make_column_transformer(\n",
    "    (SimpleImputer(strategy='mean', fill_value='constant'), make_column_selector(dtype_include=np.number)),\n",
    "    (OrdinalEncoder(handle_unknown='use_encoded_value', unknown_value=-1), make_column_selector(dtype_include=object))\n",
    ")\n",
    "\n",
    "params = {\n",
    "    'n_estimators': 2000,\n",
    "    'max_depth': 20,\n",
    "    'max_leaves': 0,\n",
    "    'learning_rate': 0.05,\n",
    "    \n",
    "}\n",
    "\n",
    "xgbreg_manual_params_larger = make_pipeline(\n",
    "    preprocess_pipeline,\n",
    "    RobustScaler(),\n",
    "    XGBRegressor(n_jobs=-1, **params)\n",
    ")"
   ]
  },
  {
   "cell_type": "code",
   "execution_count": 35,
   "id": "0d50aeda",
   "metadata": {
    "execution": {
     "iopub.execute_input": "2022-04-25T11:48:45.971185Z",
     "iopub.status.busy": "2022-04-25T11:48:45.968314Z",
     "iopub.status.idle": "2022-04-25T11:49:34.309454Z",
     "shell.execute_reply": "2022-04-25T11:49:34.309960Z",
     "shell.execute_reply.started": "2022-04-12T11:53:42.053638Z"
    },
    "papermill": {
     "duration": 48.432027,
     "end_time": "2022-04-25T11:49:34.310115",
     "exception": false,
     "start_time": "2022-04-25T11:48:45.878088",
     "status": "completed"
    },
    "tags": []
   },
   "outputs": [
    {
     "data": {
      "text/html": [
       "<div>\n",
       "<style scoped>\n",
       "    .dataframe tbody tr th:only-of-type {\n",
       "        vertical-align: middle;\n",
       "    }\n",
       "\n",
       "    .dataframe tbody tr th {\n",
       "        vertical-align: top;\n",
       "    }\n",
       "\n",
       "    .dataframe thead th {\n",
       "        text-align: right;\n",
       "    }\n",
       "</style>\n",
       "<table border=\"1\" class=\"dataframe\">\n",
       "  <thead>\n",
       "    <tr style=\"text-align: right;\">\n",
       "      <th></th>\n",
       "      <th>r2_score</th>\n",
       "      <th>max_error</th>\n",
       "      <th>explained_variance_score</th>\n",
       "      <th>mean_absolute_error</th>\n",
       "      <th>mean_absolute_percentage_error</th>\n",
       "    </tr>\n",
       "  </thead>\n",
       "  <tbody>\n",
       "    <tr>\n",
       "      <th>svr_basic</th>\n",
       "      <td>-0.0486</td>\n",
       "      <td>5549934.73</td>\n",
       "      <td>0.0002</td>\n",
       "      <td>376708.86</td>\n",
       "      <td>89.8819</td>\n",
       "    </tr>\n",
       "    <tr>\n",
       "      <th>linreg_basic</th>\n",
       "      <td>0.6689</td>\n",
       "      <td>3015136.06</td>\n",
       "      <td>0.6743</td>\n",
       "      <td>288823.33</td>\n",
       "      <td>90.0738</td>\n",
       "    </tr>\n",
       "    <tr>\n",
       "      <th>adareg_basic</th>\n",
       "      <td>0.8743</td>\n",
       "      <td>1500573.72</td>\n",
       "      <td>0.9178</td>\n",
       "      <td>229264.89</td>\n",
       "      <td>98.8738</td>\n",
       "    </tr>\n",
       "    <tr>\n",
       "      <th>adareg_manual_params</th>\n",
       "      <td>0.8099</td>\n",
       "      <td>1405349.34</td>\n",
       "      <td>0.9119</td>\n",
       "      <td>300827.21</td>\n",
       "      <td>125.2349</td>\n",
       "    </tr>\n",
       "    <tr>\n",
       "      <th>gbreg_basic</th>\n",
       "      <td>0.9008</td>\n",
       "      <td>1684436.14</td>\n",
       "      <td>0.9128</td>\n",
       "      <td>148156.05</td>\n",
       "      <td>39.9531</td>\n",
       "    </tr>\n",
       "    <tr>\n",
       "      <th>gbreg_manual_params</th>\n",
       "      <td>0.9709</td>\n",
       "      <td>1603500.95</td>\n",
       "      <td>0.9709</td>\n",
       "      <td>69887.61</td>\n",
       "      <td>16.7910</td>\n",
       "    </tr>\n",
       "    <tr>\n",
       "      <th>xgbreg_basic</th>\n",
       "      <td>0.9755</td>\n",
       "      <td>972903.75</td>\n",
       "      <td>0.9755</td>\n",
       "      <td>71866.24</td>\n",
       "      <td>18.0886</td>\n",
       "    </tr>\n",
       "    <tr>\n",
       "      <th>xgbreg_manual_params</th>\n",
       "      <td>0.9741</td>\n",
       "      <td>1372574.50</td>\n",
       "      <td>0.9741</td>\n",
       "      <td>68383.20</td>\n",
       "      <td>16.6275</td>\n",
       "    </tr>\n",
       "    <tr>\n",
       "      <th>xgbreg_manual_params_larger</th>\n",
       "      <td>0.9732</td>\n",
       "      <td>1463839.75</td>\n",
       "      <td>0.9732</td>\n",
       "      <td>69554.37</td>\n",
       "      <td>16.7420</td>\n",
       "    </tr>\n",
       "  </tbody>\n",
       "</table>\n",
       "</div>"
      ],
      "text/plain": [
       "                             r2_score   max_error  explained_variance_score  \\\n",
       "svr_basic                     -0.0486  5549934.73                    0.0002   \n",
       "linreg_basic                   0.6689  3015136.06                    0.6743   \n",
       "adareg_basic                   0.8743  1500573.72                    0.9178   \n",
       "adareg_manual_params           0.8099  1405349.34                    0.9119   \n",
       "gbreg_basic                    0.9008  1684436.14                    0.9128   \n",
       "gbreg_manual_params            0.9709  1603500.95                    0.9709   \n",
       "xgbreg_basic                   0.9755   972903.75                    0.9755   \n",
       "xgbreg_manual_params           0.9741  1372574.50                    0.9741   \n",
       "xgbreg_manual_params_larger    0.9732  1463839.75                    0.9732   \n",
       "\n",
       "                             mean_absolute_error  \\\n",
       "svr_basic                              376708.86   \n",
       "linreg_basic                           288823.33   \n",
       "adareg_basic                           229264.89   \n",
       "adareg_manual_params                   300827.21   \n",
       "gbreg_basic                            148156.05   \n",
       "gbreg_manual_params                     69887.61   \n",
       "xgbreg_basic                            71866.24   \n",
       "xgbreg_manual_params                    68383.20   \n",
       "xgbreg_manual_params_larger             69554.37   \n",
       "\n",
       "                             mean_absolute_percentage_error  \n",
       "svr_basic                                           89.8819  \n",
       "linreg_basic                                        90.0738  \n",
       "adareg_basic                                        98.8738  \n",
       "adareg_manual_params                               125.2349  \n",
       "gbreg_basic                                         39.9531  \n",
       "gbreg_manual_params                                 16.7910  \n",
       "xgbreg_basic                                        18.0886  \n",
       "xgbreg_manual_params                                16.6275  \n",
       "xgbreg_manual_params_larger                         16.7420  "
      ]
     },
     "metadata": {},
     "output_type": "display_data"
    }
   ],
   "source": [
    "xgbreg_manual_params_larger.fit(x_train, y_train)\n",
    "\n",
    "_preds = xgbreg_manual_params_larger.predict(x_test)\n",
    "_ = calculate_scores('xgbreg_manual_params_larger', y_test, _preds)"
   ]
  },
  {
   "cell_type": "markdown",
   "id": "a9806d8f",
   "metadata": {
    "papermill": {
     "duration": 0.077825,
     "end_time": "2022-04-25T11:49:34.467339",
     "exception": false,
     "start_time": "2022-04-25T11:49:34.389514",
     "status": "completed"
    },
    "tags": []
   },
   "source": [
    "# 2.6 PCA + XGBRegressor"
   ]
  },
  {
   "cell_type": "markdown",
   "id": "873c3b5e",
   "metadata": {
    "papermill": {
     "duration": 0.078197,
     "end_time": "2022-04-25T11:49:34.624931",
     "exception": false,
     "start_time": "2022-04-25T11:49:34.546734",
     "status": "completed"
    },
    "tags": []
   },
   "source": [
    "## 2.6.1 PCA 'mle'"
   ]
  },
  {
   "cell_type": "code",
   "execution_count": 36,
   "id": "d4649a15",
   "metadata": {
    "execution": {
     "iopub.execute_input": "2022-04-25T11:49:34.784523Z",
     "iopub.status.busy": "2022-04-25T11:49:34.783702Z",
     "iopub.status.idle": "2022-04-25T11:49:34.785800Z",
     "shell.execute_reply": "2022-04-25T11:49:34.786230Z",
     "shell.execute_reply.started": "2022-04-12T16:32:19.281341Z"
    },
    "papermill": {
     "duration": 0.083662,
     "end_time": "2022-04-25T11:49:34.786363",
     "exception": false,
     "start_time": "2022-04-25T11:49:34.702701",
     "status": "completed"
    },
    "tags": []
   },
   "outputs": [],
   "source": [
    "from sklearn.decomposition import PCA"
   ]
  },
  {
   "cell_type": "code",
   "execution_count": 37,
   "id": "37205aa9",
   "metadata": {
    "execution": {
     "iopub.execute_input": "2022-04-25T11:49:34.969792Z",
     "iopub.status.busy": "2022-04-25T11:49:34.951483Z",
     "iopub.status.idle": "2022-04-25T11:49:35.077166Z",
     "shell.execute_reply": "2022-04-25T11:49:35.076008Z",
     "shell.execute_reply.started": "2022-04-12T16:32:23.040664Z"
    },
    "papermill": {
     "duration": 0.21254,
     "end_time": "2022-04-25T11:49:35.077337",
     "exception": false,
     "start_time": "2022-04-25T11:49:34.864797",
     "status": "completed"
    },
    "tags": []
   },
   "outputs": [],
   "source": [
    "x_train, x_test, y_train, y_test, x_final, y_final, x_submission = preprocess(\n",
    "    df_train_raw, df_test_raw, target='selling_price'\n",
    ")\n",
    "\n",
    "preprocess_pipeline = make_column_transformer(\n",
    "    (SimpleImputer(strategy='mean', fill_value='constant'), make_column_selector(dtype_include=np.number)),\n",
    "    (OrdinalEncoder(handle_unknown='use_encoded_value', unknown_value=-1), make_column_selector(dtype_include=object))\n",
    ")\n",
    "\n",
    "params = {\n",
    "    'n_estimators': 1000,\n",
    "    'max_depth': 10,\n",
    "    'max_leaves': 0,\n",
    "    'learning_rate': 0.05,\n",
    "    \n",
    "}\n",
    "\n",
    "xgbreg_pca_mle = make_pipeline(\n",
    "    preprocess_pipeline,\n",
    "    RobustScaler(),\n",
    "    PCA(n_components='mle'),\n",
    "    XGBRegressor(n_jobs=-1, **params)\n",
    ")"
   ]
  },
  {
   "cell_type": "code",
   "execution_count": 38,
   "id": "48d6deb6",
   "metadata": {
    "execution": {
     "iopub.execute_input": "2022-04-25T11:49:35.244039Z",
     "iopub.status.busy": "2022-04-25T11:49:35.243096Z",
     "iopub.status.idle": "2022-04-25T11:49:59.927266Z",
     "shell.execute_reply": "2022-04-25T11:49:59.928685Z",
     "shell.execute_reply.started": "2022-04-12T16:32:29.394453Z"
    },
    "papermill": {
     "duration": 24.773695,
     "end_time": "2022-04-25T11:49:59.928965",
     "exception": false,
     "start_time": "2022-04-25T11:49:35.155270",
     "status": "completed"
    },
    "tags": []
   },
   "outputs": [
    {
     "data": {
      "text/html": [
       "<div>\n",
       "<style scoped>\n",
       "    .dataframe tbody tr th:only-of-type {\n",
       "        vertical-align: middle;\n",
       "    }\n",
       "\n",
       "    .dataframe tbody tr th {\n",
       "        vertical-align: top;\n",
       "    }\n",
       "\n",
       "    .dataframe thead th {\n",
       "        text-align: right;\n",
       "    }\n",
       "</style>\n",
       "<table border=\"1\" class=\"dataframe\">\n",
       "  <thead>\n",
       "    <tr style=\"text-align: right;\">\n",
       "      <th></th>\n",
       "      <th>r2_score</th>\n",
       "      <th>max_error</th>\n",
       "      <th>explained_variance_score</th>\n",
       "      <th>mean_absolute_error</th>\n",
       "      <th>mean_absolute_percentage_error</th>\n",
       "    </tr>\n",
       "  </thead>\n",
       "  <tbody>\n",
       "    <tr>\n",
       "      <th>svr_basic</th>\n",
       "      <td>-0.0486</td>\n",
       "      <td>5549934.73</td>\n",
       "      <td>0.0002</td>\n",
       "      <td>376708.86</td>\n",
       "      <td>89.8819</td>\n",
       "    </tr>\n",
       "    <tr>\n",
       "      <th>linreg_basic</th>\n",
       "      <td>0.6689</td>\n",
       "      <td>3015136.06</td>\n",
       "      <td>0.6743</td>\n",
       "      <td>288823.33</td>\n",
       "      <td>90.0738</td>\n",
       "    </tr>\n",
       "    <tr>\n",
       "      <th>adareg_basic</th>\n",
       "      <td>0.8743</td>\n",
       "      <td>1500573.72</td>\n",
       "      <td>0.9178</td>\n",
       "      <td>229264.89</td>\n",
       "      <td>98.8738</td>\n",
       "    </tr>\n",
       "    <tr>\n",
       "      <th>adareg_manual_params</th>\n",
       "      <td>0.8099</td>\n",
       "      <td>1405349.34</td>\n",
       "      <td>0.9119</td>\n",
       "      <td>300827.21</td>\n",
       "      <td>125.2349</td>\n",
       "    </tr>\n",
       "    <tr>\n",
       "      <th>gbreg_basic</th>\n",
       "      <td>0.9008</td>\n",
       "      <td>1684436.14</td>\n",
       "      <td>0.9128</td>\n",
       "      <td>148156.05</td>\n",
       "      <td>39.9531</td>\n",
       "    </tr>\n",
       "    <tr>\n",
       "      <th>gbreg_manual_params</th>\n",
       "      <td>0.9709</td>\n",
       "      <td>1603500.95</td>\n",
       "      <td>0.9709</td>\n",
       "      <td>69887.61</td>\n",
       "      <td>16.7910</td>\n",
       "    </tr>\n",
       "    <tr>\n",
       "      <th>xgbreg_basic</th>\n",
       "      <td>0.9755</td>\n",
       "      <td>972903.75</td>\n",
       "      <td>0.9755</td>\n",
       "      <td>71866.24</td>\n",
       "      <td>18.0886</td>\n",
       "    </tr>\n",
       "    <tr>\n",
       "      <th>xgbreg_manual_params</th>\n",
       "      <td>0.9741</td>\n",
       "      <td>1372574.50</td>\n",
       "      <td>0.9741</td>\n",
       "      <td>68383.20</td>\n",
       "      <td>16.6275</td>\n",
       "    </tr>\n",
       "    <tr>\n",
       "      <th>xgbreg_manual_params_larger</th>\n",
       "      <td>0.9732</td>\n",
       "      <td>1463839.75</td>\n",
       "      <td>0.9732</td>\n",
       "      <td>69554.37</td>\n",
       "      <td>16.7420</td>\n",
       "    </tr>\n",
       "    <tr>\n",
       "      <th>xgbreg_pca_mle</th>\n",
       "      <td>0.9653</td>\n",
       "      <td>1449168.88</td>\n",
       "      <td>0.9654</td>\n",
       "      <td>81329.06</td>\n",
       "      <td>19.8959</td>\n",
       "    </tr>\n",
       "  </tbody>\n",
       "</table>\n",
       "</div>"
      ],
      "text/plain": [
       "                             r2_score   max_error  explained_variance_score  \\\n",
       "svr_basic                     -0.0486  5549934.73                    0.0002   \n",
       "linreg_basic                   0.6689  3015136.06                    0.6743   \n",
       "adareg_basic                   0.8743  1500573.72                    0.9178   \n",
       "adareg_manual_params           0.8099  1405349.34                    0.9119   \n",
       "gbreg_basic                    0.9008  1684436.14                    0.9128   \n",
       "gbreg_manual_params            0.9709  1603500.95                    0.9709   \n",
       "xgbreg_basic                   0.9755   972903.75                    0.9755   \n",
       "xgbreg_manual_params           0.9741  1372574.50                    0.9741   \n",
       "xgbreg_manual_params_larger    0.9732  1463839.75                    0.9732   \n",
       "xgbreg_pca_mle                 0.9653  1449168.88                    0.9654   \n",
       "\n",
       "                             mean_absolute_error  \\\n",
       "svr_basic                              376708.86   \n",
       "linreg_basic                           288823.33   \n",
       "adareg_basic                           229264.89   \n",
       "adareg_manual_params                   300827.21   \n",
       "gbreg_basic                            148156.05   \n",
       "gbreg_manual_params                     69887.61   \n",
       "xgbreg_basic                            71866.24   \n",
       "xgbreg_manual_params                    68383.20   \n",
       "xgbreg_manual_params_larger             69554.37   \n",
       "xgbreg_pca_mle                          81329.06   \n",
       "\n",
       "                             mean_absolute_percentage_error  \n",
       "svr_basic                                           89.8819  \n",
       "linreg_basic                                        90.0738  \n",
       "adareg_basic                                        98.8738  \n",
       "adareg_manual_params                               125.2349  \n",
       "gbreg_basic                                         39.9531  \n",
       "gbreg_manual_params                                 16.7910  \n",
       "xgbreg_basic                                        18.0886  \n",
       "xgbreg_manual_params                                16.6275  \n",
       "xgbreg_manual_params_larger                         16.7420  \n",
       "xgbreg_pca_mle                                      19.8959  "
      ]
     },
     "metadata": {},
     "output_type": "display_data"
    }
   ],
   "source": [
    "xgbreg_pca_mle.fit(x_train, y_train)\n",
    "\n",
    "_preds = xgbreg_pca_mle.predict(x_test)\n",
    "_ = calculate_scores('xgbreg_pca_mle', y_test, _preds)"
   ]
  },
  {
   "cell_type": "markdown",
   "id": "7550f9c4",
   "metadata": {
    "papermill": {
     "duration": 0.082167,
     "end_time": "2022-04-25T11:50:00.101965",
     "exception": false,
     "start_time": "2022-04-25T11:50:00.019798",
     "status": "completed"
    },
    "tags": []
   },
   "source": [
    "### 2.6.1.1 Componentes"
   ]
  },
  {
   "cell_type": "code",
   "execution_count": 39,
   "id": "39ad223e",
   "metadata": {
    "execution": {
     "iopub.execute_input": "2022-04-25T11:50:00.271754Z",
     "iopub.status.busy": "2022-04-25T11:50:00.271045Z",
     "iopub.status.idle": "2022-04-25T11:50:00.336980Z",
     "shell.execute_reply": "2022-04-25T11:50:00.336311Z",
     "shell.execute_reply.started": "2022-04-12T16:33:29.038372Z"
    },
    "papermill": {
     "duration": 0.153173,
     "end_time": "2022-04-25T11:50:00.337154",
     "exception": false,
     "start_time": "2022-04-25T11:50:00.183981",
     "status": "completed"
    },
    "tags": []
   },
   "outputs": [],
   "source": [
    "import seaborn as sns"
   ]
  },
  {
   "cell_type": "code",
   "execution_count": 40,
   "id": "9bad4009",
   "metadata": {
    "execution": {
     "iopub.execute_input": "2022-04-25T11:50:00.523478Z",
     "iopub.status.busy": "2022-04-25T11:50:00.507825Z",
     "iopub.status.idle": "2022-04-25T11:50:00.820205Z",
     "shell.execute_reply": "2022-04-25T11:50:00.819710Z",
     "shell.execute_reply.started": "2022-04-12T16:33:31.412958Z"
    },
    "papermill": {
     "duration": 0.401312,
     "end_time": "2022-04-25T11:50:00.820335",
     "exception": false,
     "start_time": "2022-04-25T11:50:00.419023",
     "status": "completed"
    },
    "tags": []
   },
   "outputs": [
    {
     "data": {
      "text/plain": [
       "<AxesSubplot:xlabel='index', ylabel='explained_variance_ratio'>"
      ]
     },
     "execution_count": 40,
     "metadata": {},
     "output_type": "execute_result"
    },
    {
     "data": {
      "image/png": "[encoded data removed]",
      "text/plain": [
       "<Figure size 432x288 with 1 Axes>"
      ]
     },
     "metadata": {
      "needs_background": "light"
     },
     "output_type": "display_data"
    }
   ],
   "source": [
    "components = pd.DataFrame({'explained_variance_ratio': xgbreg_pca_mle.steps[2][1].explained_variance_ratio_})\n",
    "\n",
    "sns.barplot(data=components.reset_index(), x='index', y='explained_variance_ratio')"
   ]
  },
  {
   "cell_type": "code",
   "execution_count": 41,
   "id": "ad4c385d",
   "metadata": {
    "execution": {
     "iopub.execute_input": "2022-04-25T11:50:01.002027Z",
     "iopub.status.busy": "2022-04-25T11:50:00.997096Z",
     "iopub.status.idle": "2022-04-25T11:50:01.007260Z",
     "shell.execute_reply": "2022-04-25T11:50:01.007770Z",
     "shell.execute_reply.started": "2022-04-12T16:33:38.271139Z"
    },
    "papermill": {
     "duration": 0.104716,
     "end_time": "2022-04-25T11:50:01.007960",
     "exception": false,
     "start_time": "2022-04-25T11:50:00.903244",
     "status": "completed"
    },
    "tags": []
   },
   "outputs": [
    {
     "name": "stdout",
     "output_type": "stream",
     "text": [
      "Explained variance with 0 components: 0.0\n",
      "Explained variance with 1 components: 0.444\n",
      "Explained variance with 2 components: 0.584\n",
      "Explained variance with 3 components: 0.665\n",
      "Explained variance with 4 components: 0.736\n",
      "Explained variance with 5 components: 0.795\n",
      "Explained variance with 6 components: 0.831\n",
      "Explained variance with 7 components: 0.862\n",
      "Explained variance with 8 components: 0.891\n",
      "Explained variance with 9 components: 0.917\n",
      "Explained variance with 10 components: 0.94\n",
      "Explained variance with 11 components: 0.96\n",
      "Explained variance with 12 components: 0.975\n",
      "Explained variance with 13 components: 0.987\n",
      "Explained variance with 14 components: 0.994\n"
     ]
    }
   ],
   "source": [
    "for i in range(len(components)):\n",
    "    print(f'Explained variance with {i} components: {round(components[:i].sum().values[0], 3)}')"
   ]
  },
  {
   "cell_type": "markdown",
   "id": "a5518563",
   "metadata": {
    "papermill": {
     "duration": 0.080918,
     "end_time": "2022-04-25T11:50:01.170317",
     "exception": false,
     "start_time": "2022-04-25T11:50:01.089399",
     "status": "completed"
    },
    "tags": []
   },
   "source": [
    "Seguindo o PCA, para atingirmos 90% da variância explicada, precisamos utilizar ```9``` componentes."
   ]
  },
  {
   "cell_type": "markdown",
   "id": "8da53d4c",
   "metadata": {
    "papermill": {
     "duration": 0.082704,
     "end_time": "2022-04-25T11:50:01.334406",
     "exception": false,
     "start_time": "2022-04-25T11:50:01.251702",
     "status": "completed"
    },
    "tags": []
   },
   "source": [
    "## 2.6.2 PCA 9 componentes"
   ]
  },
  {
   "cell_type": "code",
   "execution_count": 42,
   "id": "23d1aadc",
   "metadata": {
    "execution": {
     "iopub.execute_input": "2022-04-25T11:50:01.510727Z",
     "iopub.status.busy": "2022-04-25T11:50:01.509515Z",
     "iopub.status.idle": "2022-04-25T11:50:01.631753Z",
     "shell.execute_reply": "2022-04-25T11:50:01.631176Z",
     "shell.execute_reply.started": "2022-04-12T16:33:50.134136Z"
    },
    "papermill": {
     "duration": 0.213382,
     "end_time": "2022-04-25T11:50:01.631890",
     "exception": false,
     "start_time": "2022-04-25T11:50:01.418508",
     "status": "completed"
    },
    "tags": []
   },
   "outputs": [],
   "source": [
    "x_train, x_test, y_train, y_test, x_final, y_final, x_submission = preprocess(\n",
    "    df_train_raw, df_test_raw, target='selling_price', split_data=True\n",
    ")\n",
    "\n",
    "preprocess_pipeline = make_column_transformer(\n",
    "    (SimpleImputer(strategy='mean', fill_value='constant'), make_column_selector(dtype_include=np.number)),\n",
    "    (OrdinalEncoder(handle_unknown='use_encoded_value', unknown_value=-1), make_column_selector(dtype_include=object))\n",
    ")\n",
    "\n",
    "params = {\n",
    "    'n_estimators': 1000,\n",
    "    'max_depth': 10,\n",
    "    'max_leaves': 0,\n",
    "    'learning_rate': 0.05,\n",
    "    \n",
    "}\n",
    "\n",
    "xgbreg_pca9 = make_pipeline(\n",
    "    preprocess_pipeline,\n",
    "    RobustScaler(),\n",
    "    PCA(n_components=9),\n",
    "    XGBRegressor(n_jobs=-1, **params)\n",
    ")"
   ]
  },
  {
   "cell_type": "code",
   "execution_count": 43,
   "id": "60adfab4",
   "metadata": {
    "execution": {
     "iopub.execute_input": "2022-04-25T11:50:01.808148Z",
     "iopub.status.busy": "2022-04-25T11:50:01.807255Z",
     "iopub.status.idle": "2022-04-25T11:50:19.525986Z",
     "shell.execute_reply": "2022-04-25T11:50:19.527006Z",
     "shell.execute_reply.started": "2022-04-12T16:33:53.260421Z"
    },
    "papermill": {
     "duration": 17.812112,
     "end_time": "2022-04-25T11:50:19.527192",
     "exception": false,
     "start_time": "2022-04-25T11:50:01.715080",
     "status": "completed"
    },
    "tags": []
   },
   "outputs": [
    {
     "data": {
      "text/html": [
       "<div>\n",
       "<style scoped>\n",
       "    .dataframe tbody tr th:only-of-type {\n",
       "        vertical-align: middle;\n",
       "    }\n",
       "\n",
       "    .dataframe tbody tr th {\n",
       "        vertical-align: top;\n",
       "    }\n",
       "\n",
       "    .dataframe thead th {\n",
       "        text-align: right;\n",
       "    }\n",
       "</style>\n",
       "<table border=\"1\" class=\"dataframe\">\n",
       "  <thead>\n",
       "    <tr style=\"text-align: right;\">\n",
       "      <th></th>\n",
       "      <th>r2_score</th>\n",
       "      <th>max_error</th>\n",
       "      <th>explained_variance_score</th>\n",
       "      <th>mean_absolute_error</th>\n",
       "      <th>mean_absolute_percentage_error</th>\n",
       "    </tr>\n",
       "  </thead>\n",
       "  <tbody>\n",
       "    <tr>\n",
       "      <th>svr_basic</th>\n",
       "      <td>-0.0486</td>\n",
       "      <td>5549934.73</td>\n",
       "      <td>0.0002</td>\n",
       "      <td>376708.86</td>\n",
       "      <td>89.8819</td>\n",
       "    </tr>\n",
       "    <tr>\n",
       "      <th>linreg_basic</th>\n",
       "      <td>0.6689</td>\n",
       "      <td>3015136.06</td>\n",
       "      <td>0.6743</td>\n",
       "      <td>288823.33</td>\n",
       "      <td>90.0738</td>\n",
       "    </tr>\n",
       "    <tr>\n",
       "      <th>adareg_basic</th>\n",
       "      <td>0.8743</td>\n",
       "      <td>1500573.72</td>\n",
       "      <td>0.9178</td>\n",
       "      <td>229264.89</td>\n",
       "      <td>98.8738</td>\n",
       "    </tr>\n",
       "    <tr>\n",
       "      <th>adareg_manual_params</th>\n",
       "      <td>0.8099</td>\n",
       "      <td>1405349.34</td>\n",
       "      <td>0.9119</td>\n",
       "      <td>300827.21</td>\n",
       "      <td>125.2349</td>\n",
       "    </tr>\n",
       "    <tr>\n",
       "      <th>gbreg_basic</th>\n",
       "      <td>0.9008</td>\n",
       "      <td>1684436.14</td>\n",
       "      <td>0.9128</td>\n",
       "      <td>148156.05</td>\n",
       "      <td>39.9531</td>\n",
       "    </tr>\n",
       "    <tr>\n",
       "      <th>gbreg_manual_params</th>\n",
       "      <td>0.9709</td>\n",
       "      <td>1603500.95</td>\n",
       "      <td>0.9709</td>\n",
       "      <td>69887.61</td>\n",
       "      <td>16.7910</td>\n",
       "    </tr>\n",
       "    <tr>\n",
       "      <th>xgbreg_basic</th>\n",
       "      <td>0.9755</td>\n",
       "      <td>972903.75</td>\n",
       "      <td>0.9755</td>\n",
       "      <td>71866.24</td>\n",
       "      <td>18.0886</td>\n",
       "    </tr>\n",
       "    <tr>\n",
       "      <th>xgbreg_manual_params</th>\n",
       "      <td>0.9741</td>\n",
       "      <td>1372574.50</td>\n",
       "      <td>0.9741</td>\n",
       "      <td>68383.20</td>\n",
       "      <td>16.6275</td>\n",
       "    </tr>\n",
       "    <tr>\n",
       "      <th>xgbreg_manual_params_larger</th>\n",
       "      <td>0.9732</td>\n",
       "      <td>1463839.75</td>\n",
       "      <td>0.9732</td>\n",
       "      <td>69554.37</td>\n",
       "      <td>16.7420</td>\n",
       "    </tr>\n",
       "    <tr>\n",
       "      <th>xgbreg_pca_mle</th>\n",
       "      <td>0.9653</td>\n",
       "      <td>1449168.88</td>\n",
       "      <td>0.9654</td>\n",
       "      <td>81329.06</td>\n",
       "      <td>19.8959</td>\n",
       "    </tr>\n",
       "    <tr>\n",
       "      <th>xgbreg_pca9</th>\n",
       "      <td>0.9529</td>\n",
       "      <td>1879405.00</td>\n",
       "      <td>0.9529</td>\n",
       "      <td>93033.57</td>\n",
       "      <td>22.6343</td>\n",
       "    </tr>\n",
       "  </tbody>\n",
       "</table>\n",
       "</div>"
      ],
      "text/plain": [
       "                             r2_score   max_error  explained_variance_score  \\\n",
       "svr_basic                     -0.0486  5549934.73                    0.0002   \n",
       "linreg_basic                   0.6689  3015136.06                    0.6743   \n",
       "adareg_basic                   0.8743  1500573.72                    0.9178   \n",
       "adareg_manual_params           0.8099  1405349.34                    0.9119   \n",
       "gbreg_basic                    0.9008  1684436.14                    0.9128   \n",
       "gbreg_manual_params            0.9709  1603500.95                    0.9709   \n",
       "xgbreg_basic                   0.9755   972903.75                    0.9755   \n",
       "xgbreg_manual_params           0.9741  1372574.50                    0.9741   \n",
       "xgbreg_manual_params_larger    0.9732  1463839.75                    0.9732   \n",
       "xgbreg_pca_mle                 0.9653  1449168.88                    0.9654   \n",
       "xgbreg_pca9                    0.9529  1879405.00                    0.9529   \n",
       "\n",
       "                             mean_absolute_error  \\\n",
       "svr_basic                              376708.86   \n",
       "linreg_basic                           288823.33   \n",
       "adareg_basic                           229264.89   \n",
       "adareg_manual_params                   300827.21   \n",
       "gbreg_basic                            148156.05   \n",
       "gbreg_manual_params                     69887.61   \n",
       "xgbreg_basic                            71866.24   \n",
       "xgbreg_manual_params                    68383.20   \n",
       "xgbreg_manual_params_larger             69554.37   \n",
       "xgbreg_pca_mle                          81329.06   \n",
       "xgbreg_pca9                             93033.57   \n",
       "\n",
       "                             mean_absolute_percentage_error  \n",
       "svr_basic                                           89.8819  \n",
       "linreg_basic                                        90.0738  \n",
       "adareg_basic                                        98.8738  \n",
       "adareg_manual_params                               125.2349  \n",
       "gbreg_basic                                         39.9531  \n",
       "gbreg_manual_params                                 16.7910  \n",
       "xgbreg_basic                                        18.0886  \n",
       "xgbreg_manual_params                                16.6275  \n",
       "xgbreg_manual_params_larger                         16.7420  \n",
       "xgbreg_pca_mle                                      19.8959  \n",
       "xgbreg_pca9                                         22.6343  "
      ]
     },
     "metadata": {},
     "output_type": "display_data"
    }
   ],
   "source": [
    "xgbreg_pca9.fit(x_train, y_train)\n",
    "\n",
    "_preds = xgbreg_pca9.predict(x_test)\n",
    "_ = calculate_scores('xgbreg_pca9', y_test, _preds)"
   ]
  },
  {
   "cell_type": "markdown",
   "id": "22899125",
   "metadata": {
    "papermill": {
     "duration": 0.084115,
     "end_time": "2022-04-25T11:50:19.702816",
     "exception": false,
     "start_time": "2022-04-25T11:50:19.618701",
     "status": "completed"
    },
    "tags": []
   },
   "source": [
    "# 2.7 Keras DNN"
   ]
  },
  {
   "cell_type": "markdown",
   "id": "5f46eb74",
   "metadata": {
    "papermill": {
     "duration": 0.08483,
     "end_time": "2022-04-25T11:50:19.872546",
     "exception": false,
     "start_time": "2022-04-25T11:50:19.787716",
     "status": "completed"
    },
    "tags": []
   },
   "source": [
    "## 2.7.1 Uns parametros jogados"
   ]
  },
  {
   "cell_type": "code",
   "execution_count": 44,
   "id": "021b9596",
   "metadata": {
    "execution": {
     "iopub.execute_input": "2022-04-25T11:50:20.043147Z",
     "iopub.status.busy": "2022-04-25T11:50:20.042340Z",
     "iopub.status.idle": "2022-04-25T11:50:24.240621Z",
     "shell.execute_reply": "2022-04-25T11:50:24.240083Z",
     "shell.execute_reply.started": "2022-04-12T17:53:33.372623Z"
    },
    "papermill": {
     "duration": 4.284001,
     "end_time": "2022-04-25T11:50:24.240775",
     "exception": false,
     "start_time": "2022-04-25T11:50:19.956774",
     "status": "completed"
    },
    "tags": []
   },
   "outputs": [],
   "source": [
    "from tqdm.keras import TqdmCallback\n",
    "from keras.models import Sequential\n",
    "from keras.layers import Dense, Activation, Flatten"
   ]
  },
  {
   "cell_type": "code",
   "execution_count": 45,
   "id": "900c39e8",
   "metadata": {
    "execution": {
     "iopub.execute_input": "2022-04-25T11:50:24.426944Z",
     "iopub.status.busy": "2022-04-25T11:50:24.425886Z",
     "iopub.status.idle": "2022-04-25T11:50:27.596211Z",
     "shell.execute_reply": "2022-04-25T11:50:27.597006Z",
     "shell.execute_reply.started": "2022-04-12T18:17:48.309504Z"
    },
    "papermill": {
     "duration": 3.269488,
     "end_time": "2022-04-25T11:50:27.597269",
     "exception": false,
     "start_time": "2022-04-25T11:50:24.327781",
     "status": "completed"
    },
    "tags": []
   },
   "outputs": [
    {
     "name": "stderr",
     "output_type": "stream",
     "text": [
      "2022-04-25 11:50:24.569843: I tensorflow/stream_executor/cuda/cuda_gpu_executor.cc:937] successful NUMA node read from SysFS had negative value (-1), but there must be at least one NUMA node, so returning NUMA node zero\n",
      "2022-04-25 11:50:24.574768: I tensorflow/stream_executor/cuda/cuda_gpu_executor.cc:937] successful NUMA node read from SysFS had negative value (-1), but there must be at least one NUMA node, so returning NUMA node zero\n",
      "2022-04-25 11:50:24.575583: I tensorflow/stream_executor/cuda/cuda_gpu_executor.cc:937] successful NUMA node read from SysFS had negative value (-1), but there must be at least one NUMA node, so returning NUMA node zero\n",
      "2022-04-25 11:50:24.576778: I tensorflow/core/platform/cpu_feature_guard.cc:142] This TensorFlow binary is optimized with oneAPI Deep Neural Network Library (oneDNN) to use the following CPU instructions in performance-critical operations:  AVX2 AVX512F FMA\n",
      "To enable them in other operations, rebuild TensorFlow with the appropriate compiler flags.\n",
      "2022-04-25 11:50:24.577670: I tensorflow/stream_executor/cuda/cuda_gpu_executor.cc:937] successful NUMA node read from SysFS had negative value (-1), but there must be at least one NUMA node, so returning NUMA node zero\n",
      "2022-04-25 11:50:24.578369: I tensorflow/stream_executor/cuda/cuda_gpu_executor.cc:937] successful NUMA node read from SysFS had negative value (-1), but there must be at least one NUMA node, so returning NUMA node zero\n",
      "2022-04-25 11:50:24.579019: I tensorflow/stream_executor/cuda/cuda_gpu_executor.cc:937] successful NUMA node read from SysFS had negative value (-1), but there must be at least one NUMA node, so returning NUMA node zero\n",
      "2022-04-25 11:50:27.363731: I tensorflow/stream_executor/cuda/cuda_gpu_executor.cc:937] successful NUMA node read from SysFS had negative value (-1), but there must be at least one NUMA node, so returning NUMA node zero\n",
      "2022-04-25 11:50:27.364565: I tensorflow/stream_executor/cuda/cuda_gpu_executor.cc:937] successful NUMA node read from SysFS had negative value (-1), but there must be at least one NUMA node, so returning NUMA node zero\n",
      "2022-04-25 11:50:27.365567: I tensorflow/stream_executor/cuda/cuda_gpu_executor.cc:937] successful NUMA node read from SysFS had negative value (-1), but there must be at least one NUMA node, so returning NUMA node zero\n",
      "2022-04-25 11:50:27.366235: I tensorflow/core/common_runtime/gpu/gpu_device.cc:1510] Created device /job:localhost/replica:0/task:0/device:GPU:0 with 15219 MB memory:  -> device: 0, name: Tesla P100-PCIE-16GB, pci bus id: 0000:00:04.0, compute capability: 6.0\n"
     ]
    },
    {
     "name": "stdout",
     "output_type": "stream",
     "text": [
      "Model: \"sequential\"\n",
      "_________________________________________________________________\n",
      "Layer (type)                 Output Shape              Param #   \n",
      "=================================================================\n",
      "dense (Dense)                (None, 128)               2176      \n",
      "_________________________________________________________________\n",
      "dense_1 (Dense)              (None, 256)               33024     \n",
      "_________________________________________________________________\n",
      "dense_2 (Dense)              (None, 256)               65792     \n",
      "_________________________________________________________________\n",
      "dense_3 (Dense)              (None, 256)               65792     \n",
      "_________________________________________________________________\n",
      "dense_4 (Dense)              (None, 1)                 257       \n",
      "=================================================================\n",
      "Total params: 167,041\n",
      "Trainable params: 167,041\n",
      "Non-trainable params: 0\n",
      "_________________________________________________________________\n"
     ]
    }
   ],
   "source": [
    "x_train, x_test, y_train, y_test, x_final, y_final, x_submission = preprocess(\n",
    "    train_set=df_train_raw, submission_set=df_test_raw, target='selling_price', split_data=True, test_size=0.15\n",
    ")\n",
    "\n",
    "preprocess_pipeline = make_column_transformer(\n",
    "    (SimpleImputer(strategy='mean', fill_value='constant'), make_column_selector(dtype_include=np.number)),\n",
    "    (OrdinalEncoder(handle_unknown='use_encoded_value', unknown_value=-1), make_column_selector(dtype_include=object))\n",
    ")\n",
    "\n",
    "keras_model = Sequential()\n",
    "keras_model.add(Dense(128, kernel_initializer='normal', input_dim = x_train.shape[1], activation='relu'))\n",
    "\n",
    "keras_model.add(Dense(256, kernel_initializer='normal', activation='relu'))\n",
    "keras_model.add(Dense(256, kernel_initializer='normal', activation='relu'))\n",
    "keras_model.add(Dense(256, kernel_initializer='normal', activation='relu'))\n",
    "\n",
    "keras_model.add(Dense(1, kernel_initializer='normal', activation='linear'))\n",
    "\n",
    "keras_model.compile(loss='mean_absolute_error', optimizer='adam', metrics=['mean_absolute_percentage_error', 'mean_absolute_error'])\n",
    "keras_model.summary()\n",
    "\n",
    "keras_basic = make_pipeline(\n",
    "    preprocess_pipeline,\n",
    "    RobustScaler(),\n",
    "    keras_model\n",
    ")"
   ]
  },
  {
   "cell_type": "code",
   "execution_count": 46,
   "id": "700482be",
   "metadata": {
    "execution": {
     "iopub.execute_input": "2022-04-25T11:50:27.885865Z",
     "iopub.status.busy": "2022-04-25T11:50:27.884944Z",
     "iopub.status.idle": "2022-04-25T11:54:50.675064Z",
     "shell.execute_reply": "2022-04-25T11:54:50.675541Z",
     "shell.execute_reply.started": "2022-04-12T18:01:42.763707Z"
    },
    "papermill": {
     "duration": 262.938004,
     "end_time": "2022-04-25T11:54:50.675723",
     "exception": false,
     "start_time": "2022-04-25T11:50:27.737719",
     "status": "completed"
    },
    "tags": []
   },
   "outputs": [
    {
     "data": {
      "application/vnd.jupyter.widget-view+json": {
       "model_id": "dfbaa463b89049db892938708901f986",
       "version_major": 2,
       "version_minor": 0
      },
      "text/plain": [
       "0epoch [00:00, ?epoch/s]"
      ]
     },
     "metadata": {},
     "output_type": "display_data"
    },
    {
     "data": {
      "application/vnd.jupyter.widget-view+json": {
       "model_id": "15393d220900453184d10d4c820d6d73",
       "version_major": 2,
       "version_minor": 0
      },
      "text/plain": [
       "0batch [00:00, ?batch/s]"
      ]
     },
     "metadata": {},
     "output_type": "display_data"
    },
    {
     "name": "stderr",
     "output_type": "stream",
     "text": [
      "2022-04-25 11:50:28.154789: I tensorflow/compiler/mlir/mlir_graph_optimization_pass.cc:185] None of the MLIR Optimization Passes are enabled (registered 2)\n"
     ]
    },
    {
     "data": {
      "text/plain": [
       "Pipeline(steps=[('columntransformer',\n",
       "                 ColumnTransformer(transformers=[('simpleimputer',\n",
       "                                                  SimpleImputer(fill_value='constant'),\n",
       "                                                  <sklearn.compose._column_transformer.make_column_selector object at 0x7f5c0e517610>),\n",
       "                                                 ('ordinalencoder',\n",
       "                                                  OrdinalEncoder(handle_unknown='use_encoded_value',\n",
       "                                                                 unknown_value=-1),\n",
       "                                                  <sklearn.compose._column_transformer.make_column_selector object at 0x7f5c0e517390>)])),\n",
       "                ('robustscaler', RobustScaler()),\n",
       "                ('sequential',\n",
       "                 <keras.engine.sequential.Sequential object at 0x7f5c0e517750>)])"
      ]
     },
     "execution_count": 46,
     "metadata": {},
     "output_type": "execute_result"
    }
   ],
   "source": [
    "fit_params = {\n",
    "    'sequential__epochs': 500,\n",
    "    'sequential__batch_size': 32,\n",
    "    'sequential__verbose': 0, \n",
    "    'sequential__callbacks': [TqdmCallback(verbose=1)]\n",
    "}\n",
    "\n",
    "keras_basic.fit(x_train, y_train, **fit_params)"
   ]
  },
  {
   "cell_type": "code",
   "execution_count": 47,
   "id": "0b72b851",
   "metadata": {
    "execution": {
     "iopub.execute_input": "2022-04-25T11:54:50.849793Z",
     "iopub.status.busy": "2022-04-25T11:54:50.848531Z",
     "iopub.status.idle": "2022-04-25T11:54:51.052161Z",
     "shell.execute_reply": "2022-04-25T11:54:51.051664Z",
     "shell.execute_reply.started": "2022-04-12T18:00:54.632174Z"
    },
    "papermill": {
     "duration": 0.293891,
     "end_time": "2022-04-25T11:54:51.052310",
     "exception": false,
     "start_time": "2022-04-25T11:54:50.758419",
     "status": "completed"
    },
    "tags": []
   },
   "outputs": [
    {
     "data": {
      "text/html": [
       "<div>\n",
       "<style scoped>\n",
       "    .dataframe tbody tr th:only-of-type {\n",
       "        vertical-align: middle;\n",
       "    }\n",
       "\n",
       "    .dataframe tbody tr th {\n",
       "        vertical-align: top;\n",
       "    }\n",
       "\n",
       "    .dataframe thead th {\n",
       "        text-align: right;\n",
       "    }\n",
       "</style>\n",
       "<table border=\"1\" class=\"dataframe\">\n",
       "  <thead>\n",
       "    <tr style=\"text-align: right;\">\n",
       "      <th></th>\n",
       "      <th>r2_score</th>\n",
       "      <th>max_error</th>\n",
       "      <th>explained_variance_score</th>\n",
       "      <th>mean_absolute_error</th>\n",
       "      <th>mean_absolute_percentage_error</th>\n",
       "    </tr>\n",
       "  </thead>\n",
       "  <tbody>\n",
       "    <tr>\n",
       "      <th>svr_basic</th>\n",
       "      <td>-0.0486</td>\n",
       "      <td>5549934.73</td>\n",
       "      <td>0.0002</td>\n",
       "      <td>376708.86</td>\n",
       "      <td>89.8819</td>\n",
       "    </tr>\n",
       "    <tr>\n",
       "      <th>linreg_basic</th>\n",
       "      <td>0.6689</td>\n",
       "      <td>3015136.06</td>\n",
       "      <td>0.6743</td>\n",
       "      <td>288823.33</td>\n",
       "      <td>90.0738</td>\n",
       "    </tr>\n",
       "    <tr>\n",
       "      <th>adareg_basic</th>\n",
       "      <td>0.8743</td>\n",
       "      <td>1500573.72</td>\n",
       "      <td>0.9178</td>\n",
       "      <td>229264.89</td>\n",
       "      <td>98.8738</td>\n",
       "    </tr>\n",
       "    <tr>\n",
       "      <th>adareg_manual_params</th>\n",
       "      <td>0.8099</td>\n",
       "      <td>1405349.34</td>\n",
       "      <td>0.9119</td>\n",
       "      <td>300827.21</td>\n",
       "      <td>125.2349</td>\n",
       "    </tr>\n",
       "    <tr>\n",
       "      <th>gbreg_basic</th>\n",
       "      <td>0.9008</td>\n",
       "      <td>1684436.14</td>\n",
       "      <td>0.9128</td>\n",
       "      <td>148156.05</td>\n",
       "      <td>39.9531</td>\n",
       "    </tr>\n",
       "    <tr>\n",
       "      <th>gbreg_manual_params</th>\n",
       "      <td>0.9709</td>\n",
       "      <td>1603500.95</td>\n",
       "      <td>0.9709</td>\n",
       "      <td>69887.61</td>\n",
       "      <td>16.7910</td>\n",
       "    </tr>\n",
       "    <tr>\n",
       "      <th>xgbreg_basic</th>\n",
       "      <td>0.9755</td>\n",
       "      <td>972903.75</td>\n",
       "      <td>0.9755</td>\n",
       "      <td>71866.24</td>\n",
       "      <td>18.0886</td>\n",
       "    </tr>\n",
       "    <tr>\n",
       "      <th>xgbreg_manual_params</th>\n",
       "      <td>0.9741</td>\n",
       "      <td>1372574.50</td>\n",
       "      <td>0.9741</td>\n",
       "      <td>68383.20</td>\n",
       "      <td>16.6275</td>\n",
       "    </tr>\n",
       "    <tr>\n",
       "      <th>xgbreg_manual_params_larger</th>\n",
       "      <td>0.9732</td>\n",
       "      <td>1463839.75</td>\n",
       "      <td>0.9732</td>\n",
       "      <td>69554.37</td>\n",
       "      <td>16.7420</td>\n",
       "    </tr>\n",
       "    <tr>\n",
       "      <th>xgbreg_pca_mle</th>\n",
       "      <td>0.9653</td>\n",
       "      <td>1449168.88</td>\n",
       "      <td>0.9654</td>\n",
       "      <td>81329.06</td>\n",
       "      <td>19.8959</td>\n",
       "    </tr>\n",
       "    <tr>\n",
       "      <th>xgbreg_pca9</th>\n",
       "      <td>0.9529</td>\n",
       "      <td>1879405.00</td>\n",
       "      <td>0.9529</td>\n",
       "      <td>93033.57</td>\n",
       "      <td>22.6343</td>\n",
       "    </tr>\n",
       "    <tr>\n",
       "      <th>keras_basic</th>\n",
       "      <td>0.9763</td>\n",
       "      <td>1385348.00</td>\n",
       "      <td>0.9763</td>\n",
       "      <td>76250.76</td>\n",
       "      <td>18.5339</td>\n",
       "    </tr>\n",
       "  </tbody>\n",
       "</table>\n",
       "</div>"
      ],
      "text/plain": [
       "                             r2_score   max_error  explained_variance_score  \\\n",
       "svr_basic                     -0.0486  5549934.73                    0.0002   \n",
       "linreg_basic                   0.6689  3015136.06                    0.6743   \n",
       "adareg_basic                   0.8743  1500573.72                    0.9178   \n",
       "adareg_manual_params           0.8099  1405349.34                    0.9119   \n",
       "gbreg_basic                    0.9008  1684436.14                    0.9128   \n",
       "gbreg_manual_params            0.9709  1603500.95                    0.9709   \n",
       "xgbreg_basic                   0.9755   972903.75                    0.9755   \n",
       "xgbreg_manual_params           0.9741  1372574.50                    0.9741   \n",
       "xgbreg_manual_params_larger    0.9732  1463839.75                    0.9732   \n",
       "xgbreg_pca_mle                 0.9653  1449168.88                    0.9654   \n",
       "xgbreg_pca9                    0.9529  1879405.00                    0.9529   \n",
       "keras_basic                    0.9763  1385348.00                    0.9763   \n",
       "\n",
       "                             mean_absolute_error  \\\n",
       "svr_basic                              376708.86   \n",
       "linreg_basic                           288823.33   \n",
       "adareg_basic                           229264.89   \n",
       "adareg_manual_params                   300827.21   \n",
       "gbreg_basic                            148156.05   \n",
       "gbreg_manual_params                     69887.61   \n",
       "xgbreg_basic                            71866.24   \n",
       "xgbreg_manual_params                    68383.20   \n",
       "xgbreg_manual_params_larger             69554.37   \n",
       "xgbreg_pca_mle                          81329.06   \n",
       "xgbreg_pca9                             93033.57   \n",
       "keras_basic                             76250.76   \n",
       "\n",
       "                             mean_absolute_percentage_error  \n",
       "svr_basic                                           89.8819  \n",
       "linreg_basic                                        90.0738  \n",
       "adareg_basic                                        98.8738  \n",
       "adareg_manual_params                               125.2349  \n",
       "gbreg_basic                                         39.9531  \n",
       "gbreg_manual_params                                 16.7910  \n",
       "xgbreg_basic                                        18.0886  \n",
       "xgbreg_manual_params                                16.6275  \n",
       "xgbreg_manual_params_larger                         16.7420  \n",
       "xgbreg_pca_mle                                      19.8959  \n",
       "xgbreg_pca9                                         22.6343  \n",
       "keras_basic                                         18.5339  "
      ]
     },
     "metadata": {},
     "output_type": "display_data"
    }
   ],
   "source": [
    "_preds = keras_basic.predict(x_test)\n",
    "_ = calculate_scores('keras_basic', y_test, _preds)"
   ]
  },
  {
   "cell_type": "markdown",
   "id": "1d5014e7",
   "metadata": {
    "papermill": {
     "duration": 0.081832,
     "end_time": "2022-04-25T11:54:51.224306",
     "exception": false,
     "start_time": "2022-04-25T11:54:51.142474",
     "status": "completed"
    },
    "tags": []
   },
   "source": [
    "### 2.7.1.1 Submissão"
   ]
  },
  {
   "cell_type": "code",
   "execution_count": 48,
   "id": "5b6788df",
   "metadata": {
    "execution": {
     "iopub.execute_input": "2022-04-25T11:54:51.402311Z",
     "iopub.status.busy": "2022-04-25T11:54:51.396168Z",
     "iopub.status.idle": "2022-04-25T11:59:13.549991Z",
     "shell.execute_reply": "2022-04-25T11:59:13.550489Z",
     "shell.execute_reply.started": "2022-04-12T18:01:55.313155Z"
    },
    "papermill": {
     "duration": 262.242529,
     "end_time": "2022-04-25T11:59:13.550668",
     "exception": false,
     "start_time": "2022-04-25T11:54:51.308139",
     "status": "completed"
    },
    "tags": []
   },
   "outputs": [
    {
     "data": {
      "text/plain": [
       "Pipeline(steps=[('columntransformer',\n",
       "                 ColumnTransformer(transformers=[('simpleimputer',\n",
       "                                                  SimpleImputer(fill_value='constant'),\n",
       "                                                  <sklearn.compose._column_transformer.make_column_selector object at 0x7f5c0e517610>),\n",
       "                                                 ('ordinalencoder',\n",
       "                                                  OrdinalEncoder(handle_unknown='use_encoded_value',\n",
       "                                                                 unknown_value=-1),\n",
       "                                                  <sklearn.compose._column_transformer.make_column_selector object at 0x7f5c0e517390>)])),\n",
       "                ('robustscaler', RobustScaler()),\n",
       "                ('sequential',\n",
       "                 <keras.engine.sequential.Sequential object at 0x7f5c0e517750>)])"
      ]
     },
     "execution_count": 48,
     "metadata": {},
     "output_type": "execute_result"
    }
   ],
   "source": [
    "keras_basic.fit(x_final, y_final, **fit_params)"
   ]
  },
  {
   "cell_type": "code",
   "execution_count": 49,
   "id": "f68628f3",
   "metadata": {
    "execution": {
     "iopub.execute_input": "2022-04-25T11:59:13.733846Z",
     "iopub.status.busy": "2022-04-25T11:59:13.727516Z",
     "iopub.status.idle": "2022-04-25T11:59:13.764964Z",
     "shell.execute_reply": "2022-04-25T11:59:13.765373Z",
     "shell.execute_reply.started": "2022-04-12T18:14:27.362286Z"
    },
    "papermill": {
     "duration": 0.127015,
     "end_time": "2022-04-25T11:59:13.765526",
     "exception": false,
     "start_time": "2022-04-25T11:59:13.638511",
     "status": "completed"
    },
    "tags": []
   },
   "outputs": [],
   "source": [
    "keras_basic.steps[-1][1].save('keras_basic.keras')"
   ]
  },
  {
   "cell_type": "code",
   "execution_count": 50,
   "id": "7df43f64",
   "metadata": {
    "execution": {
     "iopub.execute_input": "2022-04-25T11:59:13.942020Z",
     "iopub.status.busy": "2022-04-25T11:59:13.940252Z",
     "iopub.status.idle": "2022-04-25T11:59:14.078427Z",
     "shell.execute_reply": "2022-04-25T11:59:14.077564Z",
     "shell.execute_reply.started": "2022-04-12T18:15:58.647584Z"
    },
    "papermill": {
     "duration": 0.227472,
     "end_time": "2022-04-25T11:59:14.078603",
     "exception": false,
     "start_time": "2022-04-25T11:59:13.851131",
     "status": "completed"
    },
    "tags": []
   },
   "outputs": [],
   "source": [
    "preds = keras_basic.predict(x_submission)\n",
    "export_pred('keras_basic', x_submission, preds.flatten())"
   ]
  },
  {
   "cell_type": "markdown",
   "id": "7f254097",
   "metadata": {
    "papermill": {
     "duration": 0.08531,
     "end_time": "2022-04-25T11:59:14.247615",
     "exception": false,
     "start_time": "2022-04-25T11:59:14.162305",
     "status": "completed"
    },
    "tags": []
   },
   "source": [
    "## 2.7.2 Números maiores"
   ]
  },
  {
   "cell_type": "code",
   "execution_count": 51,
   "id": "ef59ed6f",
   "metadata": {
    "execution": {
     "iopub.execute_input": "2022-04-25T11:59:14.431514Z",
     "iopub.status.busy": "2022-04-25T11:59:14.430510Z",
     "iopub.status.idle": "2022-04-25T11:59:14.432251Z",
     "shell.execute_reply": "2022-04-25T11:59:14.432841Z",
     "shell.execute_reply.started": "2022-04-12T17:53:33.372623Z"
    },
    "papermill": {
     "duration": 0.096895,
     "end_time": "2022-04-25T11:59:14.432992",
     "exception": false,
     "start_time": "2022-04-25T11:59:14.336097",
     "status": "completed"
    },
    "tags": []
   },
   "outputs": [],
   "source": [
    "from tqdm.keras import TqdmCallback\n",
    "from keras.models import Sequential\n",
    "from keras.layers import Dense, Activation, Flatten"
   ]
  },
  {
   "cell_type": "code",
   "execution_count": 52,
   "id": "3e40adc0",
   "metadata": {
    "execution": {
     "iopub.execute_input": "2022-04-25T11:59:14.602564Z",
     "iopub.status.busy": "2022-04-25T11:59:14.601716Z",
     "iopub.status.idle": "2022-04-25T11:59:14.772841Z",
     "shell.execute_reply": "2022-04-25T11:59:14.772283Z",
     "shell.execute_reply.started": "2022-04-12T18:18:59.201096Z"
    },
    "papermill": {
     "duration": 0.257101,
     "end_time": "2022-04-25T11:59:14.772975",
     "exception": false,
     "start_time": "2022-04-25T11:59:14.515874",
     "status": "completed"
    },
    "tags": []
   },
   "outputs": [
    {
     "name": "stdout",
     "output_type": "stream",
     "text": [
      "Model: \"sequential_1\"\n",
      "_________________________________________________________________\n",
      "Layer (type)                 Output Shape              Param #   \n",
      "=================================================================\n",
      "dense_5 (Dense)              (None, 256)               4352      \n",
      "_________________________________________________________________\n",
      "dense_6 (Dense)              (None, 1024)              263168    \n",
      "_________________________________________________________________\n",
      "dense_7 (Dense)              (None, 512)               524800    \n",
      "_________________________________________________________________\n",
      "dense_8 (Dense)              (None, 256)               131328    \n",
      "_________________________________________________________________\n",
      "dense_9 (Dense)              (None, 1)                 257       \n",
      "=================================================================\n",
      "Total params: 923,905\n",
      "Trainable params: 923,905\n",
      "Non-trainable params: 0\n",
      "_________________________________________________________________\n"
     ]
    }
   ],
   "source": [
    "x_train, x_test, y_train, y_test, x_final, y_final, x_submission = preprocess(\n",
    "    train_set=df_train_raw, submission_set=df_test_raw, target='selling_price', split_data=True, test_size=0.15\n",
    ")\n",
    "\n",
    "preprocess_pipeline = make_column_transformer(\n",
    "    (SimpleImputer(strategy='mean', fill_value='constant'), make_column_selector(dtype_include=np.number)),\n",
    "    (OrdinalEncoder(handle_unknown='use_encoded_value', unknown_value=-1), make_column_selector(dtype_include=object))\n",
    ")\n",
    "\n",
    "keras_model = Sequential()\n",
    "keras_model.add(Dense(256, kernel_initializer='normal', input_dim = x_train.shape[1], activation='relu'))\n",
    "\n",
    "keras_model.add(Dense(1024, kernel_initializer='normal', activation='relu'))\n",
    "keras_model.add(Dense(512, kernel_initializer='normal', activation='relu'))\n",
    "keras_model.add(Dense(256, kernel_initializer='normal', activation='relu'))\n",
    "\n",
    "keras_model.add(Dense(1, kernel_initializer='normal', activation='linear'))\n",
    "\n",
    "keras_model.compile(loss='mean_absolute_error', optimizer='adam', metrics=['mean_absolute_percentage_error', 'mean_absolute_error'])\n",
    "keras_model.summary()\n",
    "\n",
    "keras_larger = make_pipeline(\n",
    "    preprocess_pipeline,\n",
    "    RobustScaler(),\n",
    "    keras_model\n",
    ")"
   ]
  },
  {
   "cell_type": "code",
   "execution_count": 53,
   "id": "ec1ace32",
   "metadata": {
    "execution": {
     "iopub.execute_input": "2022-04-25T11:59:14.974910Z",
     "iopub.status.busy": "2022-04-25T11:59:14.953671Z",
     "iopub.status.idle": "2022-04-25T12:06:37.544325Z",
     "shell.execute_reply": "2022-04-25T12:06:37.545067Z",
     "shell.execute_reply.started": "2022-04-12T18:24:15.82706Z"
    },
    "papermill": {
     "duration": 442.685194,
     "end_time": "2022-04-25T12:06:37.545244",
     "exception": false,
     "start_time": "2022-04-25T11:59:14.860050",
     "status": "completed"
    },
    "tags": []
   },
   "outputs": [
    {
     "data": {
      "application/vnd.jupyter.widget-view+json": {
       "model_id": "8f024d4f95584c58b3807a8a25c48d20",
       "version_major": 2,
       "version_minor": 0
      },
      "text/plain": [
       "0epoch [00:00, ?epoch/s]"
      ]
     },
     "metadata": {},
     "output_type": "display_data"
    },
    {
     "data": {
      "application/vnd.jupyter.widget-view+json": {
       "model_id": "c11c389e3b9e4dbe91708f12380585de",
       "version_major": 2,
       "version_minor": 0
      },
      "text/plain": [
       "0batch [00:00, ?batch/s]"
      ]
     },
     "metadata": {},
     "output_type": "display_data"
    },
    {
     "data": {
      "text/plain": [
       "Pipeline(steps=[('columntransformer',\n",
       "                 ColumnTransformer(transformers=[('simpleimputer',\n",
       "                                                  SimpleImputer(fill_value='constant'),\n",
       "                                                  <sklearn.compose._column_transformer.make_column_selector object at 0x7f5cd67c7b50>),\n",
       "                                                 ('ordinalencoder',\n",
       "                                                  OrdinalEncoder(handle_unknown='use_encoded_value',\n",
       "                                                                 unknown_value=-1),\n",
       "                                                  <sklearn.compose._column_transformer.make_column_selector object at 0x7f5baef77fd0>)])),\n",
       "                ('robustscaler', RobustScaler()),\n",
       "                ('sequential',\n",
       "                 <keras.engine.sequential.Sequential object at 0x7f5c0ecf99d0>)])"
      ]
     },
     "execution_count": 53,
     "metadata": {},
     "output_type": "execute_result"
    }
   ],
   "source": [
    "fit_params = {\n",
    "    'sequential__epochs': 1000,\n",
    "    'sequential__batch_size': 32,\n",
    "    'sequential__verbose': 0, \n",
    "    'sequential__callbacks': [TqdmCallback(verbose=1)],\n",
    "    'sequential__use_multiprocessing': True,\n",
    "    'sequential__workers': 4\n",
    "}\n",
    "\n",
    "keras_larger.fit(x_train, y_train, **fit_params)"
   ]
  },
  {
   "cell_type": "code",
   "execution_count": 54,
   "id": "98851445",
   "metadata": {
    "execution": {
     "iopub.execute_input": "2022-04-25T12:06:37.725846Z",
     "iopub.status.busy": "2022-04-25T12:06:37.724911Z",
     "iopub.status.idle": "2022-04-25T12:06:37.860801Z",
     "shell.execute_reply": "2022-04-25T12:06:37.861314Z",
     "shell.execute_reply.started": "2022-04-12T18:47:53.562777Z"
    },
    "papermill": {
     "duration": 0.23017,
     "end_time": "2022-04-25T12:06:37.861496",
     "exception": false,
     "start_time": "2022-04-25T12:06:37.631326",
     "status": "completed"
    },
    "tags": []
   },
   "outputs": [
    {
     "data": {
      "text/html": [
       "<div>\n",
       "<style scoped>\n",
       "    .dataframe tbody tr th:only-of-type {\n",
       "        vertical-align: middle;\n",
       "    }\n",
       "\n",
       "    .dataframe tbody tr th {\n",
       "        vertical-align: top;\n",
       "    }\n",
       "\n",
       "    .dataframe thead th {\n",
       "        text-align: right;\n",
       "    }\n",
       "</style>\n",
       "<table border=\"1\" class=\"dataframe\">\n",
       "  <thead>\n",
       "    <tr style=\"text-align: right;\">\n",
       "      <th></th>\n",
       "      <th>r2_score</th>\n",
       "      <th>max_error</th>\n",
       "      <th>explained_variance_score</th>\n",
       "      <th>mean_absolute_error</th>\n",
       "      <th>mean_absolute_percentage_error</th>\n",
       "    </tr>\n",
       "  </thead>\n",
       "  <tbody>\n",
       "    <tr>\n",
       "      <th>svr_basic</th>\n",
       "      <td>-0.0486</td>\n",
       "      <td>5549934.73</td>\n",
       "      <td>0.0002</td>\n",
       "      <td>376708.86</td>\n",
       "      <td>89.8819</td>\n",
       "    </tr>\n",
       "    <tr>\n",
       "      <th>linreg_basic</th>\n",
       "      <td>0.6689</td>\n",
       "      <td>3015136.06</td>\n",
       "      <td>0.6743</td>\n",
       "      <td>288823.33</td>\n",
       "      <td>90.0738</td>\n",
       "    </tr>\n",
       "    <tr>\n",
       "      <th>adareg_basic</th>\n",
       "      <td>0.8743</td>\n",
       "      <td>1500573.72</td>\n",
       "      <td>0.9178</td>\n",
       "      <td>229264.89</td>\n",
       "      <td>98.8738</td>\n",
       "    </tr>\n",
       "    <tr>\n",
       "      <th>adareg_manual_params</th>\n",
       "      <td>0.8099</td>\n",
       "      <td>1405349.34</td>\n",
       "      <td>0.9119</td>\n",
       "      <td>300827.21</td>\n",
       "      <td>125.2349</td>\n",
       "    </tr>\n",
       "    <tr>\n",
       "      <th>gbreg_basic</th>\n",
       "      <td>0.9008</td>\n",
       "      <td>1684436.14</td>\n",
       "      <td>0.9128</td>\n",
       "      <td>148156.05</td>\n",
       "      <td>39.9531</td>\n",
       "    </tr>\n",
       "    <tr>\n",
       "      <th>gbreg_manual_params</th>\n",
       "      <td>0.9709</td>\n",
       "      <td>1603500.95</td>\n",
       "      <td>0.9709</td>\n",
       "      <td>69887.61</td>\n",
       "      <td>16.7910</td>\n",
       "    </tr>\n",
       "    <tr>\n",
       "      <th>xgbreg_basic</th>\n",
       "      <td>0.9755</td>\n",
       "      <td>972903.75</td>\n",
       "      <td>0.9755</td>\n",
       "      <td>71866.24</td>\n",
       "      <td>18.0886</td>\n",
       "    </tr>\n",
       "    <tr>\n",
       "      <th>xgbreg_manual_params</th>\n",
       "      <td>0.9741</td>\n",
       "      <td>1372574.50</td>\n",
       "      <td>0.9741</td>\n",
       "      <td>68383.20</td>\n",
       "      <td>16.6275</td>\n",
       "    </tr>\n",
       "    <tr>\n",
       "      <th>xgbreg_manual_params_larger</th>\n",
       "      <td>0.9732</td>\n",
       "      <td>1463839.75</td>\n",
       "      <td>0.9732</td>\n",
       "      <td>69554.37</td>\n",
       "      <td>16.7420</td>\n",
       "    </tr>\n",
       "    <tr>\n",
       "      <th>xgbreg_pca_mle</th>\n",
       "      <td>0.9653</td>\n",
       "      <td>1449168.88</td>\n",
       "      <td>0.9654</td>\n",
       "      <td>81329.06</td>\n",
       "      <td>19.8959</td>\n",
       "    </tr>\n",
       "    <tr>\n",
       "      <th>xgbreg_pca9</th>\n",
       "      <td>0.9529</td>\n",
       "      <td>1879405.00</td>\n",
       "      <td>0.9529</td>\n",
       "      <td>93033.57</td>\n",
       "      <td>22.6343</td>\n",
       "    </tr>\n",
       "    <tr>\n",
       "      <th>keras_basic</th>\n",
       "      <td>0.9763</td>\n",
       "      <td>1385348.00</td>\n",
       "      <td>0.9763</td>\n",
       "      <td>76250.76</td>\n",
       "      <td>18.5339</td>\n",
       "    </tr>\n",
       "    <tr>\n",
       "      <th>keras_larger</th>\n",
       "      <td>0.9756</td>\n",
       "      <td>1040522.38</td>\n",
       "      <td>0.9760</td>\n",
       "      <td>82629.11</td>\n",
       "      <td>19.5042</td>\n",
       "    </tr>\n",
       "  </tbody>\n",
       "</table>\n",
       "</div>"
      ],
      "text/plain": [
       "                             r2_score   max_error  explained_variance_score  \\\n",
       "svr_basic                     -0.0486  5549934.73                    0.0002   \n",
       "linreg_basic                   0.6689  3015136.06                    0.6743   \n",
       "adareg_basic                   0.8743  1500573.72                    0.9178   \n",
       "adareg_manual_params           0.8099  1405349.34                    0.9119   \n",
       "gbreg_basic                    0.9008  1684436.14                    0.9128   \n",
       "gbreg_manual_params            0.9709  1603500.95                    0.9709   \n",
       "xgbreg_basic                   0.9755   972903.75                    0.9755   \n",
       "xgbreg_manual_params           0.9741  1372574.50                    0.9741   \n",
       "xgbreg_manual_params_larger    0.9732  1463839.75                    0.9732   \n",
       "xgbreg_pca_mle                 0.9653  1449168.88                    0.9654   \n",
       "xgbreg_pca9                    0.9529  1879405.00                    0.9529   \n",
       "keras_basic                    0.9763  1385348.00                    0.9763   \n",
       "keras_larger                   0.9756  1040522.38                    0.9760   \n",
       "\n",
       "                             mean_absolute_error  \\\n",
       "svr_basic                              376708.86   \n",
       "linreg_basic                           288823.33   \n",
       "adareg_basic                           229264.89   \n",
       "adareg_manual_params                   300827.21   \n",
       "gbreg_basic                            148156.05   \n",
       "gbreg_manual_params                     69887.61   \n",
       "xgbreg_basic                            71866.24   \n",
       "xgbreg_manual_params                    68383.20   \n",
       "xgbreg_manual_params_larger             69554.37   \n",
       "xgbreg_pca_mle                          81329.06   \n",
       "xgbreg_pca9                             93033.57   \n",
       "keras_basic                             76250.76   \n",
       "keras_larger                            82629.11   \n",
       "\n",
       "                             mean_absolute_percentage_error  \n",
       "svr_basic                                           89.8819  \n",
       "linreg_basic                                        90.0738  \n",
       "adareg_basic                                        98.8738  \n",
       "adareg_manual_params                               125.2349  \n",
       "gbreg_basic                                         39.9531  \n",
       "gbreg_manual_params                                 16.7910  \n",
       "xgbreg_basic                                        18.0886  \n",
       "xgbreg_manual_params                                16.6275  \n",
       "xgbreg_manual_params_larger                         16.7420  \n",
       "xgbreg_pca_mle                                      19.8959  \n",
       "xgbreg_pca9                                         22.6343  \n",
       "keras_basic                                         18.5339  \n",
       "keras_larger                                        19.5042  "
      ]
     },
     "metadata": {},
     "output_type": "display_data"
    }
   ],
   "source": [
    "_preds = keras_larger.predict(x_test)\n",
    "_ = calculate_scores('keras_larger', y_test, _preds)"
   ]
  },
  {
   "cell_type": "markdown",
   "id": "0c50be29",
   "metadata": {
    "papermill": {
     "duration": 0.08603,
     "end_time": "2022-04-25T12:06:38.035500",
     "exception": false,
     "start_time": "2022-04-25T12:06:37.949470",
     "status": "completed"
    },
    "tags": []
   },
   "source": [
    "### 2.7.2.1 Submissão"
   ]
  },
  {
   "cell_type": "code",
   "execution_count": 55,
   "id": "1cff0a33",
   "metadata": {
    "execution": {
     "iopub.execute_input": "2022-04-25T12:06:38.228303Z",
     "iopub.status.busy": "2022-04-25T12:06:38.227250Z",
     "iopub.status.idle": "2022-04-25T12:15:00.333598Z",
     "shell.execute_reply": "2022-04-25T12:15:00.334080Z",
     "shell.execute_reply.started": "2022-04-12T18:48:50.593794Z"
    },
    "papermill": {
     "duration": 502.209847,
     "end_time": "2022-04-25T12:15:00.334238",
     "exception": false,
     "start_time": "2022-04-25T12:06:38.124391",
     "status": "completed"
    },
    "tags": []
   },
   "outputs": [
    {
     "data": {
      "text/plain": [
       "Pipeline(steps=[('columntransformer',\n",
       "                 ColumnTransformer(transformers=[('simpleimputer',\n",
       "                                                  SimpleImputer(fill_value='constant'),\n",
       "                                                  <sklearn.compose._column_transformer.make_column_selector object at 0x7f5cd67c7b50>),\n",
       "                                                 ('ordinalencoder',\n",
       "                                                  OrdinalEncoder(handle_unknown='use_encoded_value',\n",
       "                                                                 unknown_value=-1),\n",
       "                                                  <sklearn.compose._column_transformer.make_column_selector object at 0x7f5baef77fd0>)])),\n",
       "                ('robustscaler', RobustScaler()),\n",
       "                ('sequential',\n",
       "                 <keras.engine.sequential.Sequential object at 0x7f5c0ecf99d0>)])"
      ]
     },
     "execution_count": 55,
     "metadata": {},
     "output_type": "execute_result"
    }
   ],
   "source": [
    "keras_larger.fit(x_final, y_final, **fit_params)"
   ]
  },
  {
   "cell_type": "code",
   "execution_count": 56,
   "id": "373a13b2",
   "metadata": {
    "execution": {
     "iopub.execute_input": "2022-04-25T12:15:00.591543Z",
     "iopub.status.busy": "2022-04-25T12:15:00.590525Z",
     "iopub.status.idle": "2022-04-25T12:15:00.634511Z",
     "shell.execute_reply": "2022-04-25T12:15:00.633981Z",
     "shell.execute_reply.started": "2022-04-12T19:13:49.397027Z"
    },
    "papermill": {
     "duration": 0.207205,
     "end_time": "2022-04-25T12:15:00.634679",
     "exception": false,
     "start_time": "2022-04-25T12:15:00.427474",
     "status": "completed"
    },
    "tags": []
   },
   "outputs": [],
   "source": [
    "keras_larger.steps[-1][1].save('keras_larger.keras')"
   ]
  },
  {
   "cell_type": "code",
   "execution_count": 57,
   "id": "9d7ba482",
   "metadata": {
    "execution": {
     "iopub.execute_input": "2022-04-25T12:15:00.823043Z",
     "iopub.status.busy": "2022-04-25T12:15:00.818978Z",
     "iopub.status.idle": "2022-04-25T12:15:00.958039Z",
     "shell.execute_reply": "2022-04-25T12:15:00.957106Z",
     "shell.execute_reply.started": "2022-04-12T19:13:49.479883Z"
    },
    "papermill": {
     "duration": 0.232145,
     "end_time": "2022-04-25T12:15:00.958214",
     "exception": false,
     "start_time": "2022-04-25T12:15:00.726069",
     "status": "completed"
    },
    "tags": []
   },
   "outputs": [],
   "source": [
    "preds = keras_larger.predict(x_submission)\n",
    "export_pred('keras_larger', x_submission, preds.flatten())"
   ]
  }
 ],
 "metadata": {
  "kernelspec": {
   "display_name": "Python 3",
   "language": "python",
   "name": "python3"
  },
  "language_info": {
   "codemirror_mode": {
    "name": "ipython",
    "version": 3
   },
   "file_extension": ".py",
   "mimetype": "text/x-python",
   "name": "python",
   "nbconvert_exporter": "python",
   "pygments_lexer": "ipython3",
   "version": "3.7.12"
  },
  "papermill": {
   "default_parameters": {},
   "duration": 1841.178099,
   "end_time": "2022-04-25T12:15:04.144429",
   "environment_variables": {},
   "exception": null,
   "input_path": "__notebook__.ipynb",
   "output_path": "__notebook__.ipynb",
   "parameters": {},
   "start_time": "2022-04-25T11:44:22.966330",
   "version": "2.3.3"
  },
  "widgets": {
   "application/vnd.jupyter.widget-state+json": {
    "state": {
     "04c25c1c362f4e4184b56f88dada497c": {
      "model_module": "@jupyter-widgets/base",
      "model_module_version": "1.2.0",
      "model_name": "LayoutModel",
      "state": {
       "_model_module": "@jupyter-widgets/base",
       "_model_module_version": "1.2.0",
       "_model_name": "LayoutModel",
       "_view_count": null,
       "_view_module": "@jupyter-widgets/base",
       "_view_module_version": "1.2.0",
       "_view_name": "LayoutView",
       "align_content": null,
       "align_items": null,
       "align_self": null,
       "border": null,
       "bottom": null,
       "display": null,
       "flex": null,
       "flex_flow": null,
       "grid_area": null,
       "grid_auto_columns": null,
       "grid_auto_flow": null,
       "grid_auto_rows": null,
       "grid_column": null,
       "grid_gap": null,
       "grid_row": null,
       "grid_template_areas": null,
       "grid_template_columns": null,
       "grid_template_rows": null,
       "height": null,
       "justify_content": null,
       "justify_items": null,
       "left": null,
       "margin": null,
       "max_height": null,
       "max_width": null,
       "min_height": null,
       "min_width": null,
       "object_fit": null,
       "object_position": null,
       "order": null,
       "overflow": null,
       "overflow_x": null,
       "overflow_y": null,
       "padding": null,
       "right": null,
       "top": null,
       "visibility": null,
       "width": null
      }
     },
     "15393d220900453184d10d4c820d6d73": {
      "model_module": "@jupyter-widgets/controls",
      "model_module_version": "1.5.0",
      "model_name": "HBoxModel",
      "state": {
       "_dom_classes": [],
       "_model_module": "@jupyter-widgets/controls",
       "_model_module_version": "1.5.0",
       "_model_name": "HBoxModel",
       "_view_count": null,
       "_view_module": "@jupyter-widgets/controls",
       "_view_module_version": "1.5.0",
       "_view_name": "HBoxView",
       "box_style": "",
       "children": [
        "IPY_MODEL_aee8c3f083834c5ba6c0106414f6c784",
        "IPY_MODEL_b9a200ceb8114ff5a3fe446bc4e82e3b",
        "IPY_MODEL_3e40f9f523b148c69ae3ffa4b21874d1"
       ],
       "layout": "IPY_MODEL_3f63918897fd4bedac00ca1129e0c93f"
      }
     },
     "20e63526275947c0822e7f2611fbcb08": {
      "model_module": "@jupyter-widgets/controls",
      "model_module_version": "1.5.0",
      "model_name": "DescriptionStyleModel",
      "state": {
       "_model_module": "@jupyter-widgets/controls",
       "_model_module_version": "1.5.0",
       "_model_name": "DescriptionStyleModel",
       "_view_count": null,
       "_view_module": "@jupyter-widgets/base",
       "_view_module_version": "1.2.0",
       "_view_name": "StyleView",
       "description_width": ""
      }
     },
     "21d80d0bbc2b497ca172b26c3f475700": {
      "model_module": "@jupyter-widgets/base",
      "model_module_version": "1.2.0",
      "model_name": "LayoutModel",
      "state": {
       "_model_module": "@jupyter-widgets/base",
       "_model_module_version": "1.2.0",
       "_model_name": "LayoutModel",
       "_view_count": null,
       "_view_module": "@jupyter-widgets/base",
       "_view_module_version": "1.2.0",
       "_view_name": "LayoutView",
       "align_content": null,
       "align_items": null,
       "align_self": null,
       "border": null,
       "bottom": null,
       "display": null,
       "flex": null,
       "flex_flow": null,
       "grid_area": null,
       "grid_auto_columns": null,
       "grid_auto_flow": null,
       "grid_auto_rows": null,
       "grid_column": null,
       "grid_gap": null,
       "grid_row": null,
       "grid_template_areas": null,
       "grid_template_columns": null,
       "grid_template_rows": null,
       "height": null,
       "justify_content": null,
       "justify_items": null,
       "left": null,
       "margin": null,
       "max_height": null,
       "max_width": null,
       "min_height": null,
       "min_width": null,
       "object_fit": null,
       "object_position": null,
       "order": null,
       "overflow": null,
       "overflow_x": null,
       "overflow_y": null,
       "padding": null,
       "right": null,
       "top": null,
       "visibility": null,
       "width": null
      }
     },
     "339b2fc02fb145beb65a2ead1edcaec3": {
      "model_module": "@jupyter-widgets/base",
      "model_module_version": "1.2.0",
      "model_name": "LayoutModel",
      "state": {
       "_model_module": "@jupyter-widgets/base",
       "_model_module_version": "1.2.0",
       "_model_name": "LayoutModel",
       "_view_count": null,
       "_view_module": "@jupyter-widgets/base",
       "_view_module_version": "1.2.0",
       "_view_name": "LayoutView",
       "align_content": null,
       "align_items": null,
       "align_self": null,
       "border": null,
       "bottom": null,
       "display": null,
       "flex": null,
       "flex_flow": null,
       "grid_area": null,
       "grid_auto_columns": null,
       "grid_auto_flow": null,
       "grid_auto_rows": null,
       "grid_column": null,
       "grid_gap": null,
       "grid_row": null,
       "grid_template_areas": null,
       "grid_template_columns": null,
       "grid_template_rows": null,
       "height": null,
       "justify_content": null,
       "justify_items": null,
       "left": null,
       "margin": null,
       "max_height": null,
       "max_width": null,
       "min_height": null,
       "min_width": null,
       "object_fit": null,
       "object_position": null,
       "order": null,
       "overflow": null,
       "overflow_x": null,
       "overflow_y": null,
       "padding": null,
       "right": null,
       "top": null,
       "visibility": null,
       "width": null
      }
     },
     "3e40f9f523b148c69ae3ffa4b21874d1": {
      "model_module": "@jupyter-widgets/controls",
      "model_module_version": "1.5.0",
      "model_name": "HTMLModel",
      "state": {
       "_dom_classes": [],
       "_model_module": "@jupyter-widgets/controls",
       "_model_module_version": "1.5.0",
       "_model_name": "HTMLModel",
       "_view_count": null,
       "_view_module": "@jupyter-widgets/controls",
       "_view_module_version": "1.5.0",
       "_view_name": "HTMLView",
       "description": "",
       "description_tooltip": null,
       "layout": "IPY_MODEL_cd0535efef1c42b9b93f92032c1317b5",
       "placeholder": "​",
       "style": "IPY_MODEL_fd30d755dead46899d28dfaf95ba257b",
       "value": " 146/152 [00:00&lt;00:00, 316batch/s, loss=5.24e+4, mean_absolute_percentage_error=11.5, mean_absolute_error=5.24e+4]"
      }
     },
     "3f63918897fd4bedac00ca1129e0c93f": {
      "model_module": "@jupyter-widgets/base",
      "model_module_version": "1.2.0",
      "model_name": "LayoutModel",
      "state": {
       "_model_module": "@jupyter-widgets/base",
       "_model_module_version": "1.2.0",
       "_model_name": "LayoutModel",
       "_view_count": null,
       "_view_module": "@jupyter-widgets/base",
       "_view_module_version": "1.2.0",
       "_view_name": "LayoutView",
       "align_content": null,
       "align_items": null,
       "align_self": null,
       "border": null,
       "bottom": null,
       "display": null,
       "flex": null,
       "flex_flow": null,
       "grid_area": null,
       "grid_auto_columns": null,
       "grid_auto_flow": null,
       "grid_auto_rows": null,
       "grid_column": null,
       "grid_gap": null,
       "grid_row": null,
       "grid_template_areas": null,
       "grid_template_columns": null,
       "grid_template_rows": null,
       "height": null,
       "justify_content": null,
       "justify_items": null,
       "left": null,
       "margin": null,
       "max_height": null,
       "max_width": null,
       "min_height": null,
       "min_width": null,
       "object_fit": null,
       "object_position": null,
       "order": null,
       "overflow": null,
       "overflow_x": null,
       "overflow_y": null,
       "padding": null,
       "right": null,
       "top": null,
       "visibility": null,
       "width": null
      }
     },
     "4f5558df7b8848c6a3f4b5217a0ed17f": {
      "model_module": "@jupyter-widgets/controls",
      "model_module_version": "1.5.0",
      "model_name": "HTMLModel",
      "state": {
       "_dom_classes": [],
       "_model_module": "@jupyter-widgets/controls",
       "_model_module_version": "1.5.0",
       "_model_name": "HTMLModel",
       "_view_count": null,
       "_view_module": "@jupyter-widgets/controls",
       "_view_module_version": "1.5.0",
       "_view_name": "HTMLView",
       "description": "",
       "description_tooltip": null,
       "layout": "IPY_MODEL_9511fb78b22c412290115137b1003802",
       "placeholder": "​",
       "style": "IPY_MODEL_c7892c112cc4433a8e373e7c785bcb49",
       "value": " 1000/1000 [07:18&lt;00:00,  2.34epoch/s, loss=1.71e+4, mean_absolute_percentage_error=3.3, mean_absolute_error=1.71e+4]"
      }
     },
     "51686e3664c940e29099fcac9266e5fd": {
      "model_module": "@jupyter-widgets/controls",
      "model_module_version": "1.5.0",
      "model_name": "HTMLModel",
      "state": {
       "_dom_classes": [],
       "_model_module": "@jupyter-widgets/controls",
       "_model_module_version": "1.5.0",
       "_model_name": "HTMLModel",
       "_view_count": null,
       "_view_module": "@jupyter-widgets/controls",
       "_view_module_version": "1.5.0",
       "_view_name": "HTMLView",
       "description": "",
       "description_tooltip": null,
       "layout": "IPY_MODEL_f1b8ae28786e40678a8eafe44ad5fa42",
       "placeholder": "​",
       "style": "IPY_MODEL_8f2ca8f4b9074564a96bc49b41157dfc",
       "value": "100%"
      }
     },
     "57c976eeab1a4e7c9366dc24ae342200": {
      "model_module": "@jupyter-widgets/base",
      "model_module_version": "1.2.0",
      "model_name": "LayoutModel",
      "state": {
       "_model_module": "@jupyter-widgets/base",
       "_model_module_version": "1.2.0",
       "_model_name": "LayoutModel",
       "_view_count": null,
       "_view_module": "@jupyter-widgets/base",
       "_view_module_version": "1.2.0",
       "_view_name": "LayoutView",
       "align_content": null,
       "align_items": null,
       "align_self": null,
       "border": null,
       "bottom": null,
       "display": null,
       "flex": null,
       "flex_flow": null,
       "grid_area": null,
       "grid_auto_columns": null,
       "grid_auto_flow": null,
       "grid_auto_rows": null,
       "grid_column": null,
       "grid_gap": null,
       "grid_row": null,
       "grid_template_areas": null,
       "grid_template_columns": null,
       "grid_template_rows": null,
       "height": null,
       "justify_content": null,
       "justify_items": null,
       "left": null,
       "margin": null,
       "max_height": null,
       "max_width": null,
       "min_height": null,
       "min_width": null,
       "object_fit": null,
       "object_position": null,
       "order": null,
       "overflow": null,
       "overflow_x": null,
       "overflow_y": null,
       "padding": null,
       "right": null,
       "top": null,
       "visibility": null,
       "width": null
      }
     },
     "5e686b48ca34477a9754a03103630cd7": {
      "model_module": "@jupyter-widgets/base",
      "model_module_version": "1.2.0",
      "model_name": "LayoutModel",
      "state": {
       "_model_module": "@jupyter-widgets/base",
       "_model_module_version": "1.2.0",
       "_model_name": "LayoutModel",
       "_view_count": null,
       "_view_module": "@jupyter-widgets/base",
       "_view_module_version": "1.2.0",
       "_view_name": "LayoutView",
       "align_content": null,
       "align_items": null,
       "align_self": null,
       "border": null,
       "bottom": null,
       "display": null,
       "flex": null,
       "flex_flow": null,
       "grid_area": null,
       "grid_auto_columns": null,
       "grid_auto_flow": null,
       "grid_auto_rows": null,
       "grid_column": null,
       "grid_gap": null,
       "grid_row": null,
       "grid_template_areas": null,
       "grid_template_columns": null,
       "grid_template_rows": null,
       "height": null,
       "justify_content": null,
       "justify_items": null,
       "left": null,
       "margin": null,
       "max_height": null,
       "max_width": null,
       "min_height": null,
       "min_width": null,
       "object_fit": null,
       "object_position": null,
       "order": null,
       "overflow": null,
       "overflow_x": null,
       "overflow_y": null,
       "padding": null,
       "right": null,
       "top": null,
       "visibility": null,
       "width": null
      }
     },
     "5e88ff7acb2c4418aee8d56dd49ec344": {
      "model_module": "@jupyter-widgets/controls",
      "model_module_version": "1.5.0",
      "model_name": "FloatProgressModel",
      "state": {
       "_dom_classes": [],
       "_model_module": "@jupyter-widgets/controls",
       "_model_module_version": "1.5.0",
       "_model_name": "FloatProgressModel",
       "_view_count": null,
       "_view_module": "@jupyter-widgets/controls",
       "_view_module_version": "1.5.0",
       "_view_name": "ProgressView",
       "bar_style": "success",
       "description": "",
       "description_tooltip": null,
       "layout": "IPY_MODEL_5e686b48ca34477a9754a03103630cd7",
       "max": 500.0,
       "min": 0.0,
       "orientation": "horizontal",
       "style": "IPY_MODEL_6587dcf9916441d1b8b635da795963bd",
       "value": 500.0
      }
     },
     "5fdc51b045ec4350a01029bad6968097": {
      "model_module": "@jupyter-widgets/base",
      "model_module_version": "1.2.0",
      "model_name": "LayoutModel",
      "state": {
       "_model_module": "@jupyter-widgets/base",
       "_model_module_version": "1.2.0",
       "_model_name": "LayoutModel",
       "_view_count": null,
       "_view_module": "@jupyter-widgets/base",
       "_view_module_version": "1.2.0",
       "_view_name": "LayoutView",
       "align_content": null,
       "align_items": null,
       "align_self": null,
       "border": null,
       "bottom": null,
       "display": null,
       "flex": null,
       "flex_flow": null,
       "grid_area": null,
       "grid_auto_columns": null,
       "grid_auto_flow": null,
       "grid_auto_rows": null,
       "grid_column": null,
       "grid_gap": null,
       "grid_row": null,
       "grid_template_areas": null,
       "grid_template_columns": null,
       "grid_template_rows": null,
       "height": null,
       "justify_content": null,
       "justify_items": null,
       "left": null,
       "margin": null,
       "max_height": null,
       "max_width": null,
       "min_height": null,
       "min_width": null,
       "object_fit": null,
       "object_position": null,
       "order": null,
       "overflow": null,
       "overflow_x": null,
       "overflow_y": null,
       "padding": null,
       "right": null,
       "top": null,
       "visibility": null,
       "width": null
      }
     },
     "6587dcf9916441d1b8b635da795963bd": {
      "model_module": "@jupyter-widgets/controls",
      "model_module_version": "1.5.0",
      "model_name": "ProgressStyleModel",
      "state": {
       "_model_module": "@jupyter-widgets/controls",
       "_model_module_version": "1.5.0",
       "_model_name": "ProgressStyleModel",
       "_view_count": null,
       "_view_module": "@jupyter-widgets/base",
       "_view_module_version": "1.2.0",
       "_view_name": "StyleView",
       "bar_color": null,
       "description_width": ""
      }
     },
     "69e0ee759da44026be451a08797d68fc": {
      "model_module": "@jupyter-widgets/controls",
      "model_module_version": "1.5.0",
      "model_name": "FloatProgressModel",
      "state": {
       "_dom_classes": [],
       "_model_module": "@jupyter-widgets/controls",
       "_model_module_version": "1.5.0",
       "_model_name": "FloatProgressModel",
       "_view_count": null,
       "_view_module": "@jupyter-widgets/controls",
       "_view_module_version": "1.5.0",
       "_view_name": "ProgressView",
       "bar_style": "success",
       "description": "",
       "description_tooltip": null,
       "layout": "IPY_MODEL_c832bbfc295845ed959400ec87ad2948",
       "max": 1000.0,
       "min": 0.0,
       "orientation": "horizontal",
       "style": "IPY_MODEL_dc324ad9bdde46b5a08a9510a8ad896d",
       "value": 1000.0
      }
     },
     "754cc0bbf9ff4c21bcbd6e3d3040041f": {
      "model_module": "@jupyter-widgets/controls",
      "model_module_version": "1.5.0",
      "model_name": "HTMLModel",
      "state": {
       "_dom_classes": [],
       "_model_module": "@jupyter-widgets/controls",
       "_model_module_version": "1.5.0",
       "_model_name": "HTMLModel",
       "_view_count": null,
       "_view_module": "@jupyter-widgets/controls",
       "_view_module_version": "1.5.0",
       "_view_name": "HTMLView",
       "description": "",
       "description_tooltip": null,
       "layout": "IPY_MODEL_b6d9ea8437414035acfe07e2f087a466",
       "placeholder": "​",
       "style": "IPY_MODEL_b9047877bca549b1a5f37576930c8994",
       "value": " 500/500 [03:39&lt;00:00,  2.30epoch/s, loss=5.26e+4, mean_absolute_percentage_error=11.5, mean_absolute_error=5.26e+4]"
      }
     },
     "7e596e8b42bf47bda134a4e3420748de": {
      "model_module": "@jupyter-widgets/base",
      "model_module_version": "1.2.0",
      "model_name": "LayoutModel",
      "state": {
       "_model_module": "@jupyter-widgets/base",
       "_model_module_version": "1.2.0",
       "_model_name": "LayoutModel",
       "_view_count": null,
       "_view_module": "@jupyter-widgets/base",
       "_view_module_version": "1.2.0",
       "_view_name": "LayoutView",
       "align_content": null,
       "align_items": null,
       "align_self": null,
       "border": null,
       "bottom": null,
       "display": null,
       "flex": null,
       "flex_flow": null,
       "grid_area": null,
       "grid_auto_columns": null,
       "grid_auto_flow": null,
       "grid_auto_rows": null,
       "grid_column": null,
       "grid_gap": null,
       "grid_row": null,
       "grid_template_areas": null,
       "grid_template_columns": null,
       "grid_template_rows": null,
       "height": null,
       "justify_content": null,
       "justify_items": null,
       "left": null,
       "margin": null,
       "max_height": null,
       "max_width": null,
       "min_height": null,
       "min_width": null,
       "object_fit": null,
       "object_position": null,
       "order": null,
       "overflow": null,
       "overflow_x": null,
       "overflow_y": null,
       "padding": null,
       "right": null,
       "top": null,
       "visibility": null,
       "width": null
      }
     },
     "7ed1602a03004f5290ff0110e6830487": {
      "model_module": "@jupyter-widgets/base",
      "model_module_version": "1.2.0",
      "model_name": "LayoutModel",
      "state": {
       "_model_module": "@jupyter-widgets/base",
       "_model_module_version": "1.2.0",
       "_model_name": "LayoutModel",
       "_view_count": null,
       "_view_module": "@jupyter-widgets/base",
       "_view_module_version": "1.2.0",
       "_view_name": "LayoutView",
       "align_content": null,
       "align_items": null,
       "align_self": null,
       "border": null,
       "bottom": null,
       "display": null,
       "flex": null,
       "flex_flow": null,
       "grid_area": null,
       "grid_auto_columns": null,
       "grid_auto_flow": null,
       "grid_auto_rows": null,
       "grid_column": null,
       "grid_gap": null,
       "grid_row": null,
       "grid_template_areas": null,
       "grid_template_columns": null,
       "grid_template_rows": null,
       "height": null,
       "justify_content": null,
       "justify_items": null,
       "left": null,
       "margin": null,
       "max_height": null,
       "max_width": null,
       "min_height": null,
       "min_width": null,
       "object_fit": null,
       "object_position": null,
       "order": null,
       "overflow": null,
       "overflow_x": null,
       "overflow_y": null,
       "padding": null,
       "right": null,
       "top": null,
       "visibility": null,
       "width": null
      }
     },
     "85ac85472bc34af590c828af8672967a": {
      "model_module": "@jupyter-widgets/base",
      "model_module_version": "1.2.0",
      "model_name": "LayoutModel",
      "state": {
       "_model_module": "@jupyter-widgets/base",
       "_model_module_version": "1.2.0",
       "_model_name": "LayoutModel",
       "_view_count": null,
       "_view_module": "@jupyter-widgets/base",
       "_view_module_version": "1.2.0",
       "_view_name": "LayoutView",
       "align_content": null,
       "align_items": null,
       "align_self": null,
       "border": null,
       "bottom": null,
       "display": null,
       "flex": null,
       "flex_flow": null,
       "grid_area": null,
       "grid_auto_columns": null,
       "grid_auto_flow": null,
       "grid_auto_rows": null,
       "grid_column": null,
       "grid_gap": null,
       "grid_row": null,
       "grid_template_areas": null,
       "grid_template_columns": null,
       "grid_template_rows": null,
       "height": null,
       "justify_content": null,
       "justify_items": null,
       "left": null,
       "margin": null,
       "max_height": null,
       "max_width": null,
       "min_height": null,
       "min_width": null,
       "object_fit": null,
       "object_position": null,
       "order": null,
       "overflow": null,
       "overflow_x": null,
       "overflow_y": null,
       "padding": null,
       "right": null,
       "top": null,
       "visibility": null,
       "width": null
      }
     },
     "871f404a0b4549b6999c3511acb520dc": {
      "model_module": "@jupyter-widgets/controls",
      "model_module_version": "1.5.0",
      "model_name": "FloatProgressModel",
      "state": {
       "_dom_classes": [],
       "_model_module": "@jupyter-widgets/controls",
       "_model_module_version": "1.5.0",
       "_model_name": "FloatProgressModel",
       "_view_count": null,
       "_view_module": "@jupyter-widgets/controls",
       "_view_module_version": "1.5.0",
       "_view_name": "ProgressView",
       "bar_style": "",
       "description": "",
       "description_tooltip": null,
       "layout": "IPY_MODEL_7ed1602a03004f5290ff0110e6830487",
       "max": 152.0,
       "min": 0.0,
       "orientation": "horizontal",
       "style": "IPY_MODEL_932cf5508bc5479c98df67bc0330c627",
       "value": 152.0
      }
     },
     "8f024d4f95584c58b3807a8a25c48d20": {
      "model_module": "@jupyter-widgets/controls",
      "model_module_version": "1.5.0",
      "model_name": "HBoxModel",
      "state": {
       "_dom_classes": [],
       "_model_module": "@jupyter-widgets/controls",
       "_model_module_version": "1.5.0",
       "_model_name": "HBoxModel",
       "_view_count": null,
       "_view_module": "@jupyter-widgets/controls",
       "_view_module_version": "1.5.0",
       "_view_name": "HBoxView",
       "box_style": "",
       "children": [
        "IPY_MODEL_51686e3664c940e29099fcac9266e5fd",
        "IPY_MODEL_69e0ee759da44026be451a08797d68fc",
        "IPY_MODEL_4f5558df7b8848c6a3f4b5217a0ed17f"
       ],
       "layout": "IPY_MODEL_339b2fc02fb145beb65a2ead1edcaec3"
      }
     },
     "8f2ca8f4b9074564a96bc49b41157dfc": {
      "model_module": "@jupyter-widgets/controls",
      "model_module_version": "1.5.0",
      "model_name": "DescriptionStyleModel",
      "state": {
       "_model_module": "@jupyter-widgets/controls",
       "_model_module_version": "1.5.0",
       "_model_name": "DescriptionStyleModel",
       "_view_count": null,
       "_view_module": "@jupyter-widgets/base",
       "_view_module_version": "1.2.0",
       "_view_name": "StyleView",
       "description_width": ""
      }
     },
     "932cf5508bc5479c98df67bc0330c627": {
      "model_module": "@jupyter-widgets/controls",
      "model_module_version": "1.5.0",
      "model_name": "ProgressStyleModel",
      "state": {
       "_model_module": "@jupyter-widgets/controls",
       "_model_module_version": "1.5.0",
       "_model_name": "ProgressStyleModel",
       "_view_count": null,
       "_view_module": "@jupyter-widgets/base",
       "_view_module_version": "1.2.0",
       "_view_name": "StyleView",
       "bar_color": null,
       "description_width": ""
      }
     },
     "9373d19d6ce34000b74bb13e1fba3c6f": {
      "model_module": "@jupyter-widgets/controls",
      "model_module_version": "1.5.0",
      "model_name": "HTMLModel",
      "state": {
       "_dom_classes": [],
       "_model_module": "@jupyter-widgets/controls",
       "_model_module_version": "1.5.0",
       "_model_name": "HTMLModel",
       "_view_count": null,
       "_view_module": "@jupyter-widgets/controls",
       "_view_module_version": "1.5.0",
       "_view_name": "HTMLView",
       "description": "",
       "description_tooltip": null,
       "layout": "IPY_MODEL_85ac85472bc34af590c828af8672967a",
       "placeholder": "​",
       "style": "IPY_MODEL_20e63526275947c0822e7f2611fbcb08",
       "value": "100%"
      }
     },
     "9511fb78b22c412290115137b1003802": {
      "model_module": "@jupyter-widgets/base",
      "model_module_version": "1.2.0",
      "model_name": "LayoutModel",
      "state": {
       "_model_module": "@jupyter-widgets/base",
       "_model_module_version": "1.2.0",
       "_model_name": "LayoutModel",
       "_view_count": null,
       "_view_module": "@jupyter-widgets/base",
       "_view_module_version": "1.2.0",
       "_view_name": "LayoutView",
       "align_content": null,
       "align_items": null,
       "align_self": null,
       "border": null,
       "bottom": null,
       "display": null,
       "flex": null,
       "flex_flow": null,
       "grid_area": null,
       "grid_auto_columns": null,
       "grid_auto_flow": null,
       "grid_auto_rows": null,
       "grid_column": null,
       "grid_gap": null,
       "grid_row": null,
       "grid_template_areas": null,
       "grid_template_columns": null,
       "grid_template_rows": null,
       "height": null,
       "justify_content": null,
       "justify_items": null,
       "left": null,
       "margin": null,
       "max_height": null,
       "max_width": null,
       "min_height": null,
       "min_width": null,
       "object_fit": null,
       "object_position": null,
       "order": null,
       "overflow": null,
       "overflow_x": null,
       "overflow_y": null,
       "padding": null,
       "right": null,
       "top": null,
       "visibility": null,
       "width": null
      }
     },
     "aee8c3f083834c5ba6c0106414f6c784": {
      "model_module": "@jupyter-widgets/controls",
      "model_module_version": "1.5.0",
      "model_name": "HTMLModel",
      "state": {
       "_dom_classes": [],
       "_model_module": "@jupyter-widgets/controls",
       "_model_module_version": "1.5.0",
       "_model_name": "HTMLModel",
       "_view_count": null,
       "_view_module": "@jupyter-widgets/controls",
       "_view_module_version": "1.5.0",
       "_view_name": "HTMLView",
       "description": "",
       "description_tooltip": null,
       "layout": "IPY_MODEL_04c25c1c362f4e4184b56f88dada497c",
       "placeholder": "​",
       "style": "IPY_MODEL_cb71e8ccdd18493988881408ff69f6e7",
       "value": " 96%"
      }
     },
     "b28c6b682d36406fa92c436c481c62f0": {
      "model_module": "@jupyter-widgets/controls",
      "model_module_version": "1.5.0",
      "model_name": "HTMLModel",
      "state": {
       "_dom_classes": [],
       "_model_module": "@jupyter-widgets/controls",
       "_model_module_version": "1.5.0",
       "_model_name": "HTMLModel",
       "_view_count": null,
       "_view_module": "@jupyter-widgets/controls",
       "_view_module_version": "1.5.0",
       "_view_name": "HTMLView",
       "description": "",
       "description_tooltip": null,
       "layout": "IPY_MODEL_21d80d0bbc2b497ca172b26c3f475700",
       "placeholder": "​",
       "style": "IPY_MODEL_fb76b2ebe89a4f3c92cf1440859529f1",
       "value": " 145/152 [00:00&lt;00:00, 356batch/s, loss=1.72e+4, mean_absolute_percentage_error=3.31, mean_absolute_error=1.72e+4]"
      }
     },
     "b497b7c1ebcb42bb8c74b8d86284d4ed": {
      "model_module": "@jupyter-widgets/controls",
      "model_module_version": "1.5.0",
      "model_name": "DescriptionStyleModel",
      "state": {
       "_model_module": "@jupyter-widgets/controls",
       "_model_module_version": "1.5.0",
       "_model_name": "DescriptionStyleModel",
       "_view_count": null,
       "_view_module": "@jupyter-widgets/base",
       "_view_module_version": "1.2.0",
       "_view_name": "StyleView",
       "description_width": ""
      }
     },
     "b6d9ea8437414035acfe07e2f087a466": {
      "model_module": "@jupyter-widgets/base",
      "model_module_version": "1.2.0",
      "model_name": "LayoutModel",
      "state": {
       "_model_module": "@jupyter-widgets/base",
       "_model_module_version": "1.2.0",
       "_model_name": "LayoutModel",
       "_view_count": null,
       "_view_module": "@jupyter-widgets/base",
       "_view_module_version": "1.2.0",
       "_view_name": "LayoutView",
       "align_content": null,
       "align_items": null,
       "align_self": null,
       "border": null,
       "bottom": null,
       "display": null,
       "flex": null,
       "flex_flow": null,
       "grid_area": null,
       "grid_auto_columns": null,
       "grid_auto_flow": null,
       "grid_auto_rows": null,
       "grid_column": null,
       "grid_gap": null,
       "grid_row": null,
       "grid_template_areas": null,
       "grid_template_columns": null,
       "grid_template_rows": null,
       "height": null,
       "justify_content": null,
       "justify_items": null,
       "left": null,
       "margin": null,
       "max_height": null,
       "max_width": null,
       "min_height": null,
       "min_width": null,
       "object_fit": null,
       "object_position": null,
       "order": null,
       "overflow": null,
       "overflow_x": null,
       "overflow_y": null,
       "padding": null,
       "right": null,
       "top": null,
       "visibility": null,
       "width": null
      }
     },
     "b9047877bca549b1a5f37576930c8994": {
      "model_module": "@jupyter-widgets/controls",
      "model_module_version": "1.5.0",
      "model_name": "DescriptionStyleModel",
      "state": {
       "_model_module": "@jupyter-widgets/controls",
       "_model_module_version": "1.5.0",
       "_model_name": "DescriptionStyleModel",
       "_view_count": null,
       "_view_module": "@jupyter-widgets/base",
       "_view_module_version": "1.2.0",
       "_view_name": "StyleView",
       "description_width": ""
      }
     },
     "b9a200ceb8114ff5a3fe446bc4e82e3b": {
      "model_module": "@jupyter-widgets/controls",
      "model_module_version": "1.5.0",
      "model_name": "FloatProgressModel",
      "state": {
       "_dom_classes": [],
       "_model_module": "@jupyter-widgets/controls",
       "_model_module_version": "1.5.0",
       "_model_name": "FloatProgressModel",
       "_view_count": null,
       "_view_module": "@jupyter-widgets/controls",
       "_view_module_version": "1.5.0",
       "_view_name": "ProgressView",
       "bar_style": "",
       "description": "",
       "description_tooltip": null,
       "layout": "IPY_MODEL_cc12b6bae3d046f09ca220845d53cc7c",
       "max": 152.0,
       "min": 0.0,
       "orientation": "horizontal",
       "style": "IPY_MODEL_fe3f993269ec4c50b49a6a2de7caab65",
       "value": 152.0
      }
     },
     "c11c389e3b9e4dbe91708f12380585de": {
      "model_module": "@jupyter-widgets/controls",
      "model_module_version": "1.5.0",
      "model_name": "HBoxModel",
      "state": {
       "_dom_classes": [],
       "_model_module": "@jupyter-widgets/controls",
       "_model_module_version": "1.5.0",
       "_model_name": "HBoxModel",
       "_view_count": null,
       "_view_module": "@jupyter-widgets/controls",
       "_view_module_version": "1.5.0",
       "_view_name": "HBoxView",
       "box_style": "",
       "children": [
        "IPY_MODEL_e6c61d64643c42fca22fd399e950c32c",
        "IPY_MODEL_871f404a0b4549b6999c3511acb520dc",
        "IPY_MODEL_b28c6b682d36406fa92c436c481c62f0"
       ],
       "layout": "IPY_MODEL_7e596e8b42bf47bda134a4e3420748de"
      }
     },
     "c7892c112cc4433a8e373e7c785bcb49": {
      "model_module": "@jupyter-widgets/controls",
      "model_module_version": "1.5.0",
      "model_name": "DescriptionStyleModel",
      "state": {
       "_model_module": "@jupyter-widgets/controls",
       "_model_module_version": "1.5.0",
       "_model_name": "DescriptionStyleModel",
       "_view_count": null,
       "_view_module": "@jupyter-widgets/base",
       "_view_module_version": "1.2.0",
       "_view_name": "StyleView",
       "description_width": ""
      }
     },
     "c832bbfc295845ed959400ec87ad2948": {
      "model_module": "@jupyter-widgets/base",
      "model_module_version": "1.2.0",
      "model_name": "LayoutModel",
      "state": {
       "_model_module": "@jupyter-widgets/base",
       "_model_module_version": "1.2.0",
       "_model_name": "LayoutModel",
       "_view_count": null,
       "_view_module": "@jupyter-widgets/base",
       "_view_module_version": "1.2.0",
       "_view_name": "LayoutView",
       "align_content": null,
       "align_items": null,
       "align_self": null,
       "border": null,
       "bottom": null,
       "display": null,
       "flex": null,
       "flex_flow": null,
       "grid_area": null,
       "grid_auto_columns": null,
       "grid_auto_flow": null,
       "grid_auto_rows": null,
       "grid_column": null,
       "grid_gap": null,
       "grid_row": null,
       "grid_template_areas": null,
       "grid_template_columns": null,
       "grid_template_rows": null,
       "height": null,
       "justify_content": null,
       "justify_items": null,
       "left": null,
       "margin": null,
       "max_height": null,
       "max_width": null,
       "min_height": null,
       "min_width": null,
       "object_fit": null,
       "object_position": null,
       "order": null,
       "overflow": null,
       "overflow_x": null,
       "overflow_y": null,
       "padding": null,
       "right": null,
       "top": null,
       "visibility": null,
       "width": null
      }
     },
     "cb71e8ccdd18493988881408ff69f6e7": {
      "model_module": "@jupyter-widgets/controls",
      "model_module_version": "1.5.0",
      "model_name": "DescriptionStyleModel",
      "state": {
       "_model_module": "@jupyter-widgets/controls",
       "_model_module_version": "1.5.0",
       "_model_name": "DescriptionStyleModel",
       "_view_count": null,
       "_view_module": "@jupyter-widgets/base",
       "_view_module_version": "1.2.0",
       "_view_name": "StyleView",
       "description_width": ""
      }
     },
     "cc12b6bae3d046f09ca220845d53cc7c": {
      "model_module": "@jupyter-widgets/base",
      "model_module_version": "1.2.0",
      "model_name": "LayoutModel",
      "state": {
       "_model_module": "@jupyter-widgets/base",
       "_model_module_version": "1.2.0",
       "_model_name": "LayoutModel",
       "_view_count": null,
       "_view_module": "@jupyter-widgets/base",
       "_view_module_version": "1.2.0",
       "_view_name": "LayoutView",
       "align_content": null,
       "align_items": null,
       "align_self": null,
       "border": null,
       "bottom": null,
       "display": null,
       "flex": null,
       "flex_flow": null,
       "grid_area": null,
       "grid_auto_columns": null,
       "grid_auto_flow": null,
       "grid_auto_rows": null,
       "grid_column": null,
       "grid_gap": null,
       "grid_row": null,
       "grid_template_areas": null,
       "grid_template_columns": null,
       "grid_template_rows": null,
       "height": null,
       "justify_content": null,
       "justify_items": null,
       "left": null,
       "margin": null,
       "max_height": null,
       "max_width": null,
       "min_height": null,
       "min_width": null,
       "object_fit": null,
       "object_position": null,
       "order": null,
       "overflow": null,
       "overflow_x": null,
       "overflow_y": null,
       "padding": null,
       "right": null,
       "top": null,
       "visibility": null,
       "width": null
      }
     },
     "cd0535efef1c42b9b93f92032c1317b5": {
      "model_module": "@jupyter-widgets/base",
      "model_module_version": "1.2.0",
      "model_name": "LayoutModel",
      "state": {
       "_model_module": "@jupyter-widgets/base",
       "_model_module_version": "1.2.0",
       "_model_name": "LayoutModel",
       "_view_count": null,
       "_view_module": "@jupyter-widgets/base",
       "_view_module_version": "1.2.0",
       "_view_name": "LayoutView",
       "align_content": null,
       "align_items": null,
       "align_self": null,
       "border": null,
       "bottom": null,
       "display": null,
       "flex": null,
       "flex_flow": null,
       "grid_area": null,
       "grid_auto_columns": null,
       "grid_auto_flow": null,
       "grid_auto_rows": null,
       "grid_column": null,
       "grid_gap": null,
       "grid_row": null,
       "grid_template_areas": null,
       "grid_template_columns": null,
       "grid_template_rows": null,
       "height": null,
       "justify_content": null,
       "justify_items": null,
       "left": null,
       "margin": null,
       "max_height": null,
       "max_width": null,
       "min_height": null,
       "min_width": null,
       "object_fit": null,
       "object_position": null,
       "order": null,
       "overflow": null,
       "overflow_x": null,
       "overflow_y": null,
       "padding": null,
       "right": null,
       "top": null,
       "visibility": null,
       "width": null
      }
     },
     "dc324ad9bdde46b5a08a9510a8ad896d": {
      "model_module": "@jupyter-widgets/controls",
      "model_module_version": "1.5.0",
      "model_name": "ProgressStyleModel",
      "state": {
       "_model_module": "@jupyter-widgets/controls",
       "_model_module_version": "1.5.0",
       "_model_name": "ProgressStyleModel",
       "_view_count": null,
       "_view_module": "@jupyter-widgets/base",
       "_view_module_version": "1.2.0",
       "_view_name": "StyleView",
       "bar_color": null,
       "description_width": ""
      }
     },
     "dfbaa463b89049db892938708901f986": {
      "model_module": "@jupyter-widgets/controls",
      "model_module_version": "1.5.0",
      "model_name": "HBoxModel",
      "state": {
       "_dom_classes": [],
       "_model_module": "@jupyter-widgets/controls",
       "_model_module_version": "1.5.0",
       "_model_name": "HBoxModel",
       "_view_count": null,
       "_view_module": "@jupyter-widgets/controls",
       "_view_module_version": "1.5.0",
       "_view_name": "HBoxView",
       "box_style": "",
       "children": [
        "IPY_MODEL_9373d19d6ce34000b74bb13e1fba3c6f",
        "IPY_MODEL_5e88ff7acb2c4418aee8d56dd49ec344",
        "IPY_MODEL_754cc0bbf9ff4c21bcbd6e3d3040041f"
       ],
       "layout": "IPY_MODEL_5fdc51b045ec4350a01029bad6968097"
      }
     },
     "e6c61d64643c42fca22fd399e950c32c": {
      "model_module": "@jupyter-widgets/controls",
      "model_module_version": "1.5.0",
      "model_name": "HTMLModel",
      "state": {
       "_dom_classes": [],
       "_model_module": "@jupyter-widgets/controls",
       "_model_module_version": "1.5.0",
       "_model_name": "HTMLModel",
       "_view_count": null,
       "_view_module": "@jupyter-widgets/controls",
       "_view_module_version": "1.5.0",
       "_view_name": "HTMLView",
       "description": "",
       "description_tooltip": null,
       "layout": "IPY_MODEL_57c976eeab1a4e7c9366dc24ae342200",
       "placeholder": "​",
       "style": "IPY_MODEL_b497b7c1ebcb42bb8c74b8d86284d4ed",
       "value": " 95%"
      }
     },
     "f1b8ae28786e40678a8eafe44ad5fa42": {
      "model_module": "@jupyter-widgets/base",
      "model_module_version": "1.2.0",
      "model_name": "LayoutModel",
      "state": {
       "_model_module": "@jupyter-widgets/base",
       "_model_module_version": "1.2.0",
       "_model_name": "LayoutModel",
       "_view_count": null,
       "_view_module": "@jupyter-widgets/base",
       "_view_module_version": "1.2.0",
       "_view_name": "LayoutView",
       "align_content": null,
       "align_items": null,
       "align_self": null,
       "border": null,
       "bottom": null,
       "display": null,
       "flex": null,
       "flex_flow": null,
       "grid_area": null,
       "grid_auto_columns": null,
       "grid_auto_flow": null,
       "grid_auto_rows": null,
       "grid_column": null,
       "grid_gap": null,
       "grid_row": null,
       "grid_template_areas": null,
       "grid_template_columns": null,
       "grid_template_rows": null,
       "height": null,
       "justify_content": null,
       "justify_items": null,
       "left": null,
       "margin": null,
       "max_height": null,
       "max_width": null,
       "min_height": null,
       "min_width": null,
       "object_fit": null,
       "object_position": null,
       "order": null,
       "overflow": null,
       "overflow_x": null,
       "overflow_y": null,
       "padding": null,
       "right": null,
       "top": null,
       "visibility": null,
       "width": null
      }
     },
     "fb76b2ebe89a4f3c92cf1440859529f1": {
      "model_module": "@jupyter-widgets/controls",
      "model_module_version": "1.5.0",
      "model_name": "DescriptionStyleModel",
      "state": {
       "_model_module": "@jupyter-widgets/controls",
       "_model_module_version": "1.5.0",
       "_model_name": "DescriptionStyleModel",
       "_view_count": null,
       "_view_module": "@jupyter-widgets/base",
       "_view_module_version": "1.2.0",
       "_view_name": "StyleView",
       "description_width": ""
      }
     },
     "fd30d755dead46899d28dfaf95ba257b": {
      "model_module": "@jupyter-widgets/controls",
      "model_module_version": "1.5.0",
      "model_name": "DescriptionStyleModel",
      "state": {
       "_model_module": "@jupyter-widgets/controls",
       "_model_module_version": "1.5.0",
       "_model_name": "DescriptionStyleModel",
       "_view_count": null,
       "_view_module": "@jupyter-widgets/base",
       "_view_module_version": "1.2.0",
       "_view_name": "StyleView",
       "description_width": ""
      }
     },
     "fe3f993269ec4c50b49a6a2de7caab65": {
      "model_module": "@jupyter-widgets/controls",
      "model_module_version": "1.5.0",
      "model_name": "ProgressStyleModel",
      "state": {
       "_model_module": "@jupyter-widgets/controls",
       "_model_module_version": "1.5.0",
       "_model_name": "ProgressStyleModel",
       "_view_count": null,
       "_view_module": "@jupyter-widgets/base",
       "_view_module_version": "1.2.0",
       "_view_name": "StyleView",
       "bar_color": null,
       "description_width": ""
      }
     }
    },
    "version_major": 2,
    "version_minor": 0
   }
  }
 },
 "nbformat": 4,
 "nbformat_minor": 5
}
